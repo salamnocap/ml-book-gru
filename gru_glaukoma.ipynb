{
 "cells": [
  {
   "cell_type": "code",
   "execution_count": 65,
   "metadata": {},
   "outputs": [],
   "source": [
    "import pandas as pd\n",
    "import numpy as np\n",
    "import matplotlib.pyplot as plt\n",
    "from sklearn.model_selection import train_test_split\n",
    "from keras.layers import Dense, Dropout, GRU, LSTM, Bidirectional\n",
    "from keras.models import Sequential\n",
    "from sklearn.metrics import confusion_matrix, accuracy_score"
   ]
  },
  {
   "cell_type": "markdown",
   "metadata": {},
   "source": [
    "## Load Dataset"
   ]
  },
  {
   "cell_type": "code",
   "execution_count": 66,
   "metadata": {},
   "outputs": [],
   "source": [
    "data = pd.read_csv('datasets/GlaucomaM.csv')"
   ]
  },
  {
   "cell_type": "code",
   "execution_count": 67,
   "metadata": {},
   "outputs": [
    {
     "data": {
      "text/html": [
       "<div>\n",
       "<style scoped>\n",
       "    .dataframe tbody tr th:only-of-type {\n",
       "        vertical-align: middle;\n",
       "    }\n",
       "\n",
       "    .dataframe tbody tr th {\n",
       "        vertical-align: top;\n",
       "    }\n",
       "\n",
       "    .dataframe thead th {\n",
       "        text-align: right;\n",
       "    }\n",
       "</style>\n",
       "<table border=\"1\" class=\"dataframe\">\n",
       "  <thead>\n",
       "    <tr style=\"text-align: right;\">\n",
       "      <th></th>\n",
       "      <th>ag</th>\n",
       "      <th>at</th>\n",
       "      <th>as</th>\n",
       "      <th>an</th>\n",
       "      <th>ai</th>\n",
       "      <th>eag</th>\n",
       "      <th>eat</th>\n",
       "      <th>eas</th>\n",
       "      <th>ean</th>\n",
       "      <th>eai</th>\n",
       "      <th>abrg</th>\n",
       "      <th>abrt</th>\n",
       "      <th>abrs</th>\n",
       "      <th>abrn</th>\n",
       "      <th>abri</th>\n",
       "      <th>hic</th>\n",
       "      <th>mhcg</th>\n",
       "      <th>mhct</th>\n",
       "      <th>mhcs</th>\n",
       "      <th>mhcn</th>\n",
       "      <th>mhci</th>\n",
       "      <th>phcg</th>\n",
       "      <th>phct</th>\n",
       "      <th>phcs</th>\n",
       "      <th>phcn</th>\n",
       "      <th>phci</th>\n",
       "      <th>hvc</th>\n",
       "      <th>vbsg</th>\n",
       "      <th>vbst</th>\n",
       "      <th>vbss</th>\n",
       "      <th>vbsn</th>\n",
       "      <th>vbsi</th>\n",
       "      <th>vasg</th>\n",
       "      <th>vast</th>\n",
       "      <th>vass</th>\n",
       "      <th>vasn</th>\n",
       "      <th>vasi</th>\n",
       "      <th>vbrg</th>\n",
       "      <th>vbrt</th>\n",
       "      <th>vbrs</th>\n",
       "      <th>vbrn</th>\n",
       "      <th>vbri</th>\n",
       "      <th>varg</th>\n",
       "      <th>vart</th>\n",
       "      <th>vars</th>\n",
       "      <th>varn</th>\n",
       "      <th>vari</th>\n",
       "      <th>mdg</th>\n",
       "      <th>mdt</th>\n",
       "      <th>mds</th>\n",
       "      <th>mdn</th>\n",
       "      <th>mdi</th>\n",
       "      <th>tmg</th>\n",
       "      <th>tmt</th>\n",
       "      <th>tms</th>\n",
       "      <th>tmn</th>\n",
       "      <th>tmi</th>\n",
       "      <th>mr</th>\n",
       "      <th>rnf</th>\n",
       "      <th>mdic</th>\n",
       "      <th>emd</th>\n",
       "      <th>mv</th>\n",
       "      <th>Class</th>\n",
       "    </tr>\n",
       "  </thead>\n",
       "  <tbody>\n",
       "    <tr>\n",
       "      <th>0</th>\n",
       "      <td>2.220</td>\n",
       "      <td>0.354</td>\n",
       "      <td>0.580</td>\n",
       "      <td>0.686</td>\n",
       "      <td>0.601</td>\n",
       "      <td>1.267</td>\n",
       "      <td>0.336</td>\n",
       "      <td>0.346</td>\n",
       "      <td>0.255</td>\n",
       "      <td>0.331</td>\n",
       "      <td>0.479</td>\n",
       "      <td>0.260</td>\n",
       "      <td>0.107</td>\n",
       "      <td>0.014</td>\n",
       "      <td>0.098</td>\n",
       "      <td>0.214</td>\n",
       "      <td>0.111</td>\n",
       "      <td>0.412</td>\n",
       "      <td>0.036</td>\n",
       "      <td>0.105</td>\n",
       "      <td>-0.022</td>\n",
       "      <td>-0.139</td>\n",
       "      <td>0.242</td>\n",
       "      <td>-0.053</td>\n",
       "      <td>0.010</td>\n",
       "      <td>-0.139</td>\n",
       "      <td>0.613</td>\n",
       "      <td>0.303</td>\n",
       "      <td>0.103</td>\n",
       "      <td>0.088</td>\n",
       "      <td>0.022</td>\n",
       "      <td>0.090</td>\n",
       "      <td>0.062</td>\n",
       "      <td>0.000</td>\n",
       "      <td>0.011</td>\n",
       "      <td>0.032</td>\n",
       "      <td>0.018</td>\n",
       "      <td>0.075</td>\n",
       "      <td>0.039</td>\n",
       "      <td>0.021</td>\n",
       "      <td>0.002</td>\n",
       "      <td>0.014</td>\n",
       "      <td>0.756</td>\n",
       "      <td>0.009</td>\n",
       "      <td>0.209</td>\n",
       "      <td>0.298</td>\n",
       "      <td>0.240</td>\n",
       "      <td>0.705</td>\n",
       "      <td>0.637</td>\n",
       "      <td>0.738</td>\n",
       "      <td>0.596</td>\n",
       "      <td>0.691</td>\n",
       "      <td>-0.236</td>\n",
       "      <td>-0.018</td>\n",
       "      <td>-0.230</td>\n",
       "      <td>-0.510</td>\n",
       "      <td>-0.158</td>\n",
       "      <td>0.841</td>\n",
       "      <td>0.410</td>\n",
       "      <td>0.137</td>\n",
       "      <td>0.239</td>\n",
       "      <td>0.035</td>\n",
       "      <td>normal</td>\n",
       "    </tr>\n",
       "    <tr>\n",
       "      <th>1</th>\n",
       "      <td>2.681</td>\n",
       "      <td>0.475</td>\n",
       "      <td>0.672</td>\n",
       "      <td>0.868</td>\n",
       "      <td>0.667</td>\n",
       "      <td>2.053</td>\n",
       "      <td>0.440</td>\n",
       "      <td>0.520</td>\n",
       "      <td>0.639</td>\n",
       "      <td>0.454</td>\n",
       "      <td>1.090</td>\n",
       "      <td>0.377</td>\n",
       "      <td>0.257</td>\n",
       "      <td>0.212</td>\n",
       "      <td>0.245</td>\n",
       "      <td>0.382</td>\n",
       "      <td>0.140</td>\n",
       "      <td>0.338</td>\n",
       "      <td>0.104</td>\n",
       "      <td>0.080</td>\n",
       "      <td>0.109</td>\n",
       "      <td>-0.015</td>\n",
       "      <td>0.296</td>\n",
       "      <td>-0.015</td>\n",
       "      <td>-0.015</td>\n",
       "      <td>0.036</td>\n",
       "      <td>0.382</td>\n",
       "      <td>0.676</td>\n",
       "      <td>0.181</td>\n",
       "      <td>0.186</td>\n",
       "      <td>0.141</td>\n",
       "      <td>0.169</td>\n",
       "      <td>0.029</td>\n",
       "      <td>0.001</td>\n",
       "      <td>0.007</td>\n",
       "      <td>0.011</td>\n",
       "      <td>0.010</td>\n",
       "      <td>0.370</td>\n",
       "      <td>0.127</td>\n",
       "      <td>0.099</td>\n",
       "      <td>0.050</td>\n",
       "      <td>0.093</td>\n",
       "      <td>0.410</td>\n",
       "      <td>0.006</td>\n",
       "      <td>0.105</td>\n",
       "      <td>0.181</td>\n",
       "      <td>0.117</td>\n",
       "      <td>0.898</td>\n",
       "      <td>0.850</td>\n",
       "      <td>0.907</td>\n",
       "      <td>0.771</td>\n",
       "      <td>0.940</td>\n",
       "      <td>-0.211</td>\n",
       "      <td>-0.014</td>\n",
       "      <td>-0.165</td>\n",
       "      <td>-0.317</td>\n",
       "      <td>-0.192</td>\n",
       "      <td>0.924</td>\n",
       "      <td>0.256</td>\n",
       "      <td>0.252</td>\n",
       "      <td>0.329</td>\n",
       "      <td>0.022</td>\n",
       "      <td>normal</td>\n",
       "    </tr>\n",
       "    <tr>\n",
       "      <th>2</th>\n",
       "      <td>1.979</td>\n",
       "      <td>0.343</td>\n",
       "      <td>0.508</td>\n",
       "      <td>0.624</td>\n",
       "      <td>0.504</td>\n",
       "      <td>1.200</td>\n",
       "      <td>0.299</td>\n",
       "      <td>0.396</td>\n",
       "      <td>0.259</td>\n",
       "      <td>0.246</td>\n",
       "      <td>0.465</td>\n",
       "      <td>0.209</td>\n",
       "      <td>0.112</td>\n",
       "      <td>0.041</td>\n",
       "      <td>0.103</td>\n",
       "      <td>0.195</td>\n",
       "      <td>0.062</td>\n",
       "      <td>0.356</td>\n",
       "      <td>0.045</td>\n",
       "      <td>-0.009</td>\n",
       "      <td>-0.048</td>\n",
       "      <td>-0.149</td>\n",
       "      <td>0.206</td>\n",
       "      <td>-0.092</td>\n",
       "      <td>-0.081</td>\n",
       "      <td>-0.149</td>\n",
       "      <td>0.557</td>\n",
       "      <td>0.300</td>\n",
       "      <td>0.084</td>\n",
       "      <td>0.088</td>\n",
       "      <td>0.046</td>\n",
       "      <td>0.082</td>\n",
       "      <td>0.036</td>\n",
       "      <td>0.002</td>\n",
       "      <td>0.004</td>\n",
       "      <td>0.016</td>\n",
       "      <td>0.013</td>\n",
       "      <td>0.081</td>\n",
       "      <td>0.034</td>\n",
       "      <td>0.019</td>\n",
       "      <td>0.007</td>\n",
       "      <td>0.021</td>\n",
       "      <td>0.565</td>\n",
       "      <td>0.014</td>\n",
       "      <td>0.132</td>\n",
       "      <td>0.243</td>\n",
       "      <td>0.177</td>\n",
       "      <td>0.687</td>\n",
       "      <td>0.643</td>\n",
       "      <td>0.689</td>\n",
       "      <td>0.684</td>\n",
       "      <td>0.700</td>\n",
       "      <td>-0.185</td>\n",
       "      <td>-0.097</td>\n",
       "      <td>-0.235</td>\n",
       "      <td>-0.337</td>\n",
       "      <td>-0.020</td>\n",
       "      <td>0.795</td>\n",
       "      <td>0.378</td>\n",
       "      <td>0.152</td>\n",
       "      <td>0.250</td>\n",
       "      <td>0.029</td>\n",
       "      <td>normal</td>\n",
       "    </tr>\n",
       "    <tr>\n",
       "      <th>3</th>\n",
       "      <td>1.747</td>\n",
       "      <td>0.269</td>\n",
       "      <td>0.476</td>\n",
       "      <td>0.525</td>\n",
       "      <td>0.476</td>\n",
       "      <td>0.612</td>\n",
       "      <td>0.147</td>\n",
       "      <td>0.017</td>\n",
       "      <td>0.044</td>\n",
       "      <td>0.405</td>\n",
       "      <td>0.170</td>\n",
       "      <td>0.062</td>\n",
       "      <td>0.000</td>\n",
       "      <td>0.000</td>\n",
       "      <td>0.108</td>\n",
       "      <td>-0.030</td>\n",
       "      <td>-0.015</td>\n",
       "      <td>0.074</td>\n",
       "      <td>-0.084</td>\n",
       "      <td>-0.050</td>\n",
       "      <td>0.035</td>\n",
       "      <td>-0.182</td>\n",
       "      <td>-0.097</td>\n",
       "      <td>-0.125</td>\n",
       "      <td>-0.138</td>\n",
       "      <td>-0.182</td>\n",
       "      <td>0.373</td>\n",
       "      <td>0.048</td>\n",
       "      <td>0.011</td>\n",
       "      <td>0.000</td>\n",
       "      <td>0.000</td>\n",
       "      <td>0.036</td>\n",
       "      <td>0.070</td>\n",
       "      <td>0.005</td>\n",
       "      <td>0.030</td>\n",
       "      <td>0.033</td>\n",
       "      <td>0.002</td>\n",
       "      <td>0.005</td>\n",
       "      <td>0.001</td>\n",
       "      <td>0.000</td>\n",
       "      <td>0.000</td>\n",
       "      <td>0.004</td>\n",
       "      <td>0.380</td>\n",
       "      <td>0.032</td>\n",
       "      <td>0.147</td>\n",
       "      <td>0.151</td>\n",
       "      <td>0.050</td>\n",
       "      <td>0.207</td>\n",
       "      <td>0.171</td>\n",
       "      <td>0.022</td>\n",
       "      <td>0.046</td>\n",
       "      <td>0.221</td>\n",
       "      <td>-0.148</td>\n",
       "      <td>-0.035</td>\n",
       "      <td>-0.449</td>\n",
       "      <td>-0.217</td>\n",
       "      <td>-0.091</td>\n",
       "      <td>0.746</td>\n",
       "      <td>0.200</td>\n",
       "      <td>0.027</td>\n",
       "      <td>0.078</td>\n",
       "      <td>0.023</td>\n",
       "      <td>normal</td>\n",
       "    </tr>\n",
       "    <tr>\n",
       "      <th>4</th>\n",
       "      <td>2.990</td>\n",
       "      <td>0.599</td>\n",
       "      <td>0.686</td>\n",
       "      <td>1.039</td>\n",
       "      <td>0.667</td>\n",
       "      <td>2.513</td>\n",
       "      <td>0.543</td>\n",
       "      <td>0.607</td>\n",
       "      <td>0.871</td>\n",
       "      <td>0.492</td>\n",
       "      <td>1.800</td>\n",
       "      <td>0.431</td>\n",
       "      <td>0.494</td>\n",
       "      <td>0.601</td>\n",
       "      <td>0.274</td>\n",
       "      <td>0.383</td>\n",
       "      <td>0.089</td>\n",
       "      <td>0.233</td>\n",
       "      <td>0.145</td>\n",
       "      <td>0.023</td>\n",
       "      <td>0.007</td>\n",
       "      <td>-0.131</td>\n",
       "      <td>0.163</td>\n",
       "      <td>0.055</td>\n",
       "      <td>-0.131</td>\n",
       "      <td>-0.115</td>\n",
       "      <td>0.405</td>\n",
       "      <td>0.889</td>\n",
       "      <td>0.151</td>\n",
       "      <td>0.253</td>\n",
       "      <td>0.330</td>\n",
       "      <td>0.155</td>\n",
       "      <td>0.020</td>\n",
       "      <td>0.001</td>\n",
       "      <td>0.004</td>\n",
       "      <td>0.008</td>\n",
       "      <td>0.007</td>\n",
       "      <td>0.532</td>\n",
       "      <td>0.103</td>\n",
       "      <td>0.173</td>\n",
       "      <td>0.181</td>\n",
       "      <td>0.075</td>\n",
       "      <td>0.228</td>\n",
       "      <td>0.011</td>\n",
       "      <td>0.026</td>\n",
       "      <td>0.105</td>\n",
       "      <td>0.087</td>\n",
       "      <td>0.721</td>\n",
       "      <td>0.638</td>\n",
       "      <td>0.730</td>\n",
       "      <td>0.730</td>\n",
       "      <td>0.640</td>\n",
       "      <td>-0.052</td>\n",
       "      <td>-0.105</td>\n",
       "      <td>0.084</td>\n",
       "      <td>-0.012</td>\n",
       "      <td>-0.054</td>\n",
       "      <td>0.977</td>\n",
       "      <td>0.193</td>\n",
       "      <td>0.297</td>\n",
       "      <td>0.354</td>\n",
       "      <td>0.034</td>\n",
       "      <td>normal</td>\n",
       "    </tr>\n",
       "  </tbody>\n",
       "</table>\n",
       "</div>"
      ],
      "text/plain": [
       "      ag     at     as     an     ai  ...    rnf   mdic    emd     mv   Class\n",
       "0  2.220  0.354  0.580  0.686  0.601  ...  0.410  0.137  0.239  0.035  normal\n",
       "1  2.681  0.475  0.672  0.868  0.667  ...  0.256  0.252  0.329  0.022  normal\n",
       "2  1.979  0.343  0.508  0.624  0.504  ...  0.378  0.152  0.250  0.029  normal\n",
       "3  1.747  0.269  0.476  0.525  0.476  ...  0.200  0.027  0.078  0.023  normal\n",
       "4  2.990  0.599  0.686  1.039  0.667  ...  0.193  0.297  0.354  0.034  normal\n",
       "\n",
       "[5 rows x 63 columns]"
      ]
     },
     "execution_count": 67,
     "metadata": {},
     "output_type": "execute_result"
    }
   ],
   "source": [
    "data.head()"
   ]
  },
  {
   "cell_type": "code",
   "execution_count": 68,
   "metadata": {},
   "outputs": [
    {
     "name": "stdout",
     "output_type": "stream",
     "text": [
      "Class\n",
      "normal      98\n",
      "glaucoma    98\n",
      "Name: count, dtype: int64\n"
     ]
    }
   ],
   "source": [
    "print(data[\"Class\"].value_counts())"
   ]
  },
  {
   "cell_type": "code",
   "execution_count": 69,
   "metadata": {},
   "outputs": [],
   "source": [
    "y = data['Class'].apply(lambda x: 0 if x == 'normal' else 1).to_numpy()\n",
    "x = data.drop(['Class'], axis=1).to_numpy()"
   ]
  },
  {
   "cell_type": "code",
   "execution_count": 70,
   "metadata": {},
   "outputs": [
    {
     "data": {
      "text/plain": [
       "((196, 62), (196,))"
      ]
     },
     "execution_count": 70,
     "metadata": {},
     "output_type": "execute_result"
    }
   ],
   "source": [
    "x.shape, y.shape"
   ]
  },
  {
   "cell_type": "code",
   "execution_count": 71,
   "metadata": {},
   "outputs": [],
   "source": [
    "x_train, x_test, y_train, y_test = train_test_split(x, y, test_size=0.2, random_state=42)"
   ]
  },
  {
   "cell_type": "markdown",
   "metadata": {},
   "source": [
    "## GRU"
   ]
  },
  {
   "cell_type": "code",
   "execution_count": 72,
   "metadata": {},
   "outputs": [
    {
     "name": "stdout",
     "output_type": "stream",
     "text": [
      "Model: \"sequential_7\"\n",
      "_________________________________________________________________\n",
      " Layer (type)                Output Shape              Param #   \n",
      "=================================================================\n",
      " gru_6 (GRU)                 (None, 62, 62)            12090     \n",
      "                                                                 \n",
      " dropout_21 (Dropout)        (None, 62, 62)            0         \n",
      "                                                                 \n",
      " gru_7 (GRU)                 (None, 62, 50)            17100     \n",
      "                                                                 \n",
      " dropout_22 (Dropout)        (None, 62, 50)            0         \n",
      "                                                                 \n",
      " gru_8 (GRU)                 (None, 50)                15300     \n",
      "                                                                 \n",
      " dropout_23 (Dropout)        (None, 50)                0         \n",
      "                                                                 \n",
      " dense_7 (Dense)             (None, 1)                 51        \n",
      "                                                                 \n",
      "=================================================================\n",
      "Total params: 44541 (173.99 KB)\n",
      "Trainable params: 44541 (173.99 KB)\n",
      "Non-trainable params: 0 (0.00 Byte)\n",
      "_________________________________________________________________\n"
     ]
    }
   ],
   "source": [
    "model = Sequential()\n",
    "model.add(GRU(62, return_sequences=True, input_shape=(62, 1)))\n",
    "model.add(Dropout(0.2))\n",
    "model.add(GRU(50, return_sequences=True))\n",
    "model.add(Dropout(0.2))\n",
    "model.add(GRU(50, return_sequences=False))\n",
    "model.add(Dropout(0.2))\n",
    "model.add(Dense(1, activation = \"sigmoid\"))\n",
    "model.compile(loss='binary_crossentropy', optimizer='adam', metrics=['accuracy'])\n",
    "model.summary()"
   ]
  },
  {
   "cell_type": "code",
   "execution_count": 73,
   "metadata": {},
   "outputs": [
    {
     "name": "stdout",
     "output_type": "stream",
     "text": [
      "Epoch 1/15\n"
     ]
    },
    {
     "name": "stdout",
     "output_type": "stream",
     "text": [
      "1/1 [==============================] - 2s 2s/step - loss: 0.6924 - accuracy: 0.4808 - val_loss: 0.6902 - val_accuracy: 0.4750\n",
      "Epoch 2/15\n",
      "1/1 [==============================] - 0s 132ms/step - loss: 0.6904 - accuracy: 0.5128 - val_loss: 0.6884 - val_accuracy: 0.4750\n",
      "Epoch 3/15\n",
      "1/1 [==============================] - 0s 126ms/step - loss: 0.6901 - accuracy: 0.5064 - val_loss: 0.6862 - val_accuracy: 0.4750\n",
      "Epoch 4/15\n",
      "1/1 [==============================] - 0s 128ms/step - loss: 0.6885 - accuracy: 0.5064 - val_loss: 0.6836 - val_accuracy: 0.4750\n",
      "Epoch 5/15\n",
      "1/1 [==============================] - 0s 119ms/step - loss: 0.6871 - accuracy: 0.5128 - val_loss: 0.6805 - val_accuracy: 0.5000\n",
      "Epoch 6/15\n",
      "1/1 [==============================] - 0s 121ms/step - loss: 0.6857 - accuracy: 0.5321 - val_loss: 0.6769 - val_accuracy: 0.5250\n",
      "Epoch 7/15\n",
      "1/1 [==============================] - 0s 118ms/step - loss: 0.6840 - accuracy: 0.6026 - val_loss: 0.6726 - val_accuracy: 0.5750\n",
      "Epoch 8/15\n",
      "1/1 [==============================] - 0s 114ms/step - loss: 0.6807 - accuracy: 0.6090 - val_loss: 0.6676 - val_accuracy: 0.6750\n",
      "Epoch 9/15\n",
      "1/1 [==============================] - 0s 120ms/step - loss: 0.6770 - accuracy: 0.6538 - val_loss: 0.6617 - val_accuracy: 0.8000\n",
      "Epoch 10/15\n",
      "1/1 [==============================] - 0s 120ms/step - loss: 0.6747 - accuracy: 0.6731 - val_loss: 0.6547 - val_accuracy: 0.8250\n",
      "Epoch 11/15\n",
      "1/1 [==============================] - 0s 118ms/step - loss: 0.6713 - accuracy: 0.6731 - val_loss: 0.6465 - val_accuracy: 0.8250\n",
      "Epoch 12/15\n",
      "1/1 [==============================] - 0s 126ms/step - loss: 0.6668 - accuracy: 0.6538 - val_loss: 0.6369 - val_accuracy: 0.8750\n",
      "Epoch 13/15\n",
      "1/1 [==============================] - 0s 121ms/step - loss: 0.6642 - accuracy: 0.6731 - val_loss: 0.6256 - val_accuracy: 0.9000\n",
      "Epoch 14/15\n",
      "1/1 [==============================] - 0s 121ms/step - loss: 0.6558 - accuracy: 0.6667 - val_loss: 0.6120 - val_accuracy: 0.9000\n",
      "Epoch 15/15\n",
      "1/1 [==============================] - 0s 123ms/step - loss: 0.6472 - accuracy: 0.6731 - val_loss: 0.5964 - val_accuracy: 0.8750\n"
     ]
    },
    {
     "data": {
      "text/plain": [
       "<keras.src.callbacks.History at 0x2d943b050>"
      ]
     },
     "execution_count": 73,
     "metadata": {},
     "output_type": "execute_result"
    }
   ],
   "source": [
    "model.fit(x_train, y_train, epochs=15, batch_size=784, validation_data=(x_test, y_test))"
   ]
  },
  {
   "cell_type": "code",
   "execution_count": 74,
   "metadata": {},
   "outputs": [
    {
     "data": {
      "image/png": "[encoded data removed]",
      "text/plain": [
       "<Figure size 640x480 with 1 Axes>"
      ]
     },
     "metadata": {},
     "output_type": "display_data"
    },
    {
     "data": {
      "image/png": "[encoded data removed]",
      "text/plain": [
       "<Figure size 640x480 with 1 Axes>"
      ]
     },
     "metadata": {},
     "output_type": "display_data"
    }
   ],
   "source": [
    "plt.plot(model.history.history['accuracy'])\n",
    "plt.plot(model.history.history['val_accuracy'])\n",
    "plt.title('model accuracy')\n",
    "plt.ylabel('accuracy')\n",
    "plt.xlabel('epoch')\n",
    "plt.legend(['Train', 'Test'], loc='upper left')\n",
    "plt.show()\n",
    "plt.plot(model.history.history['loss'])\n",
    "plt.plot(model.history.history['val_loss'])\n",
    "plt.title('model loss')\n",
    "plt.ylabel('loss')\n",
    "plt.xlabel('epoch')\n",
    "plt.legend(['Train', 'Test'], loc='upper left')\n",
    "plt.show()"
   ]
  },
  {
   "cell_type": "code",
   "execution_count": 75,
   "metadata": {},
   "outputs": [
    {
     "name": "stdout",
     "output_type": "stream",
     "text": [
      "5/5 [==============================] - 0s 8ms/step - loss: 0.6420 - accuracy: 0.6410\n",
      "Train Accuracy:  0.6410256624221802\n",
      "2/2 [==============================] - 0s 6ms/step - loss: 0.5964 - accuracy: 0.8750\n",
      "Test Accuracy:  0.875\n"
     ]
    }
   ],
   "source": [
    "print(\"Train Accuracy: \", model.evaluate(x_train, y_train)[1])\n",
    "print(\"Test Accuracy: \", model.evaluate(x_test, y_test)[1])"
   ]
  },
  {
   "cell_type": "code",
   "execution_count": 76,
   "metadata": {},
   "outputs": [
    {
     "name": "stdout",
     "output_type": "stream",
     "text": [
      "2/2 [==============================] - 0s 7ms/step\n"
     ]
    }
   ],
   "source": [
    "y_hat = model.predict(x_test)\n",
    "y_hat = np.round(y_hat).flatten()\n",
    "gru_acc = accuracy_score(y_test, y_hat)"
   ]
  },
  {
   "cell_type": "code",
   "execution_count": 77,
   "metadata": {},
   "outputs": [
    {
     "data": {
      "text/plain": [
       "array([[17,  4],\n",
       "       [ 1, 18]])"
      ]
     },
     "execution_count": 77,
     "metadata": {},
     "output_type": "execute_result"
    }
   ],
   "source": [
    "confusion_matrix(y_test, y_hat)"
   ]
  },
  {
   "cell_type": "markdown",
   "metadata": {},
   "source": [
    "## LSTM"
   ]
  },
  {
   "cell_type": "code",
   "execution_count": 78,
   "metadata": {},
   "outputs": [
    {
     "name": "stdout",
     "output_type": "stream",
     "text": [
      "Model: \"sequential_8\"\n",
      "_________________________________________________________________\n",
      " Layer (type)                Output Shape              Param #   \n",
      "=================================================================\n",
      " lstm_15 (LSTM)              (None, 62, 62)            15872     \n",
      "                                                                 \n",
      " dropout_24 (Dropout)        (None, 62, 62)            0         \n",
      "                                                                 \n",
      " lstm_16 (LSTM)              (None, 62, 50)            22600     \n",
      "                                                                 \n",
      " dropout_25 (Dropout)        (None, 62, 50)            0         \n",
      "                                                                 \n",
      " lstm_17 (LSTM)              (None, 50)                20200     \n",
      "                                                                 \n",
      " dropout_26 (Dropout)        (None, 50)                0         \n",
      "                                                                 \n",
      " dense_8 (Dense)             (None, 1)                 51        \n",
      "                                                                 \n",
      "=================================================================\n",
      "Total params: 58723 (229.39 KB)\n",
      "Trainable params: 58723 (229.39 KB)\n",
      "Non-trainable params: 0 (0.00 Byte)\n",
      "_________________________________________________________________\n"
     ]
    }
   ],
   "source": [
    "model = Sequential()\n",
    "model.add(LSTM(62, return_sequences=True, input_shape=(62, 1)))\n",
    "model.add(Dropout(0.2))\n",
    "model.add(LSTM(50, return_sequences=True))\n",
    "model.add(Dropout(0.2))\n",
    "model.add(LSTM(50, return_sequences=False))\n",
    "model.add(Dropout(0.2))\n",
    "model.add(Dense(1, activation = \"sigmoid\"))\n",
    "model.compile(loss='binary_crossentropy', optimizer='adam', metrics=['accuracy'])\n",
    "model.summary()"
   ]
  },
  {
   "cell_type": "code",
   "execution_count": 79,
   "metadata": {},
   "outputs": [
    {
     "name": "stdout",
     "output_type": "stream",
     "text": [
      "Epoch 1/15\n",
      "1/1 [==============================] - 2s 2s/step - loss: 0.6935 - accuracy: 0.5385 - val_loss: 0.6912 - val_accuracy: 0.4750\n",
      "Epoch 2/15\n",
      "1/1 [==============================] - 0s 128ms/step - loss: 0.6916 - accuracy: 0.5064 - val_loss: 0.6897 - val_accuracy: 0.4750\n",
      "Epoch 3/15\n",
      "1/1 [==============================] - 0s 147ms/step - loss: 0.6891 - accuracy: 0.5064 - val_loss: 0.6881 - val_accuracy: 0.4750\n",
      "Epoch 4/15\n",
      "1/1 [==============================] - 0s 141ms/step - loss: 0.6890 - accuracy: 0.5064 - val_loss: 0.6862 - val_accuracy: 0.4750\n",
      "Epoch 5/15\n",
      "1/1 [==============================] - 0s 139ms/step - loss: 0.6867 - accuracy: 0.5064 - val_loss: 0.6838 - val_accuracy: 0.4750\n",
      "Epoch 6/15\n",
      "1/1 [==============================] - 0s 144ms/step - loss: 0.6856 - accuracy: 0.5064 - val_loss: 0.6809 - val_accuracy: 0.5000\n",
      "Epoch 7/15\n",
      "1/1 [==============================] - 0s 149ms/step - loss: 0.6841 - accuracy: 0.5064 - val_loss: 0.6772 - val_accuracy: 0.5250\n",
      "Epoch 8/15\n",
      "1/1 [==============================] - 0s 143ms/step - loss: 0.6808 - accuracy: 0.5385 - val_loss: 0.6727 - val_accuracy: 0.5250\n",
      "Epoch 9/15\n",
      "1/1 [==============================] - 0s 147ms/step - loss: 0.6808 - accuracy: 0.5577 - val_loss: 0.6674 - val_accuracy: 0.5250\n",
      "Epoch 10/15\n",
      "1/1 [==============================] - 0s 134ms/step - loss: 0.6783 - accuracy: 0.5705 - val_loss: 0.6608 - val_accuracy: 0.5250\n",
      "Epoch 11/15\n",
      "1/1 [==============================] - 0s 141ms/step - loss: 0.6738 - accuracy: 0.6026 - val_loss: 0.6522 - val_accuracy: 0.6250\n",
      "Epoch 12/15\n",
      "1/1 [==============================] - 0s 145ms/step - loss: 0.6720 - accuracy: 0.6090 - val_loss: 0.6415 - val_accuracy: 0.6750\n",
      "Epoch 13/15\n",
      "1/1 [==============================] - 0s 143ms/step - loss: 0.6681 - accuracy: 0.5897 - val_loss: 0.6268 - val_accuracy: 0.7750\n",
      "Epoch 14/15\n",
      "1/1 [==============================] - 0s 145ms/step - loss: 0.6626 - accuracy: 0.6026 - val_loss: 0.6065 - val_accuracy: 0.7750\n",
      "Epoch 15/15\n",
      "1/1 [==============================] - 0s 144ms/step - loss: 0.6633 - accuracy: 0.6346 - val_loss: 0.5817 - val_accuracy: 0.8000\n"
     ]
    },
    {
     "data": {
      "text/plain": [
       "<keras.src.callbacks.History at 0x2e01f2850>"
      ]
     },
     "execution_count": 79,
     "metadata": {},
     "output_type": "execute_result"
    }
   ],
   "source": [
    "model.fit(x_train, y_train, epochs=15, batch_size=784, validation_data=(x_test, y_test))"
   ]
  },
  {
   "cell_type": "code",
   "execution_count": 80,
   "metadata": {},
   "outputs": [
    {
     "data": {
      "image/png": "[encoded data removed]",
      "text/plain": [
       "<Figure size 640x480 with 1 Axes>"
      ]
     },
     "metadata": {},
     "output_type": "display_data"
    },
    {
     "data": {
      "image/png": "[encoded data removed]",
      "text/plain": [
       "<Figure size 640x480 with 1 Axes>"
      ]
     },
     "metadata": {},
     "output_type": "display_data"
    }
   ],
   "source": [
    "plt.plot(model.history.history['accuracy'])\n",
    "plt.plot(model.history.history['val_accuracy'])\n",
    "plt.title('model accuracy')\n",
    "plt.ylabel('accuracy')\n",
    "plt.xlabel('epoch')\n",
    "plt.legend(['Train', 'Test'], loc='upper left')\n",
    "plt.show()\n",
    "plt.plot(model.history.history['loss'])\n",
    "plt.plot(model.history.history['val_loss'])\n",
    "plt.title('model loss')\n",
    "plt.ylabel('loss')\n",
    "plt.xlabel('epoch')\n",
    "plt.legend(['Train', 'Test'], loc='upper left')\n",
    "plt.show()"
   ]
  },
  {
   "cell_type": "code",
   "execution_count": 81,
   "metadata": {},
   "outputs": [
    {
     "name": "stdout",
     "output_type": "stream",
     "text": [
      "5/5 [==============================] - 0s 9ms/step - loss: 0.6512 - accuracy: 0.6346\n",
      "Train Accuracy:  0.6346153616905212\n",
      "2/2 [==============================] - 0s 6ms/step - loss: 0.5817 - accuracy: 0.8000\n",
      "Test Accuracy:  0.800000011920929\n"
     ]
    }
   ],
   "source": [
    "print(\"Train Accuracy: \", model.evaluate(x_train, y_train)[1])\n",
    "print(\"Test Accuracy: \", model.evaluate(x_test, y_test)[1])"
   ]
  },
  {
   "cell_type": "code",
   "execution_count": 82,
   "metadata": {},
   "outputs": [
    {
     "name": "stdout",
     "output_type": "stream",
     "text": [
      "2/2 [==============================] - 0s 7ms/step\n"
     ]
    }
   ],
   "source": [
    "y_hat = model.predict(x_test)\n",
    "y_hat = np.round(y_hat).flatten()\n",
    "\n",
    "lstm_acc = accuracy_score(y_test, y_hat)"
   ]
  },
  {
   "cell_type": "code",
   "execution_count": 83,
   "metadata": {},
   "outputs": [
    {
     "data": {
      "text/plain": [
       "array([[17,  4],\n",
       "       [ 4, 15]])"
      ]
     },
     "execution_count": 83,
     "metadata": {},
     "output_type": "execute_result"
    }
   ],
   "source": [
    "confusion_matrix(y_test, y_hat)"
   ]
  },
  {
   "cell_type": "code",
   "execution_count": 93,
   "metadata": {},
   "outputs": [
    {
     "data": {
      "image/png": "[encoded data removed]",
      "text/plain": [
       "<Figure size 640x480 with 1 Axes>"
      ]
     },
     "metadata": {},
     "output_type": "display_data"
    }
   ],
   "source": [
    "plt.bar(['GRU', 'LSTM'], [gru_acc, lstm_acc], color=['green', 'red'])\n",
    "plt.text(0, gru_acc, str(round(gru_acc*100, 3)))\n",
    "plt.text(1, lstm_acc, str(round(lstm_acc*100, 3)))\n",
    "plt.title('GRU vs LSTM')\n",
    "plt.ylabel('Accuracy')\n",
    "plt.xlabel('Model')\n",
    "plt.show()"
   ]
  }
 ],
 "metadata": {
  "kernelspec": {
   "display_name": "base",
   "language": "python",
   "name": "python3"
  },
  "language_info": {
   "codemirror_mode": {
    "name": "ipython",
    "version": 3
   },
   "file_extension": ".py",
   "mimetype": "text/x-python",
   "name": "python",
   "nbconvert_exporter": "python",
   "pygments_lexer": "ipython3",
   "version": "3.11.4"
  }
 },
 "nbformat": 4,
 "nbformat_minor": 2
}
