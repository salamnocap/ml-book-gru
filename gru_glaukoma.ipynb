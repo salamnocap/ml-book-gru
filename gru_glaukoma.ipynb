{
 "cells": [
  {
   "cell_type": "code",
   "execution_count": 108,
   "metadata": {},
   "outputs": [],
   "source": [
    "import pandas as pd\n",
    "import numpy as np\n",
    "import matplotlib.pyplot as plt\n",
    "from sklearn.model_selection import train_test_split\n",
    "from keras.layers import Dense, Dropout, GRU, LSTM\n",
    "from keras.models import Sequential\n",
    "from sklearn.metrics import confusion_matrix, accuracy_score, ConfusionMatrixDisplay\n",
    "import plotly.express as px "
   ]
  },
  {
   "cell_type": "markdown",
   "metadata": {},
   "source": [
    "## Load Dataset"
   ]
  },
  {
   "cell_type": "code",
   "execution_count": 109,
   "metadata": {},
   "outputs": [],
   "source": [
    "data = pd.read_csv('datasets/GlaucomaM.csv')"
   ]
  },
  {
   "cell_type": "code",
   "execution_count": 110,
   "metadata": {},
   "outputs": [
    {
     "data": {
      "text/html": [
       "<div>\n",
       "<style scoped>\n",
       "    .dataframe tbody tr th:only-of-type {\n",
       "        vertical-align: middle;\n",
       "    }\n",
       "\n",
       "    .dataframe tbody tr th {\n",
       "        vertical-align: top;\n",
       "    }\n",
       "\n",
       "    .dataframe thead th {\n",
       "        text-align: right;\n",
       "    }\n",
       "</style>\n",
       "<table border=\"1\" class=\"dataframe\">\n",
       "  <thead>\n",
       "    <tr style=\"text-align: right;\">\n",
       "      <th></th>\n",
       "      <th>ag</th>\n",
       "      <th>at</th>\n",
       "      <th>as</th>\n",
       "      <th>an</th>\n",
       "      <th>ai</th>\n",
       "      <th>eag</th>\n",
       "      <th>eat</th>\n",
       "      <th>eas</th>\n",
       "      <th>ean</th>\n",
       "      <th>eai</th>\n",
       "      <th>...</th>\n",
       "      <th>tmt</th>\n",
       "      <th>tms</th>\n",
       "      <th>tmn</th>\n",
       "      <th>tmi</th>\n",
       "      <th>mr</th>\n",
       "      <th>rnf</th>\n",
       "      <th>mdic</th>\n",
       "      <th>emd</th>\n",
       "      <th>mv</th>\n",
       "      <th>Class</th>\n",
       "    </tr>\n",
       "  </thead>\n",
       "  <tbody>\n",
       "    <tr>\n",
       "      <th>0</th>\n",
       "      <td>2.220</td>\n",
       "      <td>0.354</td>\n",
       "      <td>0.580</td>\n",
       "      <td>0.686</td>\n",
       "      <td>0.601</td>\n",
       "      <td>1.267</td>\n",
       "      <td>0.336</td>\n",
       "      <td>0.346</td>\n",
       "      <td>0.255</td>\n",
       "      <td>0.331</td>\n",
       "      <td>...</td>\n",
       "      <td>-0.018</td>\n",
       "      <td>-0.230</td>\n",
       "      <td>-0.510</td>\n",
       "      <td>-0.158</td>\n",
       "      <td>0.841</td>\n",
       "      <td>0.410</td>\n",
       "      <td>0.137</td>\n",
       "      <td>0.239</td>\n",
       "      <td>0.035</td>\n",
       "      <td>normal</td>\n",
       "    </tr>\n",
       "    <tr>\n",
       "      <th>1</th>\n",
       "      <td>2.681</td>\n",
       "      <td>0.475</td>\n",
       "      <td>0.672</td>\n",
       "      <td>0.868</td>\n",
       "      <td>0.667</td>\n",
       "      <td>2.053</td>\n",
       "      <td>0.440</td>\n",
       "      <td>0.520</td>\n",
       "      <td>0.639</td>\n",
       "      <td>0.454</td>\n",
       "      <td>...</td>\n",
       "      <td>-0.014</td>\n",
       "      <td>-0.165</td>\n",
       "      <td>-0.317</td>\n",
       "      <td>-0.192</td>\n",
       "      <td>0.924</td>\n",
       "      <td>0.256</td>\n",
       "      <td>0.252</td>\n",
       "      <td>0.329</td>\n",
       "      <td>0.022</td>\n",
       "      <td>normal</td>\n",
       "    </tr>\n",
       "    <tr>\n",
       "      <th>2</th>\n",
       "      <td>1.979</td>\n",
       "      <td>0.343</td>\n",
       "      <td>0.508</td>\n",
       "      <td>0.624</td>\n",
       "      <td>0.504</td>\n",
       "      <td>1.200</td>\n",
       "      <td>0.299</td>\n",
       "      <td>0.396</td>\n",
       "      <td>0.259</td>\n",
       "      <td>0.246</td>\n",
       "      <td>...</td>\n",
       "      <td>-0.097</td>\n",
       "      <td>-0.235</td>\n",
       "      <td>-0.337</td>\n",
       "      <td>-0.020</td>\n",
       "      <td>0.795</td>\n",
       "      <td>0.378</td>\n",
       "      <td>0.152</td>\n",
       "      <td>0.250</td>\n",
       "      <td>0.029</td>\n",
       "      <td>normal</td>\n",
       "    </tr>\n",
       "    <tr>\n",
       "      <th>3</th>\n",
       "      <td>1.747</td>\n",
       "      <td>0.269</td>\n",
       "      <td>0.476</td>\n",
       "      <td>0.525</td>\n",
       "      <td>0.476</td>\n",
       "      <td>0.612</td>\n",
       "      <td>0.147</td>\n",
       "      <td>0.017</td>\n",
       "      <td>0.044</td>\n",
       "      <td>0.405</td>\n",
       "      <td>...</td>\n",
       "      <td>-0.035</td>\n",
       "      <td>-0.449</td>\n",
       "      <td>-0.217</td>\n",
       "      <td>-0.091</td>\n",
       "      <td>0.746</td>\n",
       "      <td>0.200</td>\n",
       "      <td>0.027</td>\n",
       "      <td>0.078</td>\n",
       "      <td>0.023</td>\n",
       "      <td>normal</td>\n",
       "    </tr>\n",
       "    <tr>\n",
       "      <th>4</th>\n",
       "      <td>2.990</td>\n",
       "      <td>0.599</td>\n",
       "      <td>0.686</td>\n",
       "      <td>1.039</td>\n",
       "      <td>0.667</td>\n",
       "      <td>2.513</td>\n",
       "      <td>0.543</td>\n",
       "      <td>0.607</td>\n",
       "      <td>0.871</td>\n",
       "      <td>0.492</td>\n",
       "      <td>...</td>\n",
       "      <td>-0.105</td>\n",
       "      <td>0.084</td>\n",
       "      <td>-0.012</td>\n",
       "      <td>-0.054</td>\n",
       "      <td>0.977</td>\n",
       "      <td>0.193</td>\n",
       "      <td>0.297</td>\n",
       "      <td>0.354</td>\n",
       "      <td>0.034</td>\n",
       "      <td>normal</td>\n",
       "    </tr>\n",
       "  </tbody>\n",
       "</table>\n",
       "<p>5 rows × 63 columns</p>\n",
       "</div>"
      ],
      "text/plain": [
       "      ag     at     as     an     ai    eag    eat    eas    ean    eai  ...  \\\n",
       "0  2.220  0.354  0.580  0.686  0.601  1.267  0.336  0.346  0.255  0.331  ...   \n",
       "1  2.681  0.475  0.672  0.868  0.667  2.053  0.440  0.520  0.639  0.454  ...   \n",
       "2  1.979  0.343  0.508  0.624  0.504  1.200  0.299  0.396  0.259  0.246  ...   \n",
       "3  1.747  0.269  0.476  0.525  0.476  0.612  0.147  0.017  0.044  0.405  ...   \n",
       "4  2.990  0.599  0.686  1.039  0.667  2.513  0.543  0.607  0.871  0.492  ...   \n",
       "\n",
       "     tmt    tms    tmn    tmi     mr    rnf   mdic    emd     mv   Class  \n",
       "0 -0.018 -0.230 -0.510 -0.158  0.841  0.410  0.137  0.239  0.035  normal  \n",
       "1 -0.014 -0.165 -0.317 -0.192  0.924  0.256  0.252  0.329  0.022  normal  \n",
       "2 -0.097 -0.235 -0.337 -0.020  0.795  0.378  0.152  0.250  0.029  normal  \n",
       "3 -0.035 -0.449 -0.217 -0.091  0.746  0.200  0.027  0.078  0.023  normal  \n",
       "4 -0.105  0.084 -0.012 -0.054  0.977  0.193  0.297  0.354  0.034  normal  \n",
       "\n",
       "[5 rows x 63 columns]"
      ]
     },
     "execution_count": 110,
     "metadata": {},
     "output_type": "execute_result"
    }
   ],
   "source": [
    "data.head()"
   ]
  },
  {
   "cell_type": "code",
   "execution_count": 111,
   "metadata": {},
   "outputs": [
    {
     "name": "stdout",
     "output_type": "stream",
     "text": [
      "Class\n",
      "normal      98\n",
      "glaucoma    98\n",
      "Name: count, dtype: int64\n"
     ]
    }
   ],
   "source": [
    "print(data[\"Class\"].value_counts())"
   ]
  },
  {
   "cell_type": "code",
   "execution_count": 112,
   "metadata": {},
   "outputs": [],
   "source": [
    "y = data['Class'].apply(lambda x: 0 if x == 'normal' else 1).to_numpy()\n",
    "x = data.drop(['Class'], axis=1).to_numpy()"
   ]
  },
  {
   "cell_type": "code",
   "execution_count": 113,
   "metadata": {},
   "outputs": [
    {
     "data": {
      "text/plain": [
       "((196, 62), (196,))"
      ]
     },
     "execution_count": 113,
     "metadata": {},
     "output_type": "execute_result"
    }
   ],
   "source": [
    "x.shape, y.shape"
   ]
  },
  {
   "cell_type": "code",
   "execution_count": 114,
   "metadata": {},
   "outputs": [],
   "source": [
    "x_train, x_test, y_train, y_test = train_test_split(x, y, test_size=0.2, random_state=42)"
   ]
  },
  {
   "cell_type": "markdown",
   "metadata": {},
   "source": [
    "## GRU"
   ]
  },
  {
   "cell_type": "code",
   "execution_count": 115,
   "metadata": {},
   "outputs": [],
   "source": [
    "model_gru = Sequential()\n",
    "model_gru.add(GRU(62, return_sequences=True, input_shape=(62, 1)))\n",
    "model_gru.add(Dropout(0.2))\n",
    "model_gru.add(GRU(50, return_sequences=True))\n",
    "model_gru.add(Dropout(0.2))\n",
    "model_gru.add(GRU(50, return_sequences=False))\n",
    "model_gru.add(Dropout(0.2))\n",
    "model_gru.add(Dense(1, activation = \"sigmoid\"))\n",
    "\n",
    "model_gru.compile(loss='binary_crossentropy', optimizer='adam', metrics=['accuracy'])"
   ]
  },
  {
   "cell_type": "code",
   "execution_count": 116,
   "metadata": {},
   "outputs": [
    {
     "name": "stdout",
     "output_type": "stream",
     "text": [
      "Epoch 1/12\n",
      "6/6 [==============================] - 3s 120ms/step - loss: 0.6927 - accuracy: 0.5064 - val_loss: 0.6881 - val_accuracy: 0.4750\n",
      "Epoch 2/12\n",
      "6/6 [==============================] - 0s 34ms/step - loss: 0.6885 - accuracy: 0.5128 - val_loss: 0.6832 - val_accuracy: 0.4750\n",
      "Epoch 3/12\n",
      "6/6 [==============================] - 0s 39ms/step - loss: 0.6846 - accuracy: 0.5064 - val_loss: 0.6746 - val_accuracy: 0.4750\n",
      "Epoch 4/12\n",
      "6/6 [==============================] - 0s 37ms/step - loss: 0.6793 - accuracy: 0.5449 - val_loss: 0.6593 - val_accuracy: 0.5500\n",
      "Epoch 5/12\n",
      "6/6 [==============================] - 0s 35ms/step - loss: 0.6697 - accuracy: 0.6538 - val_loss: 0.6392 - val_accuracy: 0.9000\n",
      "Epoch 6/12\n",
      "6/6 [==============================] - 0s 36ms/step - loss: 0.6559 - accuracy: 0.6538 - val_loss: 0.5964 - val_accuracy: 0.8000\n",
      "Epoch 7/12\n",
      "6/6 [==============================] - 0s 34ms/step - loss: 0.6369 - accuracy: 0.6603 - val_loss: 0.5356 - val_accuracy: 0.8500\n",
      "Epoch 8/12\n",
      "6/6 [==============================] - 0s 34ms/step - loss: 0.6256 - accuracy: 0.5962 - val_loss: 0.5018 - val_accuracy: 0.8000\n",
      "Epoch 9/12\n",
      "6/6 [==============================] - 0s 34ms/step - loss: 0.6236 - accuracy: 0.6090 - val_loss: 0.4819 - val_accuracy: 0.8750\n",
      "Epoch 10/12\n",
      "6/6 [==============================] - 0s 34ms/step - loss: 0.6428 - accuracy: 0.6538 - val_loss: 0.4949 - val_accuracy: 0.9000\n",
      "Epoch 11/12\n",
      "6/6 [==============================] - 0s 34ms/step - loss: 0.6141 - accuracy: 0.6410 - val_loss: 0.5402 - val_accuracy: 0.7750\n",
      "Epoch 12/12\n",
      "6/6 [==============================] - 0s 34ms/step - loss: 0.6240 - accuracy: 0.6410 - val_loss: 0.5286 - val_accuracy: 0.8500\n"
     ]
    },
    {
     "data": {
      "text/plain": [
       "<keras.src.callbacks.History at 0x2fc0b4810>"
      ]
     },
     "execution_count": 116,
     "metadata": {},
     "output_type": "execute_result"
    }
   ],
   "source": [
    "model_gru.fit(x_train, y_train, epochs=12, batch_size=30, validation_data=(x_test, y_test))"
   ]
  },
  {
   "cell_type": "code",
   "execution_count": 117,
   "metadata": {},
   "outputs": [
    {
     "name": "stdout",
     "output_type": "stream",
     "text": [
      "2/2 [==============================] - 0s 7ms/step\n"
     ]
    },
    {
     "data": {
      "image/png": "[encoded data removed]",
      "text/plain": [
       "<Figure size 640x480 with 2 Axes>"
      ]
     },
     "metadata": {},
     "output_type": "display_data"
    },
    {
     "name": "stdout",
     "output_type": "stream",
     "text": [
      "GRU Accuracy:  0.85\n"
     ]
    }
   ],
   "source": [
    "y_hat = model_gru.predict(x_test)\n",
    "y_hat = np.round(y_hat).flatten()\n",
    "gru_acc = accuracy_score(y_test, y_hat)\n",
    "\n",
    "cm = confusion_matrix(y_test, y_hat)\n",
    "disp = ConfusionMatrixDisplay(confusion_matrix=cm, display_labels=['Normal', 'Glaucoma'])\n",
    "disp.plot()\n",
    "plt.show()\n",
    "print(\"GRU Accuracy: \", gru_acc)"
   ]
  },
  {
   "cell_type": "markdown",
   "metadata": {},
   "source": [
    "## LSTM"
   ]
  },
  {
   "cell_type": "code",
   "execution_count": 118,
   "metadata": {},
   "outputs": [],
   "source": [
    "model_lstm = Sequential()\n",
    "model_lstm.add(LSTM(62, return_sequences=True, input_shape=(62, 1)))\n",
    "model_lstm.add(Dropout(0.2))\n",
    "model_lstm.add(LSTM(50, return_sequences=True))\n",
    "model_lstm.add(Dropout(0.2))\n",
    "model_lstm.add(LSTM(50, return_sequences=False))\n",
    "model_lstm.add(Dropout(0.2))\n",
    "model_lstm.add(Dense(1, activation = \"sigmoid\"))\n",
    "\n",
    "model_lstm.compile(loss='binary_crossentropy', optimizer='adam', metrics=['accuracy'])"
   ]
  },
  {
   "cell_type": "code",
   "execution_count": 119,
   "metadata": {},
   "outputs": [
    {
     "name": "stdout",
     "output_type": "stream",
     "text": [
      "Epoch 1/12\n",
      "6/6 [==============================] - 3s 135ms/step - loss: 0.6954 - accuracy: 0.4423 - val_loss: 0.6897 - val_accuracy: 0.4750\n",
      "Epoch 2/12\n",
      "6/6 [==============================] - 0s 35ms/step - loss: 0.6906 - accuracy: 0.5064 - val_loss: 0.6852 - val_accuracy: 0.4750\n",
      "Epoch 3/12\n",
      "6/6 [==============================] - 0s 37ms/step - loss: 0.6855 - accuracy: 0.5064 - val_loss: 0.6800 - val_accuracy: 0.5000\n",
      "Epoch 4/12\n",
      "6/6 [==============================] - 0s 36ms/step - loss: 0.6807 - accuracy: 0.5064 - val_loss: 0.6773 - val_accuracy: 0.4750\n",
      "Epoch 5/12\n",
      "6/6 [==============================] - 0s 35ms/step - loss: 0.6882 - accuracy: 0.5128 - val_loss: 0.6739 - val_accuracy: 0.5000\n",
      "Epoch 6/12\n",
      "6/6 [==============================] - 0s 35ms/step - loss: 0.6803 - accuracy: 0.5449 - val_loss: 0.6602 - val_accuracy: 0.5250\n",
      "Epoch 7/12\n",
      "6/6 [==============================] - 0s 37ms/step - loss: 0.6733 - accuracy: 0.6218 - val_loss: 0.6531 - val_accuracy: 0.7250\n",
      "Epoch 8/12\n",
      "6/6 [==============================] - 0s 34ms/step - loss: 0.6692 - accuracy: 0.6603 - val_loss: 0.6361 - val_accuracy: 0.6500\n",
      "Epoch 9/12\n",
      "6/6 [==============================] - 0s 34ms/step - loss: 0.6604 - accuracy: 0.6346 - val_loss: 0.6230 - val_accuracy: 0.6500\n",
      "Epoch 10/12\n",
      "6/6 [==============================] - 0s 35ms/step - loss: 0.6506 - accuracy: 0.6410 - val_loss: 0.5954 - val_accuracy: 0.8500\n",
      "Epoch 11/12\n",
      "6/6 [==============================] - 0s 38ms/step - loss: 0.6269 - accuracy: 0.6603 - val_loss: 0.5619 - val_accuracy: 0.9000\n",
      "Epoch 12/12\n",
      "6/6 [==============================] - 0s 40ms/step - loss: 0.6124 - accuracy: 0.6731 - val_loss: 0.5856 - val_accuracy: 0.6250\n"
     ]
    },
    {
     "data": {
      "text/plain": [
       "<keras.src.callbacks.History at 0x2ebd9add0>"
      ]
     },
     "execution_count": 119,
     "metadata": {},
     "output_type": "execute_result"
    }
   ],
   "source": [
    "model_lstm.fit(x_train, y_train, epochs=12, batch_size=30, validation_data=(x_test, y_test))"
   ]
  },
  {
   "cell_type": "code",
   "execution_count": 120,
   "metadata": {},
   "outputs": [
    {
     "name": "stdout",
     "output_type": "stream",
     "text": [
      "2/2 [==============================] - 0s 8ms/step\n"
     ]
    },
    {
     "data": {
      "image/png": "[encoded data removed]",
      "text/plain": [
       "<Figure size 640x480 with 2 Axes>"
      ]
     },
     "metadata": {},
     "output_type": "display_data"
    },
    {
     "name": "stdout",
     "output_type": "stream",
     "text": [
      "LSTM Accuracy:  0.625\n"
     ]
    }
   ],
   "source": [
    "y_hat = model_lstm.predict(x_test)\n",
    "y_hat = np.round(y_hat).flatten()\n",
    "lstm_acc = accuracy_score(y_test, y_hat)\n",
    "\n",
    "cm = confusion_matrix(y_test, y_hat)\n",
    "disp = ConfusionMatrixDisplay(confusion_matrix=cm, display_labels=['Normal', 'Glaucoma'])\n",
    "disp.plot()\n",
    "plt.show()\n",
    "print(\"LSTM Accuracy: \", lstm_acc)"
   ]
  },
  {
   "cell_type": "code",
   "execution_count": 121,
   "metadata": {},
   "outputs": [
    {
     "data": {
      "image/png": "[encoded data removed]",
      "text/plain": [
       "<Figure size 640x480 with 1 Axes>"
      ]
     },
     "metadata": {},
     "output_type": "display_data"
    }
   ],
   "source": [
    "plt.bar(['GRU', 'LSTM'], [gru_acc, lstm_acc], color=['green', 'red'])\n",
    "plt.text(0, gru_acc, str(round(gru_acc*100, 3)))\n",
    "plt.text(1, lstm_acc, str(round(lstm_acc*100, 3)))\n",
    "plt.title('GRU vs LSTM')\n",
    "plt.ylabel('Accuracy')\n",
    "plt.xlabel('Model')\n",
    "plt.show()"
   ]
  }
 ],
 "metadata": {
  "kernelspec": {
   "display_name": "base",
   "language": "python",
   "name": "python3"
  },
  "language_info": {
   "codemirror_mode": {
    "name": "ipython",
    "version": 3
   },
   "file_extension": ".py",
   "mimetype": "text/x-python",
   "name": "python",
   "nbconvert_exporter": "python",
   "pygments_lexer": "ipython3",
   "version": "3.11.4"
  }
 },
 "nbformat": 4,
 "nbformat_minor": 2
}
