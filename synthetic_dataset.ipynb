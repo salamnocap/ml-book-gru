{
  "cells": [
    {
      "cell_type": "code",
      "execution_count": 2,
      "metadata": {
        "colab": {
          "base_uri": "https://localhost:8080/"
        },
        "id": "ZOxu5zjBJpx-",
        "outputId": "a35ff0b2-b4a0-43d7-a168-c23ff1f6464b"
      },
      "outputs": [
        {
          "name": "stdout",
          "output_type": "stream",
          "text": [
            "Model: \"sequential\"\n",
            "_________________________________________________________________\n",
            " Layer (type)                Output Shape              Param #   \n",
            "=================================================================\n",
            " gru (GRU)                   (None, 50)                7950      \n",
            "                                                                 \n",
            " dense (Dense)               (None, 1)                 51        \n",
            "                                                                 \n",
            "=================================================================\n",
            "Total params: 8001 (31.25 KB)\n",
            "Trainable params: 8001 (31.25 KB)\n",
            "Non-trainable params: 0 (0.00 Byte)\n",
            "_________________________________________________________________\n",
            "Epoch 1/10\n",
            "32/32 [==============================] - 1s 4ms/step - loss: 0.1577\n",
            "Epoch 2/10\n",
            "32/32 [==============================] - 0s 4ms/step - loss: 0.0941\n",
            "Epoch 3/10\n",
            "32/32 [==============================] - 0s 4ms/step - loss: 0.0927\n",
            "Epoch 4/10\n",
            "32/32 [==============================] - 0s 4ms/step - loss: 0.0923\n",
            "Epoch 5/10\n",
            "32/32 [==============================] - 0s 4ms/step - loss: 0.0919\n",
            "Epoch 6/10\n",
            "32/32 [==============================] - 0s 4ms/step - loss: 0.0914\n",
            "Epoch 7/10\n",
            "32/32 [==============================] - 0s 4ms/step - loss: 0.0908\n",
            "Epoch 8/10\n",
            "32/32 [==============================] - 0s 4ms/step - loss: 0.0905\n",
            "Epoch 9/10\n",
            "32/32 [==============================] - 0s 4ms/step - loss: 0.0905\n",
            "Epoch 10/10\n",
            "32/32 [==============================] - 0s 4ms/step - loss: 0.0905\n",
            "1/1 [==============================] - 0s 134ms/step\n",
            "New sequence:\n",
            "[0.37364082 0.3329121  0.17615391 0.60726667 0.47662416 0.86570099\n",
            " 0.03210958 0.64386793 0.76294888 0.75948657]\n",
            "Predicted next value:\n",
            "0.4667638\n"
          ]
        }
      ],
      "source": [
        "import numpy as np\n",
        "import tensorflow as tf\n",
        "from tensorflow.keras.models import Sequential\n",
        "from tensorflow.keras.layers import GRU, Dense\n",
        "\n",
        "# Create a synthetic dataset\n",
        "np.random.seed(42)\n",
        "sequence_length = 10\n",
        "num_samples = 1000\n",
        "\n",
        "# Generate random sequences\n",
        "X = np.random.random((num_samples, sequence_length, 1))\n",
        "# Shift the sequences by one step to create target values\n",
        "y = np.roll(X, shift=-1, axis=1)\n",
        "# Set the last element of each sequence to 0\n",
        "y[:, -1, :] = 0\n",
        "\n",
        "# Build a simple GRU model\n",
        "model = Sequential([\n",
        "    GRU(units=50, input_shape=(sequence_length, 1), activation='relu'),\n",
        "    Dense(units=1, activation='linear')\n",
        "])\n",
        "\n",
        "# Compile the model\n",
        "model.compile(optimizer='adam', loss='mean_squared_error')\n",
        "\n",
        "# Display the model summary\n",
        "model.summary()\n",
        "\n",
        "# Train the model\n",
        "model.fit(X, y, epochs=10, batch_size=32)\n",
        "\n",
        "# Generate a new sequence and predict the next value\n",
        "new_sequence = np.random.random((1, sequence_length, 1))\n",
        "predicted_value = model.predict(new_sequence)\n",
        "\n",
        "print(\"New sequence:\")\n",
        "print(new_sequence.squeeze())\n",
        "print(\"Predicted next value:\")\n",
        "print(predicted_value.squeeze())\n"
      ]
    }
  ],
  "metadata": {
    "colab": {
      "provenance": []
    },
    "kernelspec": {
      "display_name": "Python 3",
      "name": "python3"
    },
    "language_info": {
      "name": "python"
    }
  },
  "nbformat": 4,
  "nbformat_minor": 0
}
