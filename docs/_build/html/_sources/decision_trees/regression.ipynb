{
 "cells": [
  {
   "cell_type": "markdown",
   "id": "80bdfd30",
   "metadata": {},
   "source": [
    "# Regression tree\n",
    "\n",
    "\n",
    "\n",
    "A regression tree is a type of decision tree used for solving regression problems. \n",
    "Regression problems involve predicting a continuous target variable, as opposed to classification problems where the goal is to predict discrete class labels. \n",
    "Regression trees are a popular machine learning technique for modeling relationships between input features and continuous outcomes. "
   ]
  },
  {
   "attachments": {},
   "cell_type": "markdown",
   "id": "c53d955b",
   "metadata": {},
   "source": [
    "<img src=\"../dtRegression.png\" width=\"618\"/>"
   ]
  },
  {
   "cell_type": "markdown",
   "id": "4e5b4279",
   "metadata": {},
   "source": [
    "<h3>Here are the key characteristics and concepts related to regression trees:</h3>\n",
    "\n",
    "\n",
    "1. <h4>Decision Tree Structure: </h4>\n",
    "\n",
    "Like classification trees, regression trees are hierarchical structures consisting of nodes. The tree starts with a root node and branches into internal nodes, which in turn branch into leaf nodes (also known as terminal nodes).\n",
    "\n",
    "2. <h4>Node Splitting: </h4>\n",
    "\n",
    "At each internal node, the tree algorithm selects a feature and a splitting criterion to divide the data into two or more child nodes. The goal is to create splits that minimize the variance of the target variable within each node.\n",
    "\n",
    "3. <h4>Leaf Nodes:</h4>\n",
    "\n",
    "The leaf nodes are the terminal nodes of the tree. Each leaf node contains a predicted continuous value, which is typically the mean or median of the target values of the training samples in that node.\n",
    "\n",
    "4. <h4>Predictive Modeling:</h4>\n",
    "\n",
    "To make predictions for new data, you traverse the tree from the root to a leaf node based on the feature values of the new data point. The value in the selected leaf node is the predicted continuous output.\n",
    "\n",
    "6. <h4>Recursive Partitioning: </h4>\n",
    "\n",
    "The process of building a regression tree is recursive. The algorithm starts with the entire dataset and recursively splits it into subsets by choosing the best feature and split criterion at each node, continuing until a stopping condition is met.\n",
    "\n",
    "7. <h4>Stopping Criteria: </h4>\n",
    "\n",
    "Stopping criteria are used to determine when to stop growing the tree. Common stopping criteria include limiting the tree depth, setting a minimum number of samples per leaf, or using a minimum impurity reduction threshold.\n",
    "\n",
    "8. <h4>Impurity Measures: </h4>\n",
    "\n",
    "In regression trees, impurity measures such as Mean Squared Error (MSE) or Mean Absolute Error (MAE) are used to evaluate how well a split reduces the variance of the target variable. The split that minimizes the impurity is selected.\n",
    "\n",
    "9. <h4>Pruning: </h4>\n",
    "\n",
    "After building a regression tree, it may be pruned to reduce overfitting. Pruning involves removing nodes that do not significantly improve the tree's performance on a validation dataset.\n",
    "\n",
    "\n",
    "11. <h4>Visualization: </h4>\n",
    "\n",
    "Regression trees can be visualized graphically, making it easy to interpret and understand the model's decision-making process.\n",
    "\n",
    "12. <h4>Ensemble Methods: </h4>\n",
    "\n",
    "Regression trees are often used as building blocks in ensemble methods like Random Forests and Gradient Boosting, which combine multiple trees to improve predictive accuracy and reduce overfitting.\n",
    "\n",
    "13. <h4>Advantages: </h4>\n",
    "\n",
    "Regression trees are interpretable, can capture complex nonlinear relationships, and are relatively easy to implement. They are useful when the relationship between features and the target variable is non-linear and may have interactions.\n",
    "\n",
    "14. <h4>Limitations: </h4>\n",
    "\n",
    "They can be prone to overfitting, especially if the tree is allowed to grow deep. Single trees may not generalize well on certain types of data. Ensembling methods like Random Forests and Gradient Boosting can mitigate these limitations.\n",
    "\n",
    "\n",
    "\n",
    "Regression trees are a valuable tool in machine learning and data analysis, particularly when dealing with regression tasks that require capturing complex relationships between input features and continuous outcomes. Proper tuning of hyperparameters and consideration of potential overfitting are essential when working with regression trees."
   ]
  },
  {
   "cell_type": "markdown",
   "id": "50a8b4e4",
   "metadata": {},
   "source": [
    "##### Python implementation"
   ]
  },
  {
   "cell_type": "markdown",
   "id": "6207b5bd",
   "metadata": {},
   "source": [
    "Decision trees can also be applied to regression problems, using the DecisionTreeRegressor class.\n",
    "\n",
    "\n",
    "As in the classification setting, the fit method will take as argument arrays X and y, only that in this case y is expected to have floating point values instead of integer values:"
   ]
  },
  {
   "cell_type": "code",
   "execution_count": 2,
   "id": "22eea71b",
   "metadata": {},
   "outputs": [
    {
     "data": {
      "text/plain": [
       "array([0.5])"
      ]
     },
     "execution_count": 2,
     "metadata": {},
     "output_type": "execute_result"
    }
   ],
   "source": [
    "from sklearn import tree\n",
    "X = [[0, 0], [2, 2]]\n",
    "y = [0.5, 2.5]\n",
    "clf = tree.DecisionTreeRegressor()\n",
    "clf = clf.fit(X, y)\n",
    "clf.predict([[1, 1]])"
   ]
  },
  {
   "cell_type": "code",
   "execution_count": null,
   "id": "e7bb9da5",
   "metadata": {},
   "outputs": [],
   "source": []
  }
 ],
 "metadata": {
  "kernelspec": {
   "display_name": "Python 3 (ipykernel)",
   "language": "python",
   "name": "python3"
  },
  "language_info": {
   "codemirror_mode": {
    "name": "ipython",
    "version": 3
   },
   "file_extension": ".py",
   "mimetype": "text/x-python",
   "name": "python",
   "nbconvert_exporter": "python",
   "pygments_lexer": "ipython3",
   "version": "3.11.4"
  }
 },
 "nbformat": 4,
 "nbformat_minor": 5
}
