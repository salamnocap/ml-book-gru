{
 "cells": [
  {
   "cell_type": "markdown",
   "metadata": {},
   "source": [
    "# Rank of a matrix\n",
    "\n",
    "## Matrix spaces\n",
    "\n",
    "Let $\\boldsymbol A \\in \\mathbb R^{m\\times n}$ be a rectangular matrix. Define\n",
    "\n",
    "* **nullspace** of $\\boldsymbol A$ as all solutions of the homogeneous linear system $\\boldsymbol{Ax} = \\boldsymbol 0$, i.e.,\n",
    "\n",
    "    $$\n",
    "        N(\\boldsymbol A) = \\{\\boldsymbol x \\in \\mathbb R^n \\colon \\boldsymbol{Ax} = \\boldsymbol 0\\};\n",
    "    $$\n",
    "\n",
    "* **left nullspace** of $\\boldsymbol A$ as all solutions of the homogeneous linear system $\\boldsymbol y^\\top \\boldsymbol{A} = \\boldsymbol 0$ (note that it is equal to $N(\\boldsymbol A^\\top))$;\n",
    "\n",
    "* **column space** of $\\boldsymbol A = [\\boldsymbol a_1 \\ldots \\boldsymbol a_n]$ as the spanning space of its columns:\n",
    "\n",
    "    $$\n",
    "    C(\\boldsymbol A) = \\mathrm{span}(\\boldsymbol a_1, \\ldots, \\boldsymbol a_n) = \\Big\\{\\sum\\limits_{j=1}^n c_j \\boldsymbol a_j \\colon c_1, \\ldots, c_n \\in \\mathbb R\\Big\\}.\n",
    "    $$\n",
    "\n",
    "* **row space** of \n",
    "\n",
    "    $$\n",
    "    \\boldsymbol A = \\begin{pmatrix}\n",
    "        \\boldsymbol a_1^\\top \\\\\n",
    "         \\vdots \\\\\n",
    "        \\boldsymbol a_m^\\top\n",
    "    \\end{pmatrix}\n",
    "    $$\n",
    "\n",
    "    as the spanning space of its rows (note that it is equal to $C(\\boldsymbol A^\\top)$).\n",
    "\n",
    "Note that both $N(\\boldsymbol A)$ and $C(\\boldsymbol A^\\top)$ are subspaces of $\\mathbb R^n$, whereas  $N(\\boldsymbol A^\\top)$ and $C(\\boldsymbol A)$ are subspaces of $\\mathbb R^m$."
   ]
  },
  {
   "cell_type": "markdown",
   "metadata": {},
   "source": [
    "## Rank\n",
    "\n",
    "**Ранг** матрицы $\\boldsymbol A \\in \\mathbb R^{m\\times n}$ можно определить двумя эквивалентными способами:\n",
    "\n",
    "* **ранг по столбцам** равен $\\dim C(\\boldsymbol A)$ — размеру максимальной линейно независимой подсистемы столбцов матрицы $\\boldsymbol A$;\n",
    "\n",
    "* **ранг по строкам** равен $\\dim C(\\boldsymbol A^\\top)$ — размеру максимальной линейно независимой подсистемы строк матрицы $\\boldsymbol A$.\n",
    "\n",
    "Оказывается, что столбцовый и строковый ранг любой матрицы совпадают. Их общее значение называется **рангом** матрицы $\\boldsymbol A$ и обозначается $\\mathrm{rank}(\\boldsymbol A)$.\n",
    "\n",
    "**Теорема**. Для любой матрицы $\\boldsymbol A \\in \\mathbb R^{m\\times n}$ верно равенство \n",
    "\n",
    "$$\n",
    "\\dim C(\\boldsymbol A) = \\dim C(\\boldsymbol A^\\top) = r, \\quad 0\\leqslant r \\leqslant \\min\\{m, n\\},\n",
    "$$\n",
    "\n",
    "причём ранг $r = \\mathrm{rank}(\\boldsymbol A)$ совпадает с количеством опорных элементов ступенчатой матрицы, к которой матрица $\\boldsymbol A$ приводится методом Гаусса.\n",
    "\n",
    "\n",
    "It turn out that\n",
    "\n",
    "$$\n",
    "    \\dim C(\\boldsymbol A) + \\dim N(\\boldsymbol A) = n, \\quad \\dim C(\\boldsymbol A^\\top) + \\dim N(\\boldsymbol A^\\top) = m.\n",
    "$$\n",
    "\n",
    "Прямоугольная матрица $\\boldsymbol A \\in \\mathbb R^{m\\times n}$ называется полноранговой по столбцам, если $\\mathrm{rank}(\\boldsymbol A) = n$. Такая матрица обладает следующими свойствами:\n",
    "\n",
    "* все столбцы матрицы $\\boldsymbol A$ опорные;\n",
    "\n",
    "* ядро матрицы $\\boldsymbol A$ нулевое;\n",
    "\n",
    "* однородная система уравнений $\\boldsymbol {Ax} = \\boldsymbol 0$ имеет только нулевое решение;\n",
    "\n",
    "* СЛАУ $\\boldsymbol {Ax} = \\boldsymbol b$ имеет не более одного решения.\n",
    "\n",
    "Матрица полного ранга по строкам, для которой $\\mathrm{rank}(\\boldsymbol A) = m$, обладает следующими свойствами:\n",
    "\n",
    "* все строки матрицы $\\boldsymbol A$ опорные;\n",
    "\n",
    "* $C(\\boldsymbol A) = \\mathbb R^m$;\n",
    "\n",
    "* СЛАУ $\\boldsymbol {Ax} = \\boldsymbol b$ имеет решение при любом $\\boldsymbol b \\in \\mathbb R^m$;\n",
    "\n",
    "* $\\dim N(\\boldsymbol A) = n - m$.\n",
    "\n",
    "Полноранговые квадратные матрица $\\boldsymbol A \\in \\mathbb R^{n\\times n}$ имеют ранг $n = r$. Этот класс матриц в точности совпадает с классом невырожденных матриц."
   ]
  },
  {
   "cell_type": "markdown",
   "metadata": {},
   "source": [
    "`np.linalg.matrix_rank` calculates the rank of a matrix:"
   ]
  },
  {
   "cell_type": "code",
   "execution_count": 10,
   "metadata": {},
   "outputs": [
    {
     "data": {
      "text/plain": [
       "array([[ 1,  2,  3,  4],\n",
       "       [ 5,  6,  7,  8],\n",
       "       [ 9, 10, 11, 12]])"
      ]
     },
     "execution_count": 10,
     "metadata": {},
     "output_type": "execute_result"
    }
   ],
   "source": [
    "import numpy as np\n",
    "A = np.arange(1, 13).reshape(3, 4)\n",
    "A"
   ]
  },
  {
   "cell_type": "code",
   "execution_count": 11,
   "metadata": {},
   "outputs": [
    {
     "data": {
      "text/plain": [
       "2"
      ]
     },
     "execution_count": 11,
     "metadata": {},
     "output_type": "execute_result"
    }
   ],
   "source": [
    "np.linalg.matrix_rank(A)"
   ]
  },
  {
   "cell_type": "markdown",
   "metadata": {},
   "source": [
    "(pseudo-inverse)=\n",
    "## Pseudo inverse\n",
    "\n",
    "The **Moore-Penrose pseudo inverse** of $\\boldsymbol A \\in \\mathbb R^{m\\times n}$ is such a matrix $\\boldsymbol A^\\dagger \\in \\mathbb R^{n\\times m}$ that satisfies the following $4$ properties:\n",
    "\n",
    "1. $\\boldsymbol{AA}^\\dagger \\boldsymbol A = \\boldsymbol A$;\n",
    "\n",
    "2.  $\\boldsymbol{A}^\\dagger \\boldsymbol A \\boldsymbol{A}^\\dagger =\\boldsymbol{A}^\\dagger$;\n",
    "\n",
    "3. $(\\boldsymbol{AA}^\\dagger)^\\top = \\boldsymbol{AA}^\\dagger$;\n",
    "\n",
    "4. $(\\boldsymbol{A}^\\dagger \\boldsymbol A)^\\top = \\boldsymbol{A}^\\dagger \\boldsymbol A$.\n",
    "\n",
    "Note that\n",
    "\n",
    "* $\\boldsymbol{A}^\\dagger = \\boldsymbol{A}^{-1}$ if $\\boldsymbol A$ is a square invertible matrix;\n",
    "\n",
    "* $\\boldsymbol{A}^\\dagger = (\\boldsymbol A^\\top\\boldsymbol A)^{-1} \\boldsymbol A^\\top$ if $m > n$ and $\\boldsymbol A$ has full column rank;\n",
    "\n",
    "* $\\boldsymbol{A}^\\dagger = \\boldsymbol A^\\top(\\boldsymbol A\\boldsymbol A^\\top)^{-1} $ if $m < n$ and $\\boldsymbol A$ has full row rank."
   ]
  },
  {
   "cell_type": "markdown",
   "metadata": {},
   "source": [
    "To get pseudo inversed matrix, call `np.linalg.pinv`:"
   ]
  },
  {
   "cell_type": "code",
   "execution_count": 12,
   "metadata": {},
   "outputs": [
    {
     "data": {
      "text/plain": [
       "array([[0.01428571, 0.02857143, 0.04285714],\n",
       "       [0.02857143, 0.05714286, 0.08571429]])"
      ]
     },
     "execution_count": 12,
     "metadata": {},
     "output_type": "execute_result"
    }
   ],
   "source": [
    "A = np.array([[1, 2], [2, 4], [3, 6]])\n",
    "np.linalg.pinv(A)"
   ]
  },
  {
   "cell_type": "markdown",
   "metadata": {},
   "source": [
    "## Exerices\n",
    "\n",
    "1. Prove that for each one-rank matrix $\\boldsymbol A = \\boldsymbol{uv}^\\top$ the equality $\\mathrm{rank}(\\boldsymbol A) = 1$ holds.\n",
    "\n",
    "2. Prove that $\\mathrm{rank}(\\boldsymbol{AB}) \\leqslant \\min\\{\\mathrm{rank}(\\boldsymbol A), \\mathrm{rank}(\\boldsymbol B)\\}$. Give an examples of two matrices for which this inequality is strict.\n",
    "\n",
    "```{admonition} Hint\n",
    ":class: dropdown\n",
    "\n",
    "To prove the inequality $\\mathrm{rank}(\\boldsymbol{AB}) \\leqslant \\mathrm{rank}(\\boldsymbol B)$ write\n",
    "\n",
    "$$\n",
    "    \\boldsymbol B = [\\boldsymbol b_1 \\ldots \\boldsymbol  b_n], \\quad \\boldsymbol{AB} = [\\boldsymbol {Ab}_1 \\ldots \\boldsymbol {Ab}_n],\n",
    "$$\n",
    "\n",
    "and show that if a linear combination of columns of $\\boldsymbol{B}$ is $\\boldsymbol 0$ than the same is true for the similar linear combination of columns of $\\boldsymbol{AB}$.\n",
    "```\n",
    "\n",
    "3. Let $\\boldsymbol A \\in \\mathbb R^{m\\times n}$. Prove that \n",
    "\n",
    "    $$\n",
    "        \\mathrm{rank}(\\boldsymbol A)  = \\mathrm{rank}(\\boldsymbol A^\\top) =\n",
    "        \\mathrm{rank}(\\boldsymbol A^\\top \\boldsymbol A)  = \\mathrm{rank}(\\boldsymbol A \\boldsymbol A^\\top).\n",
    "    $$"
   ]
  }
 ],
 "metadata": {
  "kernelspec": {
   "display_name": "Python 3",
   "language": "python",
   "name": "python3"
  },
  "language_info": {
   "codemirror_mode": {
    "name": "ipython",
    "version": 3
   },
   "file_extension": ".py",
   "mimetype": "text/x-python",
   "name": "python",
   "nbconvert_exporter": "python",
   "pygments_lexer": "ipython3",
   "version": "3.11.4"
  },
  "orig_nbformat": 4
 },
 "nbformat": 4,
 "nbformat_minor": 2
}
