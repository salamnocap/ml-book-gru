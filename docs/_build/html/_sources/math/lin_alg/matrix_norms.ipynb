{
 "cells": [
  {
   "cell_type": "code",
   "execution_count": null,
   "metadata": {},
   "outputs": [],
   "source": []
  },
  {
   "cell_type": "markdown",
   "metadata": {},
   "source": [
    "# Matrix norms\n",
    "\n",
    "## Frobenius norm\n",
    "\n",
    "Let $\\boldsymbol A \\in \\mathbb R^{m\\times n}$. **Frobenius norm** of $\\boldsymbol A$ is defined as\n",
    "\n",
    "$$\n",
    "    \\Vert \\boldsymbol A \\Vert_F = \\sqrt{\\mathrm{tr}(\\boldsymbol A^\\top \\boldsymbol A)} = \\sqrt{\\sum\\limits_{i=1}^m \\sum\\limits_{j=1}^n a_{ij}^2}.\n",
    "$$\n",
    "\n",
    "## Spectral norm\n",
    "\n",
    "The **spectral norm** of the matrix $\\boldsymbol A \\in \\mathbb R^{m\\times n}$ is equal to maximal eigenvalue of $\\boldsymbol A^\\top \\boldsymbol A$:\n",
    "\n",
    "$$\n",
    "    \\Vert \\boldsymbol A \\Vert_2 = \\sqrt{\\lambda_{\\max}(\\boldsymbol A^\\top \\boldsymbol A)}.\n",
    "$$\n",
    "\n",
    "(condition-number)=\n",
    "## Condition number\n",
    "\n",
    "For a square matrix $\\boldsymbol A$ define its **conditional number** as\n",
    "\n",
    "$$\n",
    "    \\kappa(\\boldsymbol A) = \\Vert \\boldsymbol A \\Vert_2 \\cdot\\Vert\\boldsymbol A^{-1}\\Vert_2.\n",
    "$$\n",
    "\n",
    "If $\\boldsymbol A$ is singular then $\\kappa(\\boldsymbol A) = \\infty$.\n",
    "\n",
    "**Properties of conditional numbers**\n",
    "\n",
    "* $\\kappa(\\boldsymbol A) \\geqslant 1$;\n",
    "* $\\kappa(\\boldsymbol A) = \\kappa(\\boldsymbol A^{-1})$;\n",
    "* $\\kappa(\\boldsymbol{AB}) \\leqslant \\kappa(\\boldsymbol A)\\kappa(\\boldsymbol B)$;\n",
    "* $\\kappa(\\boldsymbol A) = \\Big\\vert\\frac{\\lambda_{\\max}(\\boldsymbol A)}{\\lambda_{\\min}(\\boldsymbol A)}\\Big\\vert$ if $\\boldsymbol A^\\top = \\boldsymbol A$.\n"
   ]
  }
 ],
 "metadata": {
  "language_info": {
   "name": "python"
  },
  "orig_nbformat": 4
 },
 "nbformat": 4,
 "nbformat_minor": 2
}
