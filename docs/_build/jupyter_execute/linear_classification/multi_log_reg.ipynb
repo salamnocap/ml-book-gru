{
 "cells": [
  {
   "cell_type": "markdown",
   "metadata": {},
   "source": [
    "# Multinomial logistic regression\n",
    "\n",
    "Let $\\mathcal Y$ be a finite set, e.g. $\\mathcal Y=\\{1, 2, \\ldots, K\\}$, and the training dataset\n",
    "\n",
    "$$\n",
    "\\mathcal D = \\{(\\boldsymbol x_i, y_i)\\}_{i=1}^n, \\quad \\boldsymbol x_i\\in\\mathbb R^d, \\quad y_i\\in \\mathcal Y.\n",
    "$$\n",
    "\n",
    "Multinomial logistic regression predicts a vector of probabilities\n",
    "\n",
    "$$\n",
    "    \\boldsymbol{\\widehat y} = (p_1,\\ldots, p_K), \\quad  p_k > 0, \\quad \\sum\\limits_{k=1}^K p_k = 1.\n",
    "$$\n",
    "\n",
    "How to predict these probabilities? We can use a linear model whose output is a vector of $K$ different numbers:\n",
    "\n",
    "$$\n",
    "z_k = \\boldsymbol x^\\top \\boldsymbol w_k, \\quad \\boldsymbol w_k \\in \\mathbb R^d, \\quad\n",
    "k = 1, \\ldots, K.\n",
    "$$\n",
    "\n",
    "Now convert the vector $\\boldsymbol z \\in \\mathbb R^K$ to the vector of probabilities $\\boldsymbol{\\widehat y}$ via **softmax**:\n",
    "\n",
    "$$\n",
    "\\boldsymbol{\\widehat y} = \\mathrm{Softmax}(\\boldsymbol z) = \\bigg(\\frac{e^{z_1}}{\\sum e^{z_k}}, \\ldots, \\frac{e^{z_K}}{\\sum e^{z_k}}\\bigg)\n",
    "$$\n",
    "\n",
    "If we need to pick a class, we can choose the most probable one:\n",
    "\n",
    "$$\n",
    "    \\arg\\max\\limits_{1\\leqslant k \\leqslant K} p_k = \n",
    "    \\arg\\max\\limits_{1\\leqslant k \\leqslant K} \\Big\\{\\frac{\\exp(\\boldsymbol x^\\top \\boldsymbol w_k)}{\\sum \\exp(\\boldsymbol x^\\top \\boldsymbol w_k)}\\Big\\}\n",
    "$$\n",
    "\n",
    "The parameters $\\boldsymbol w_k$ naturally form a matrix\n",
    "\n",
    "$$\n",
    "    \\boldsymbol W = [\\boldsymbol w_1 \\ldots \\boldsymbol w_K]\n",
    "$$\n",
    "\n",
    "**Q**. What is the shape of this matrix? How many parameters does multinomial regression have?\n",
    "\n",
    "\n"
   ]
  },
  {
   "cell_type": "markdown",
   "metadata": {},
   "source": [
    "\n",
    "## Loss function\n",
    "\n",
    "The optimal parameters $\\boldsymbol W$ are solutions of the following optimization problem:\n",
    "\n",
    "```{math}\n",
    ":label: multi-log-reg-opt\n",
    "\\mathcal L (\\boldsymbol W) = \\sum\\limits_{i=1}^n  \\bigg(\\boldsymbol x_i^\\top\\boldsymbol w_{y_i} -\\log\\Big(\\sum\\limits_{k=1}^K \\exp(\\boldsymbol x_i^\\top\\boldsymbol w_{k})\\Big)\\bigg) \\to \\max\\limits_{\\boldsymbol w_{1}, \\ldots, \\boldsymbol w_{K}}\n",
    "```\n",
    "    \n",
    "\n",
    "\n",
    "If the targets $y_k$ are one-hot encoded, then they from a matrix\n",
    "\n",
    "$$\n",
    "    \\boldsymbol Y = \\begin{pmatrix}\n",
    "    \\boldsymbol y_1^\\top \\\\\n",
    "    \\vdots \\\\\n",
    "     \\boldsymbol y_n^\\top\n",
    "    \\end{pmatrix},\n",
    "    \\quad\n",
    "    y_{ik} \\geqslant 0, \\quad \\sum\\limits_{k=1}^K y_{ik} = 1.\n",
    "$$\n",
    "\n",
    "Accordingly, the loss function {eq}`multi-log-reg-loss` can be written as\n",
    "\n",
    "```{math}\n",
    ":label: multi-log-reg-loss\n",
    "\\mathcal L (\\boldsymbol W) = \\sum\\limits_{i=1}^n \\sum\\limits_{k=1}^K  y_{ik}\\log\\bigg(\\frac{\\exp(\\boldsymbol x_i^\\top\\boldsymbol w_k)}{\\sum\\limits_{1 \\leqslant k \\leqslant K}\\exp(\\boldsymbol x_i^\\top\\boldsymbol w_{k})}\\bigg) =  \\sum\\limits_{i=1}^n \\sum\\limits_{k=1}^K  y_{ik} \\log \\widehat y_{ik},\n",
    "```\n",
    "\n",
    "and this is generally the cross-entropy loss {eq}`cross-entropy`, taken with opposite sign.\n",
    "\n",
    "````{admonition} Question\n",
    ":class: important\n",
    "Denote $\\boldsymbol{\\widehat Y} = (\\widehat y_{ik}) = \\mathrm{Softmax}(\\boldsymbol {XW})$ (softmax is applied to each row). Rewrite the loss function {eq}`multi-log-reg-loss` in matrix form.\n",
    "\n",
    "```{admonition} Answer\n",
    ":class: tip, dropdown\n",
    "$$\n",
    "\\sum\\limits_{i=1}^n \\sum\\limits_{k=1}^K  y_{ik} \\log \\widehat y_{ik} = \\mathrm{tr} (\\boldsymbol Y^\\top \\boldsymbol {\\widehat Y}).\n",
    "$$\n",
    "```\n",
    "````\n",
    "\n",
    "Regularized version:\n",
    "\n",
    "$$\n",
    "\\sum\\limits_{i=1}^n  \\Big(\\boldsymbol x_i^\\top\\boldsymbol w_{y_i} -\\sum\\limits_{k=1}^K \\exp(\\boldsymbol x_i^\\top\\boldsymbol w_{k})\\Big) - C\\Vert \\boldsymbol W \\Vert_F^2 \\to \\max\\limits_{\\boldsymbol W}, \\quad C > 0.\n",
    "$$\n",
    "\n",
    "**Q**. Why do we see minus before the regularization term?"
   ]
  },
  {
   "cell_type": "markdown",
   "metadata": {},
   "source": [
    "## Example: MNIST"
   ]
  },
  {
   "cell_type": "code",
   "execution_count": 1,
   "metadata": {},
   "outputs": [
    {
     "ename": "ModuleNotFoundError",
     "evalue": "No module named 'seaborn'",
     "output_type": "error",
     "traceback": [
      "\u001b[0;31m---------------------------------------------------------------------------\u001b[0m",
      "\u001b[0;31mModuleNotFoundError\u001b[0m                       Traceback (most recent call last)",
      "Cell \u001b[0;32mIn[1], line 3\u001b[0m\n\u001b[1;32m      1\u001b[0m \u001b[38;5;28;01mimport\u001b[39;00m \u001b[38;5;21;01mnumpy\u001b[39;00m \u001b[38;5;28;01mas\u001b[39;00m \u001b[38;5;21;01mnp\u001b[39;00m\n\u001b[1;32m      2\u001b[0m \u001b[38;5;28;01mimport\u001b[39;00m \u001b[38;5;21;01mmatplotlib\u001b[39;00m\u001b[38;5;21;01m.\u001b[39;00m\u001b[38;5;21;01mpyplot\u001b[39;00m \u001b[38;5;28;01mas\u001b[39;00m \u001b[38;5;21;01mplt\u001b[39;00m\n\u001b[0;32m----> 3\u001b[0m \u001b[38;5;28;01mimport\u001b[39;00m \u001b[38;5;21;01mseaborn\u001b[39;00m \u001b[38;5;28;01mas\u001b[39;00m \u001b[38;5;21;01msns\u001b[39;00m\n\u001b[1;32m      4\u001b[0m \u001b[38;5;28;01mfrom\u001b[39;00m \u001b[38;5;21;01msklearn\u001b[39;00m\u001b[38;5;21;01m.\u001b[39;00m\u001b[38;5;21;01mmetrics\u001b[39;00m \u001b[38;5;28;01mimport\u001b[39;00m accuracy_score, confusion_matrix\n\u001b[1;32m      5\u001b[0m \u001b[38;5;28;01mfrom\u001b[39;00m \u001b[38;5;21;01msklearn\u001b[39;00m\u001b[38;5;21;01m.\u001b[39;00m\u001b[38;5;21;01mdatasets\u001b[39;00m \u001b[38;5;28;01mimport\u001b[39;00m fetch_openml\n",
      "\u001b[0;31mModuleNotFoundError\u001b[0m: No module named 'seaborn'"
     ]
    }
   ],
   "source": [
    "import numpy as np\n",
    "import matplotlib.pyplot as plt\n",
    "import seaborn as sns\n",
    "from sklearn.metrics import accuracy_score, confusion_matrix\n",
    "from sklearn.datasets import fetch_openml\n",
    "from sklearn.linear_model import LogisticRegression\n",
    "from sklearn.model_selection import train_test_split\n",
    "\n",
    "%config InlineBackend.figure_format = 'svg'\n",
    "\n",
    "X, Y = fetch_openml('mnist_784', return_X_y=True, parser='auto')\n",
    "\n",
    "X = X.astype(float).values / 255\n",
    "Y = Y.astype(int).values"
   ]
  },
  {
   "cell_type": "markdown",
   "metadata": {},
   "source": [
    "### Visualize data\n",
    "\n",
    "Visualize some random samples:"
   ]
  },
  {
   "cell_type": "code",
   "execution_count": 2,
   "metadata": {
    "tags": [
     "remove-input"
    ]
   },
   "outputs": [
    {
     "ename": "NameError",
     "evalue": "name 'X' is not defined",
     "output_type": "error",
     "traceback": [
      "\u001b[0;31m---------------------------------------------------------------------------\u001b[0m",
      "\u001b[0;31mNameError\u001b[0m                                 Traceback (most recent call last)",
      "Cell \u001b[0;32mIn[2], line 19\u001b[0m\n\u001b[1;32m     16\u001b[0m         plt\u001b[38;5;241m.\u001b[39mtitle(title, size\u001b[38;5;241m=\u001b[39m\u001b[38;5;241m20\u001b[39m)\n\u001b[1;32m     17\u001b[0m     plt\u001b[38;5;241m.\u001b[39mshow()\n\u001b[0;32m---> 19\u001b[0m plot_digits(\u001b[43mX\u001b[49m, Y, random_state\u001b[38;5;241m=\u001b[39m\u001b[38;5;241m12\u001b[39m)\n",
      "\u001b[0;31mNameError\u001b[0m: name 'X' is not defined"
     ]
    }
   ],
   "source": [
    "def plot_digits(X, y_true, y_pred=None, n=4, random_state=123):\n",
    "    np.random.seed(random_state)\n",
    "    indices = np.random.choice(np.arange(X.shape[0]), size=n*n, replace=False)\n",
    "    plt.figure(figsize=(10, 10))\n",
    "    for i in range(n*n):\n",
    "        plt.subplot(n, n, i+1)\n",
    "        plt.xticks([])\n",
    "        plt.yticks([])\n",
    "        plt.grid(False)\n",
    "        plt.imshow(X[indices[i]].reshape(28, 28), cmap='gray')\n",
    "        # plt.imshow(train_images[i], cmap=plt.cm.binary)\n",
    "        if y_pred is None:\n",
    "            title = str(y_true[indices[i]])\n",
    "        else:\n",
    "            title = f\"y={y_true[indices[i]]}, ŷ={y_pred[indices[i]]}\"\n",
    "        plt.title(title, size=20)\n",
    "    plt.show()\n",
    "\n",
    "plot_digits(X, Y, random_state=12)"
   ]
  },
  {
   "cell_type": "markdown",
   "metadata": {},
   "source": [
    "### Splitting into train and test"
   ]
  },
  {
   "cell_type": "code",
   "execution_count": 3,
   "metadata": {},
   "outputs": [
    {
     "ename": "NameError",
     "evalue": "name 'train_test_split' is not defined",
     "output_type": "error",
     "traceback": [
      "\u001b[0;31m---------------------------------------------------------------------------\u001b[0m",
      "\u001b[0;31mNameError\u001b[0m                                 Traceback (most recent call last)",
      "Cell \u001b[0;32mIn[3], line 1\u001b[0m\n\u001b[0;32m----> 1\u001b[0m X_train, X_test, y_train, y_test \u001b[38;5;241m=\u001b[39m \u001b[43mtrain_test_split\u001b[49m(X, Y, test_size\u001b[38;5;241m=\u001b[39m\u001b[38;5;241m10000\u001b[39m)\n\u001b[1;32m      2\u001b[0m X_train\u001b[38;5;241m.\u001b[39mshape, X_test\u001b[38;5;241m.\u001b[39mshape, y_train\u001b[38;5;241m.\u001b[39mshape, y_test\u001b[38;5;241m.\u001b[39mshape\n",
      "\u001b[0;31mNameError\u001b[0m: name 'train_test_split' is not defined"
     ]
    }
   ],
   "source": [
    "X_train, X_test, y_train, y_test = train_test_split(X, Y, test_size=10000)\n",
    "X_train.shape, X_test.shape, y_train.shape, y_test.shape"
   ]
  },
  {
   "cell_type": "markdown",
   "metadata": {},
   "source": [
    "Check that the classes are balanced:"
   ]
  },
  {
   "cell_type": "code",
   "execution_count": 4,
   "metadata": {},
   "outputs": [
    {
     "ename": "NameError",
     "evalue": "name 'y_test' is not defined",
     "output_type": "error",
     "traceback": [
      "\u001b[0;31m---------------------------------------------------------------------------\u001b[0m",
      "\u001b[0;31mNameError\u001b[0m                                 Traceback (most recent call last)",
      "Cell \u001b[0;32mIn[4], line 1\u001b[0m\n\u001b[0;32m----> 1\u001b[0m np\u001b[38;5;241m.\u001b[39munique(\u001b[43my_test\u001b[49m, return_counts\u001b[38;5;241m=\u001b[39m\u001b[38;5;28;01mTrue\u001b[39;00m)\n",
      "\u001b[0;31mNameError\u001b[0m: name 'y_test' is not defined"
     ]
    }
   ],
   "source": [
    "np.unique(y_test, return_counts=True)"
   ]
  },
  {
   "cell_type": "markdown",
   "metadata": {},
   "source": [
    "### Fit and evaluate\n",
    "\n",
    "Fit the logistic regression:"
   ]
  },
  {
   "cell_type": "code",
   "execution_count": 5,
   "metadata": {},
   "outputs": [
    {
     "ename": "NameError",
     "evalue": "name 'LogisticRegression' is not defined",
     "output_type": "error",
     "traceback": [
      "\u001b[0;31m---------------------------------------------------------------------------\u001b[0m",
      "\u001b[0;31mNameError\u001b[0m                                 Traceback (most recent call last)",
      "File \u001b[0;32m<timed exec>:1\u001b[0m\n",
      "\u001b[0;31mNameError\u001b[0m: name 'LogisticRegression' is not defined"
     ]
    }
   ],
   "source": [
    "%%time\n",
    "LR = LogisticRegression(max_iter=100)\n",
    "LR.fit(X_train, y_train)"
   ]
  },
  {
   "cell_type": "markdown",
   "metadata": {},
   "source": [
    "Make predictions:"
   ]
  },
  {
   "cell_type": "code",
   "execution_count": 6,
   "metadata": {},
   "outputs": [
    {
     "ename": "NameError",
     "evalue": "name 'LR' is not defined",
     "output_type": "error",
     "traceback": [
      "\u001b[0;31m---------------------------------------------------------------------------\u001b[0m",
      "\u001b[0;31mNameError\u001b[0m                                 Traceback (most recent call last)",
      "Cell \u001b[0;32mIn[6], line 1\u001b[0m\n\u001b[0;32m----> 1\u001b[0m y_hat \u001b[38;5;241m=\u001b[39m \u001b[43mLR\u001b[49m\u001b[38;5;241m.\u001b[39mpredict(X_test)\n\u001b[1;32m      2\u001b[0m y_hat\n",
      "\u001b[0;31mNameError\u001b[0m: name 'LR' is not defined"
     ]
    }
   ],
   "source": [
    "y_hat = LR.predict(X_test)\n",
    "y_hat"
   ]
  },
  {
   "cell_type": "markdown",
   "metadata": {},
   "source": [
    "We can also predict probabilities:"
   ]
  },
  {
   "cell_type": "code",
   "execution_count": 7,
   "metadata": {},
   "outputs": [
    {
     "ename": "NameError",
     "evalue": "name 'LR' is not defined",
     "output_type": "error",
     "traceback": [
      "\u001b[0;31m---------------------------------------------------------------------------\u001b[0m",
      "\u001b[0;31mNameError\u001b[0m                                 Traceback (most recent call last)",
      "Cell \u001b[0;32mIn[7], line 1\u001b[0m\n\u001b[0;32m----> 1\u001b[0m y_proba \u001b[38;5;241m=\u001b[39m \u001b[43mLR\u001b[49m\u001b[38;5;241m.\u001b[39mpredict_proba(X_test)\n\u001b[1;32m      2\u001b[0m y_proba[:\u001b[38;5;241m3\u001b[39m]\n",
      "\u001b[0;31mNameError\u001b[0m: name 'LR' is not defined"
     ]
    }
   ],
   "source": [
    "y_proba = LR.predict_proba(X_test)\n",
    "y_proba[:3]"
   ]
  },
  {
   "cell_type": "markdown",
   "metadata": {},
   "source": [
    "Calculate metrics:"
   ]
  },
  {
   "cell_type": "code",
   "execution_count": 8,
   "metadata": {},
   "outputs": [
    {
     "ename": "NameError",
     "evalue": "name 'accuracy_score' is not defined",
     "output_type": "error",
     "traceback": [
      "\u001b[0;31m---------------------------------------------------------------------------\u001b[0m",
      "\u001b[0;31mNameError\u001b[0m                                 Traceback (most recent call last)",
      "Cell \u001b[0;32mIn[8], line 1\u001b[0m\n\u001b[0;32m----> 1\u001b[0m \u001b[38;5;28mprint\u001b[39m(\u001b[38;5;124m\"\u001b[39m\u001b[38;5;124mAccuracy:\u001b[39m\u001b[38;5;124m\"\u001b[39m, \u001b[43maccuracy_score\u001b[49m(y_test, y_hat))\n",
      "\u001b[0;31mNameError\u001b[0m: name 'accuracy_score' is not defined"
     ]
    }
   ],
   "source": [
    "print(\"Accuracy:\", accuracy_score(y_test, y_hat))"
   ]
  },
  {
   "cell_type": "markdown",
   "metadata": {},
   "source": [
    "(mnist-confusion-matrix)=\n",
    "### Visualize performance"
   ]
  },
  {
   "cell_type": "code",
   "execution_count": 9,
   "metadata": {},
   "outputs": [
    {
     "ename": "NameError",
     "evalue": "name 'sns' is not defined",
     "output_type": "error",
     "traceback": [
      "\u001b[0;31m---------------------------------------------------------------------------\u001b[0m",
      "\u001b[0;31mNameError\u001b[0m                                 Traceback (most recent call last)",
      "Cell \u001b[0;32mIn[9], line 3\u001b[0m\n\u001b[1;32m      1\u001b[0m plt\u001b[38;5;241m.\u001b[39mfigure(figsize\u001b[38;5;241m=\u001b[39m(\u001b[38;5;241m10\u001b[39m, \u001b[38;5;241m8\u001b[39m))\n\u001b[1;32m      2\u001b[0m plt\u001b[38;5;241m.\u001b[39mtitle(\u001b[38;5;124m\"\u001b[39m\u001b[38;5;124mLogistic regression on MNIST\u001b[39m\u001b[38;5;124m\"\u001b[39m)\n\u001b[0;32m----> 3\u001b[0m \u001b[43msns\u001b[49m\u001b[38;5;241m.\u001b[39mheatmap(confusion_matrix(y_test, y_hat), annot\u001b[38;5;241m=\u001b[39m\u001b[38;5;28;01mTrue\u001b[39;00m);\n",
      "\u001b[0;31mNameError\u001b[0m: name 'sns' is not defined"
     ]
    },
    {
     "data": {
      "image/png": "[encoded data removed]",
      "text/plain": [
       "<Figure size 1000x800 with 1 Axes>"
      ]
     },
     "metadata": {},
     "output_type": "display_data"
    }
   ],
   "source": [
    "plt.figure(figsize=(10, 8))\n",
    "plt.title(\"Logistic regression on MNIST\")\n",
    "sns.heatmap(confusion_matrix(y_test, y_hat), annot=True);"
   ]
  },
  {
   "cell_type": "markdown",
   "metadata": {},
   "source": [
    "Plot some samples with predictions and ground truths:"
   ]
  },
  {
   "cell_type": "code",
   "execution_count": 10,
   "metadata": {},
   "outputs": [
    {
     "ename": "NameError",
     "evalue": "name 'X_test' is not defined",
     "output_type": "error",
     "traceback": [
      "\u001b[0;31m---------------------------------------------------------------------------\u001b[0m",
      "\u001b[0;31mNameError\u001b[0m                                 Traceback (most recent call last)",
      "Cell \u001b[0;32mIn[10], line 1\u001b[0m\n\u001b[0;32m----> 1\u001b[0m plot_digits(\u001b[43mX_test\u001b[49m, y_test, y_hat)\n",
      "\u001b[0;31mNameError\u001b[0m: name 'X_test' is not defined"
     ]
    }
   ],
   "source": [
    "plot_digits(X_test, y_test, y_hat)"
   ]
  }
 ],
 "metadata": {
  "kernelspec": {
   "display_name": "Python 3",
   "language": "python",
   "name": "python3"
  },
  "language_info": {
   "codemirror_mode": {
    "name": "ipython",
    "version": 3
   },
   "file_extension": ".py",
   "mimetype": "text/x-python",
   "name": "python",
   "nbconvert_exporter": "python",
   "pygments_lexer": "ipython3",
   "version": "3.9.6"
  }
 },
 "nbformat": 4,
 "nbformat_minor": 2
}