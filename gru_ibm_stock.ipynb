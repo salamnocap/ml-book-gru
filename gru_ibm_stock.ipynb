{
  "cells": [
    {
      "cell_type": "code",
      "execution_count": 149,
      "metadata": {
        "id": "UXw7IGET4l42"
      },
      "outputs": [],
      "source": [
        "import numpy as np\n",
        "import matplotlib.pyplot as plt\n",
        "import pandas as pd\n",
        "from sklearn.preprocessing import MinMaxScaler\n",
        "from keras.models import Sequential\n",
        "from keras.layers import Dense, LSTM, Dropout, GRU\n",
        "import math\n",
        "from sklearn.metrics import mean_squared_error\n",
        "import plotly.graph_objects as go\n",
        "from plotly.subplots import make_subplots\n",
        "import ipywidgets as widgets\n",
        "from ipywidgets import interactive"
      ]
    },
    {
      "cell_type": "markdown",
      "metadata": {},
      "source": [
        "# Load Dataset"
      ]
    },
    {
      "cell_type": "code",
      "execution_count": 150,
      "metadata": {},
      "outputs": [
        {
          "data": {
            "text/html": [
              "<div>\n",
              "<style scoped>\n",
              "    .dataframe tbody tr th:only-of-type {\n",
              "        vertical-align: middle;\n",
              "    }\n",
              "\n",
              "    .dataframe tbody tr th {\n",
              "        vertical-align: top;\n",
              "    }\n",
              "\n",
              "    .dataframe thead th {\n",
              "        text-align: right;\n",
              "    }\n",
              "</style>\n",
              "<table border=\"1\" class=\"dataframe\">\n",
              "  <thead>\n",
              "    <tr style=\"text-align: right;\">\n",
              "      <th></th>\n",
              "      <th>Open</th>\n",
              "      <th>High</th>\n",
              "      <th>Low</th>\n",
              "      <th>Close</th>\n",
              "      <th>Volume</th>\n",
              "      <th>Name</th>\n",
              "    </tr>\n",
              "    <tr>\n",
              "      <th>Date</th>\n",
              "      <th></th>\n",
              "      <th></th>\n",
              "      <th></th>\n",
              "      <th></th>\n",
              "      <th></th>\n",
              "      <th></th>\n",
              "    </tr>\n",
              "  </thead>\n",
              "  <tbody>\n",
              "    <tr>\n",
              "      <th>2006-01-03</th>\n",
              "      <td>82.45</td>\n",
              "      <td>82.55</td>\n",
              "      <td>80.81</td>\n",
              "      <td>82.06</td>\n",
              "      <td>11715200</td>\n",
              "      <td>IBM</td>\n",
              "    </tr>\n",
              "    <tr>\n",
              "      <th>2006-01-04</th>\n",
              "      <td>82.20</td>\n",
              "      <td>82.50</td>\n",
              "      <td>81.33</td>\n",
              "      <td>81.95</td>\n",
              "      <td>9840600</td>\n",
              "      <td>IBM</td>\n",
              "    </tr>\n",
              "    <tr>\n",
              "      <th>2006-01-05</th>\n",
              "      <td>81.40</td>\n",
              "      <td>82.90</td>\n",
              "      <td>81.00</td>\n",
              "      <td>82.50</td>\n",
              "      <td>7213500</td>\n",
              "      <td>IBM</td>\n",
              "    </tr>\n",
              "    <tr>\n",
              "      <th>2006-01-06</th>\n",
              "      <td>83.95</td>\n",
              "      <td>85.03</td>\n",
              "      <td>83.41</td>\n",
              "      <td>84.95</td>\n",
              "      <td>8197400</td>\n",
              "      <td>IBM</td>\n",
              "    </tr>\n",
              "    <tr>\n",
              "      <th>2006-01-09</th>\n",
              "      <td>84.10</td>\n",
              "      <td>84.25</td>\n",
              "      <td>83.38</td>\n",
              "      <td>83.73</td>\n",
              "      <td>6858200</td>\n",
              "      <td>IBM</td>\n",
              "    </tr>\n",
              "  </tbody>\n",
              "</table>\n",
              "</div>"
            ],
            "text/plain": [
              "             Open   High    Low  Close    Volume Name\n",
              "Date                                                 \n",
              "2006-01-03  82.45  82.55  80.81  82.06  11715200  IBM\n",
              "2006-01-04  82.20  82.50  81.33  81.95   9840600  IBM\n",
              "2006-01-05  81.40  82.90  81.00  82.50   7213500  IBM\n",
              "2006-01-06  83.95  85.03  83.41  84.95   8197400  IBM\n",
              "2006-01-09  84.10  84.25  83.38  83.73   6858200  IBM"
            ]
          },
          "execution_count": 150,
          "metadata": {},
          "output_type": "execute_result"
        }
      ],
      "source": [
        "dataset = pd.read_csv('datasets/IBM_Stock_Data.csv', index_col='Date', parse_dates=['Date'])\n",
        "dataset.head()"
      ]
    },
    {
      "cell_type": "code",
      "execution_count": 151,
      "metadata": {},
      "outputs": [],
      "source": [
        "training_set = dataset[:'2016'].iloc[:,1:2].values\n",
        "test_set = dataset['2017':].iloc[:,1:2].values"
      ]
    },
    {
      "cell_type": "code",
      "execution_count": 152,
      "metadata": {},
      "outputs": [
        {
          "data": {
            "image/png": "[encoded data removed]",
            "text/plain": [
              "<Figure size 1600x400 with 1 Axes>"
            ]
          },
          "metadata": {},
          "output_type": "display_data"
        }
      ],
      "source": [
        "dataset[\"High\"][:'2016'].plot(figsize=(16,4),legend=True)\n",
        "dataset[\"High\"]['2017':].plot(figsize=(16,4),legend=True)\n",
        "plt.legend(['Training set (Before 2017)','Test set (2017 and beyond)'])\n",
        "plt.title('IBM stock price')\n",
        "plt.show()"
      ]
    },
    {
      "cell_type": "code",
      "execution_count": 153,
      "metadata": {
        "id": "4h_39eHW52Gq"
      },
      "outputs": [],
      "source": [
        "sc = MinMaxScaler(feature_range=(0,1))\n",
        "training_set_scaled = sc.fit_transform(training_set)"
      ]
    },
    {
      "cell_type": "code",
      "execution_count": 154,
      "metadata": {},
      "outputs": [
        {
          "data": {
            "text/plain": [
              "2769"
            ]
          },
          "execution_count": 154,
          "metadata": {},
          "output_type": "execute_result"
        }
      ],
      "source": [
        "len(training_set_scaled)"
      ]
    },
    {
      "cell_type": "code",
      "execution_count": 155,
      "metadata": {},
      "outputs": [],
      "source": [
        "# Some functions to help out with\n",
        "def plot_predictions(test,predicted):\n",
        "    plt.plot(test, color='red',label='Real IBM Stock Price')\n",
        "    plt.plot(predicted, color='blue',label='Predicted IBM Stock Price')\n",
        "    plt.title('IBM Stock Price Prediction')\n",
        "    plt.xlabel('Time')\n",
        "    plt.ylabel('IBM Stock Price')\n",
        "    plt.legend()\n",
        "    plt.show()\n",
        "\n",
        "def return_rmse(test,predicted):\n",
        "    rmse = math.sqrt(mean_squared_error(test, predicted))\n",
        "    print(\"The root mean squared error is {}.\".format(rmse))"
      ]
    },
    {
      "cell_type": "code",
      "execution_count": 156,
      "metadata": {
        "id": "zED5BTKR55iD"
      },
      "outputs": [],
      "source": [
        "X_train = []\n",
        "y_train = []\n",
        "for i in range(60,2769):\n",
        "    X_train.append(training_set_scaled[i-60:i,0])\n",
        "    y_train.append(training_set_scaled[i,0])\n",
        "X_train, y_train = np.array(X_train), np.array(y_train)"
      ]
    },
    {
      "cell_type": "code",
      "execution_count": 157,
      "metadata": {
        "id": "1XkfjhIs578Y"
      },
      "outputs": [],
      "source": [
        "X_train = np.reshape(X_train, (X_train.shape[0],X_train.shape[1],1))"
      ]
    },
    {
      "cell_type": "markdown",
      "metadata": {},
      "source": [
        "# GRU"
      ]
    },
    {
      "cell_type": "code",
      "execution_count": 158,
      "metadata": {
        "colab": {
          "base_uri": "https://localhost:8080/"
        },
        "id": "KP48Qnzi6AvI",
        "outputId": "a64bba71-74bf-4f8a-a854-f7a8511b3096"
      },
      "outputs": [
        {
          "name": "stdout",
          "output_type": "stream",
          "text": [
            "Epoch 1/15\n",
            "19/19 [==============================] - 4s 95ms/step - loss: 0.0526\n",
            "Epoch 2/15\n",
            "19/19 [==============================] - 2s 93ms/step - loss: 0.0056\n",
            "Epoch 3/15\n",
            "19/19 [==============================] - 2s 91ms/step - loss: 0.0027\n",
            "Epoch 4/15\n",
            "19/19 [==============================] - 2s 90ms/step - loss: 0.0020\n",
            "Epoch 5/15\n",
            "19/19 [==============================] - 2s 92ms/step - loss: 0.0019\n",
            "Epoch 6/15\n",
            "19/19 [==============================] - 2s 94ms/step - loss: 0.0017\n",
            "Epoch 7/15\n",
            "19/19 [==============================] - 2s 95ms/step - loss: 0.0017\n",
            "Epoch 8/15\n",
            "19/19 [==============================] - 2s 102ms/step - loss: 0.0016\n",
            "Epoch 9/15\n",
            "19/19 [==============================] - 2s 107ms/step - loss: 0.0017\n",
            "Epoch 10/15\n",
            "19/19 [==============================] - 2s 102ms/step - loss: 0.0017\n",
            "Epoch 11/15\n",
            "19/19 [==============================] - 2s 116ms/step - loss: 0.0016\n",
            "Epoch 12/15\n",
            "19/19 [==============================] - 2s 114ms/step - loss: 0.0016\n",
            "Epoch 13/15\n",
            "19/19 [==============================] - 2s 111ms/step - loss: 0.0015\n",
            "Epoch 14/15\n",
            "19/19 [==============================] - 2s 105ms/step - loss: 0.0015\n",
            "Epoch 15/15\n",
            "19/19 [==============================] - 2s 98ms/step - loss: 0.0015\n"
          ]
        },
        {
          "data": {
            "text/plain": [
              "<keras.src.callbacks.History at 0x2daccdd90>"
            ]
          },
          "execution_count": 158,
          "metadata": {},
          "output_type": "execute_result"
        }
      ],
      "source": [
        "model_gru = Sequential()\n",
        "model_gru.add(GRU(62, return_sequences=True, input_shape=X_train.shape[1:]))\n",
        "model_gru.add(Dropout(0.2))\n",
        "model_gru.add(GRU(50, return_sequences=True))\n",
        "model_gru.add(Dropout(0.2))\n",
        "model_gru.add(GRU(50, return_sequences=False))\n",
        "model_gru.add(Dropout(0.2))\n",
        "model_gru.add(Dense(1, activation = \"sigmoid\"))\n",
        "model_gru.compile(optimizer = 'adam', loss = 'mean_squared_error')\n",
        "\n",
        "model_gru.fit(X_train,y_train,epochs=15,batch_size=150)"
      ]
    },
    {
      "cell_type": "code",
      "execution_count": 159,
      "metadata": {},
      "outputs": [],
      "source": [
        "dataset_total = pd.concat((dataset[\"High\"][:'2016'],dataset[\"High\"]['2017':]),axis=0)\n",
        "inputs = dataset_total[len(dataset_total)-len(test_set) - 60:].values\n",
        "inputs = inputs.reshape(-1,1)\n",
        "inputs  = sc.transform(inputs)"
      ]
    },
    {
      "cell_type": "code",
      "execution_count": 160,
      "metadata": {
        "colab": {
          "base_uri": "https://localhost:8080/"
        },
        "id": "LGyshh4-7azI",
        "outputId": "a6484724-a41f-4758-caf3-9960ad096cc3"
      },
      "outputs": [
        {
          "name": "stdout",
          "output_type": "stream",
          "text": [
            "8/8 [==============================] - 0s 7ms/step\n"
          ]
        }
      ],
      "source": [
        "X_test = []\n",
        "for i in range(60,311):\n",
        "    X_test.append(inputs[i-60:i,0])\n",
        "X_test = np.array(X_test)\n",
        "X_test = np.reshape(X_test, (X_test.shape[0],X_test.shape[1],1))\n",
        "predicted_stock_price = model_gru.predict(X_test)\n",
        "predicted_stock_price = sc.inverse_transform(predicted_stock_price)"
      ]
    },
    {
      "cell_type": "code",
      "execution_count": 161,
      "metadata": {
        "colab": {
          "base_uri": "https://localhost:8080/",
          "height": 508
        },
        "id": "uJp5I20H7lmi",
        "outputId": "3952845b-b6ac-486a-b1f1-acc96a154b5a"
      },
      "outputs": [
        {
          "data": {
            "image/png": "[encoded data removed]",
            "text/plain": [
              "<Figure size 640x480 with 1 Axes>"
            ]
          },
          "metadata": {},
          "output_type": "display_data"
        }
      ],
      "source": [
        "plot_predictions(test_set,predicted_stock_price)"
      ]
    },
    {
      "cell_type": "code",
      "execution_count": 162,
      "metadata": {},
      "outputs": [
        {
          "name": "stdout",
          "output_type": "stream",
          "text": [
            "The root mean squared error is 4.0172206725101836.\n"
          ]
        }
      ],
      "source": [
        "return_rmse(test_set,predicted_stock_price)"
      ]
    },
    {
      "cell_type": "markdown",
      "metadata": {},
      "source": [
        "# LSTM"
      ]
    },
    {
      "cell_type": "code",
      "execution_count": 163,
      "metadata": {},
      "outputs": [
        {
          "name": "stdout",
          "output_type": "stream",
          "text": [
            "Epoch 1/15\n",
            "19/19 [==============================] - 4s 115ms/step - loss: 0.0454\n",
            "Epoch 2/15\n",
            "19/19 [==============================] - 2s 117ms/step - loss: 0.0078\n",
            "Epoch 3/15\n",
            "19/19 [==============================] - 2s 111ms/step - loss: 0.0035\n",
            "Epoch 4/15\n",
            "19/19 [==============================] - 2s 108ms/step - loss: 0.0027\n",
            "Epoch 5/15\n",
            "19/19 [==============================] - 2s 106ms/step - loss: 0.0023\n",
            "Epoch 6/15\n",
            "19/19 [==============================] - 2s 110ms/step - loss: 0.0021\n",
            "Epoch 7/15\n",
            "19/19 [==============================] - 2s 110ms/step - loss: 0.0021\n",
            "Epoch 8/15\n",
            "19/19 [==============================] - 2s 109ms/step - loss: 0.0019\n",
            "Epoch 9/15\n",
            "19/19 [==============================] - 2s 109ms/step - loss: 0.0018\n",
            "Epoch 10/15\n",
            "19/19 [==============================] - 2s 109ms/step - loss: 0.0018\n",
            "Epoch 11/15\n",
            "19/19 [==============================] - 2s 118ms/step - loss: 0.0017\n",
            "Epoch 12/15\n",
            "19/19 [==============================] - 2s 111ms/step - loss: 0.0017\n",
            "Epoch 13/15\n",
            "19/19 [==============================] - 2s 109ms/step - loss: 0.0016\n",
            "Epoch 14/15\n",
            "19/19 [==============================] - 2s 111ms/step - loss: 0.0017\n",
            "Epoch 15/15\n",
            "19/19 [==============================] - 2s 112ms/step - loss: 0.0015\n"
          ]
        },
        {
          "data": {
            "text/plain": [
              "<keras.src.callbacks.History at 0x2daf3bad0>"
            ]
          },
          "execution_count": 163,
          "metadata": {},
          "output_type": "execute_result"
        }
      ],
      "source": [
        "model = Sequential()\n",
        "model.add(LSTM(62, return_sequences=True, input_shape=X_train.shape[1:]))\n",
        "model.add(Dropout(0.2))\n",
        "model.add(LSTM(50, return_sequences=True))\n",
        "model.add(Dropout(0.2))\n",
        "model.add(LSTM(50, return_sequences=False))\n",
        "model.add(Dropout(0.2))\n",
        "model.add(Dense(1, activation = \"sigmoid\"))\n",
        "model.compile(optimizer = 'adam', loss = 'mean_squared_error')\n",
        "\n",
        "model.fit(X_train,y_train,epochs=15,batch_size=150)"
      ]
    },
    {
      "cell_type": "code",
      "execution_count": 164,
      "metadata": {},
      "outputs": [
        {
          "name": "stdout",
          "output_type": "stream",
          "text": [
            "8/8 [==============================] - 1s 9ms/step\n"
          ]
        }
      ],
      "source": [
        "lstm_predicted_stock_price = model.predict(X_test)\n",
        "lstm_predicted_stock_price = sc.inverse_transform(lstm_predicted_stock_price)"
      ]
    },
    {
      "cell_type": "code",
      "execution_count": 165,
      "metadata": {},
      "outputs": [
        {
          "data": {
            "image/png": "[encoded data removed]",
            "text/plain": [
              "<Figure size 640x480 with 1 Axes>"
            ]
          },
          "metadata": {},
          "output_type": "display_data"
        }
      ],
      "source": [
        "plot_predictions(test_set,lstm_predicted_stock_price)"
      ]
    },
    {
      "cell_type": "code",
      "execution_count": 166,
      "metadata": {},
      "outputs": [
        {
          "name": "stdout",
          "output_type": "stream",
          "text": [
            "The root mean squared error is 4.329638911537309.\n"
          ]
        }
      ],
      "source": [
        "return_rmse(test_set,lstm_predicted_stock_price)"
      ]
    },
    {
      "cell_type": "markdown",
      "metadata": {},
      "source": [
        "# Intreactive plot"
      ]
    },
    {
      "cell_type": "code",
      "execution_count": 167,
      "metadata": {},
      "outputs": [
        {
          "data": {
            "text/plain": [
              "(251, 251, 251)"
            ]
          },
          "execution_count": 167,
          "metadata": {},
          "output_type": "execute_result"
        }
      ],
      "source": [
        "len(test_set), len(predicted_stock_price), len(lstm_predicted_stock_price)"
      ]
    },
    {
      "cell_type": "code",
      "execution_count": 168,
      "metadata": {},
      "outputs": [
        {
          "data": {
            "text/plain": [
              "[<matplotlib.lines.Line2D at 0x2db034b10>]"
            ]
          },
          "execution_count": 168,
          "metadata": {},
          "output_type": "execute_result"
        },
        {
          "data": {
            "image/png": "[encoded data removed]",
            "text/plain": [
              "<Figure size 640x480 with 1 Axes>"
            ]
          },
          "metadata": {},
          "output_type": "display_data"
        }
      ],
      "source": [
        "plt.plot(test_set, color='red',label='Real IBM Stock Price')\n",
        "plt.plot(predicted_stock_price, color='blue',label='Predicted IBM Stock Price')\n",
        "plt.plot(lstm_predicted_stock_price, color='green',label='Predicted IBM Stock Price')"
      ]
    },
    {
      "cell_type": "code",
      "execution_count": 169,
      "metadata": {},
      "outputs": [],
      "source": [
        "def plot(dates, test_set, predicted_stock_price, lstm_predicted_stock_price):\n",
        "    fig = go.Figure()\n",
        "    fig.add_trace(go.Scatter(x=dates, y=test_set.flatten(), name=\"Real IBM Stock Price\"))\n",
        "    fig.add_trace(go.Scatter(x=dates, y=predicted_stock_price.flatten(), name=\"Predicted IBM Stock Price (GRU)\"))\n",
        "    fig.add_trace(go.Scatter(x=dates, y=lstm_predicted_stock_price.flatten(), name=\"Predicted IBM Stock Price (LSTM)\"))\n",
        "    fig.update_layout(height=400, width=1000, title_text=\"IBM Stock Price Prediction\", xaxis_rangeslider_visible=True)\n",
        "    fig.show()"
      ]
    },
    {
      "cell_type": "code",
      "execution_count": 170,
      "metadata": {},
      "outputs": [
        {
          "data": {
            "application/vnd.plotly.v1+json": {
              "config": {
                "plotlyServerURL": "https://plot.ly"
              },
              "data": [
                {
                  "name": "Real IBM Stock Price",
                  "type": "scatter",
                  "x": [
                    "2017-01-03T00:00:00",
                    "2017-01-04T00:00:00",
                    "2017-01-05T00:00:00",
                    "2017-01-06T00:00:00",
                    "2017-01-09T00:00:00",
                    "2017-01-10T00:00:00",
                    "2017-01-11T00:00:00",
                    "2017-01-12T00:00:00",
                    "2017-01-13T00:00:00",
                    "2017-01-17T00:00:00",
                    "2017-01-18T00:00:00",
                    "2017-01-19T00:00:00",
                    "2017-01-20T00:00:00",
                    "2017-01-23T00:00:00",
                    "2017-01-24T00:00:00",
                    "2017-01-25T00:00:00",
                    "2017-01-26T00:00:00",
                    "2017-01-27T00:00:00",
                    "2017-01-30T00:00:00",
                    "2017-01-31T00:00:00",
                    "2017-02-01T00:00:00",
                    "2017-02-02T00:00:00",
                    "2017-02-03T00:00:00",
                    "2017-02-06T00:00:00",
                    "2017-02-07T00:00:00",
                    "2017-02-08T00:00:00",
                    "2017-02-09T00:00:00",
                    "2017-02-10T00:00:00",
                    "2017-02-13T00:00:00",
                    "2017-02-14T00:00:00",
                    "2017-02-15T00:00:00",
                    "2017-02-16T00:00:00",
                    "2017-02-17T00:00:00",
                    "2017-02-21T00:00:00",
                    "2017-02-22T00:00:00",
                    "2017-02-23T00:00:00",
                    "2017-02-24T00:00:00",
                    "2017-02-27T00:00:00",
                    "2017-02-28T00:00:00",
                    "2017-03-01T00:00:00",
                    "2017-03-02T00:00:00",
                    "2017-03-03T00:00:00",
                    "2017-03-06T00:00:00",
                    "2017-03-07T00:00:00",
                    "2017-03-08T00:00:00",
                    "2017-03-09T00:00:00",
                    "2017-03-10T00:00:00",
                    "2017-03-13T00:00:00",
                    "2017-03-14T00:00:00",
                    "2017-03-15T00:00:00",
                    "2017-03-16T00:00:00",
                    "2017-03-17T00:00:00",
                    "2017-03-20T00:00:00",
                    "2017-03-21T00:00:00",
                    "2017-03-22T00:00:00",
                    "2017-03-23T00:00:00",
                    "2017-03-24T00:00:00",
                    "2017-03-27T00:00:00",
                    "2017-03-28T00:00:00",
                    "2017-03-29T00:00:00",
                    "2017-03-30T00:00:00",
                    "2017-03-31T00:00:00",
                    "2017-04-03T00:00:00",
                    "2017-04-04T00:00:00",
                    "2017-04-05T00:00:00",
                    "2017-04-06T00:00:00",
                    "2017-04-07T00:00:00",
                    "2017-04-10T00:00:00",
                    "2017-04-11T00:00:00",
                    "2017-04-12T00:00:00",
                    "2017-04-13T00:00:00",
                    "2017-04-17T00:00:00",
                    "2017-04-18T00:00:00",
                    "2017-04-19T00:00:00",
                    "2017-04-20T00:00:00",
                    "2017-04-21T00:00:00",
                    "2017-04-24T00:00:00",
                    "2017-04-25T00:00:00",
                    "2017-04-26T00:00:00",
                    "2017-04-27T00:00:00",
                    "2017-04-28T00:00:00",
                    "2017-05-01T00:00:00",
                    "2017-05-02T00:00:00",
                    "2017-05-03T00:00:00",
                    "2017-05-04T00:00:00",
                    "2017-05-05T00:00:00",
                    "2017-05-08T00:00:00",
                    "2017-05-09T00:00:00",
                    "2017-05-10T00:00:00",
                    "2017-05-11T00:00:00",
                    "2017-05-12T00:00:00",
                    "2017-05-15T00:00:00",
                    "2017-05-16T00:00:00",
                    "2017-05-17T00:00:00",
                    "2017-05-18T00:00:00",
                    "2017-05-19T00:00:00",
                    "2017-05-22T00:00:00",
                    "2017-05-23T00:00:00",
                    "2017-05-24T00:00:00",
                    "2017-05-25T00:00:00",
                    "2017-05-26T00:00:00",
                    "2017-05-30T00:00:00",
                    "2017-05-31T00:00:00",
                    "2017-06-01T00:00:00",
                    "2017-06-02T00:00:00",
                    "2017-06-05T00:00:00",
                    "2017-06-06T00:00:00",
                    "2017-06-07T00:00:00",
                    "2017-06-08T00:00:00",
                    "2017-06-09T00:00:00",
                    "2017-06-12T00:00:00",
                    "2017-06-13T00:00:00",
                    "2017-06-14T00:00:00",
                    "2017-06-15T00:00:00",
                    "2017-06-16T00:00:00",
                    "2017-06-19T00:00:00",
                    "2017-06-20T00:00:00",
                    "2017-06-21T00:00:00",
                    "2017-06-22T00:00:00",
                    "2017-06-23T00:00:00",
                    "2017-06-26T00:00:00",
                    "2017-06-27T00:00:00",
                    "2017-06-28T00:00:00",
                    "2017-06-29T00:00:00",
                    "2017-06-30T00:00:00",
                    "2017-07-03T00:00:00",
                    "2017-07-05T00:00:00",
                    "2017-07-06T00:00:00",
                    "2017-07-07T00:00:00",
                    "2017-07-10T00:00:00",
                    "2017-07-11T00:00:00",
                    "2017-07-12T00:00:00",
                    "2017-07-13T00:00:00",
                    "2017-07-14T00:00:00",
                    "2017-07-17T00:00:00",
                    "2017-07-18T00:00:00",
                    "2017-07-19T00:00:00",
                    "2017-07-20T00:00:00",
                    "2017-07-21T00:00:00",
                    "2017-07-24T00:00:00",
                    "2017-07-25T00:00:00",
                    "2017-07-26T00:00:00",
                    "2017-07-27T00:00:00",
                    "2017-07-28T00:00:00",
                    "2017-07-31T00:00:00",
                    "2017-08-01T00:00:00",
                    "2017-08-02T00:00:00",
                    "2017-08-03T00:00:00",
                    "2017-08-04T00:00:00",
                    "2017-08-07T00:00:00",
                    "2017-08-08T00:00:00",
                    "2017-08-09T00:00:00",
                    "2017-08-10T00:00:00",
                    "2017-08-11T00:00:00",
                    "2017-08-14T00:00:00",
                    "2017-08-15T00:00:00",
                    "2017-08-16T00:00:00",
                    "2017-08-17T00:00:00",
                    "2017-08-18T00:00:00",
                    "2017-08-21T00:00:00",
                    "2017-08-22T00:00:00",
                    "2017-08-23T00:00:00",
                    "2017-08-24T00:00:00",
                    "2017-08-25T00:00:00",
                    "2017-08-28T00:00:00",
                    "2017-08-29T00:00:00",
                    "2017-08-30T00:00:00",
                    "2017-08-31T00:00:00",
                    "2017-09-01T00:00:00",
                    "2017-09-05T00:00:00",
                    "2017-09-06T00:00:00",
                    "2017-09-07T00:00:00",
                    "2017-09-08T00:00:00",
                    "2017-09-11T00:00:00",
                    "2017-09-12T00:00:00",
                    "2017-09-13T00:00:00",
                    "2017-09-14T00:00:00",
                    "2017-09-15T00:00:00",
                    "2017-09-18T00:00:00",
                    "2017-09-19T00:00:00",
                    "2017-09-20T00:00:00",
                    "2017-09-21T00:00:00",
                    "2017-09-22T00:00:00",
                    "2017-09-25T00:00:00",
                    "2017-09-26T00:00:00",
                    "2017-09-27T00:00:00",
                    "2017-09-28T00:00:00",
                    "2017-09-29T00:00:00",
                    "2017-10-02T00:00:00",
                    "2017-10-03T00:00:00",
                    "2017-10-04T00:00:00",
                    "2017-10-05T00:00:00",
                    "2017-10-06T00:00:00",
                    "2017-10-09T00:00:00",
                    "2017-10-10T00:00:00",
                    "2017-10-11T00:00:00",
                    "2017-10-12T00:00:00",
                    "2017-10-13T00:00:00",
                    "2017-10-16T00:00:00",
                    "2017-10-17T00:00:00",
                    "2017-10-18T00:00:00",
                    "2017-10-19T00:00:00",
                    "2017-10-20T00:00:00",
                    "2017-10-23T00:00:00",
                    "2017-10-24T00:00:00",
                    "2017-10-25T00:00:00",
                    "2017-10-26T00:00:00",
                    "2017-10-27T00:00:00",
                    "2017-10-30T00:00:00",
                    "2017-10-31T00:00:00",
                    "2017-11-01T00:00:00",
                    "2017-11-02T00:00:00",
                    "2017-11-03T00:00:00",
                    "2017-11-06T00:00:00",
                    "2017-11-07T00:00:00",
                    "2017-11-08T00:00:00",
                    "2017-11-09T00:00:00",
                    "2017-11-10T00:00:00",
                    "2017-11-13T00:00:00",
                    "2017-11-14T00:00:00",
                    "2017-11-15T00:00:00",
                    "2017-11-16T00:00:00",
                    "2017-11-17T00:00:00",
                    "2017-11-20T00:00:00",
                    "2017-11-21T00:00:00",
                    "2017-11-22T00:00:00",
                    "2017-11-24T00:00:00",
                    "2017-11-27T00:00:00",
                    "2017-11-28T00:00:00",
                    "2017-11-29T00:00:00",
                    "2017-11-30T00:00:00",
                    "2017-12-01T00:00:00",
                    "2017-12-04T00:00:00",
                    "2017-12-05T00:00:00",
                    "2017-12-06T00:00:00",
                    "2017-12-07T00:00:00",
                    "2017-12-08T00:00:00",
                    "2017-12-11T00:00:00",
                    "2017-12-12T00:00:00",
                    "2017-12-13T00:00:00",
                    "2017-12-14T00:00:00",
                    "2017-12-15T00:00:00",
                    "2017-12-18T00:00:00",
                    "2017-12-19T00:00:00",
                    "2017-12-20T00:00:00",
                    "2017-12-21T00:00:00",
                    "2017-12-22T00:00:00",
                    "2017-12-26T00:00:00",
                    "2017-12-27T00:00:00",
                    "2017-12-28T00:00:00",
                    "2017-12-29T00:00:00"
                  ],
                  "y": [
                    167.87,
                    169.87,
                    169.39,
                    169.92,
                    169.8,
                    168.09,
                    167.76,
                    168.01,
                    168.48,
                    168.18,
                    168.59,
                    167.45,
                    170.64,
                    171.25,
                    176,
                    179.25,
                    178.88,
                    179.2,
                    177.07,
                    175.58,
                    175.7,
                    174.97,
                    176.34,
                    175.98,
                    178.62,
                    177.5,
                    177.8,
                    178.87,
                    179.9,
                    180.13,
                    181.92,
                    182.79,
                    181.57,
                    180.79,
                    181.34,
                    182.5,
                    181.49,
                    181.25,
                    180.63,
                    182.55,
                    181.88,
                    181.32,
                    180.99,
                    181.29,
                    180.95,
                    179.25,
                    179.49,
                    178.06,
                    176.82,
                    176.28,
                    179,
                    176.79,
                    176.18,
                    176.23,
                    175.06,
                    175.67,
                    175.5,
                    174.16,
                    175,
                    174.49,
                    174.59,
                    174.95,
                    174.87,
                    174.96,
                    176.33,
                    173.47,
                    172.93,
                    172.56,
                    171.23,
                    171.2,
                    171.36,
                    171.3,
                    171.69,
                    162.64,
                    162.4,
                    162.11,
                    161.57,
                    162.04,
                    161.1,
                    160.48,
                    160.59,
                    160.42,
                    159.49,
                    159.45,
                    159.14,
                    155.78,
                    153.47,
                    153.1,
                    152.37,
                    151.15,
                    151.26,
                    151.83,
                    153.99,
                    154.14,
                    151.33,
                    152.46,
                    152.84,
                    153.68,
                    152.76,
                    153.73,
                    153,
                    152.67,
                    152.8,
                    152.87,
                    153.2,
                    152.93,
                    152.89,
                    154.2,
                    152.82,
                    154.26,
                    157.2,
                    155.48,
                    154.94,
                    154.69,
                    155.42,
                    155.86,
                    155.39,
                    155.79,
                    154.99,
                    154.68,
                    155.75,
                    155.34,
                    155.55,
                    155.74,
                    154.5,
                    156.02,
                    155.89,
                    153.83,
                    153.49,
                    153.89,
                    153.65,
                    154.24,
                    154.19,
                    154.62,
                    153.88,
                    154.29,
                    150.25,
                    148.83,
                    147.87,
                    147.04,
                    147.49,
                    146.46,
                    145.4,
                    145.04,
                    144.93,
                    145.67,
                    145.29,
                    145.34,
                    145.39,
                    145.09,
                    142.76,
                    142.03,
                    142.42,
                    142.59,
                    142.76,
                    143.34,
                    142.91,
                    142.89,
                    141.15,
                    140.42,
                    141.15,
                    143.05,
                    143.68,
                    144.19,
                    144.56,
                    143.42,
                    143.28,
                    143.66,
                    144.5,
                    144.36,
                    144.47,
                    144.64,
                    143.15,
                    145.13,
                    146.37,
                    146.29,
                    146.38,
                    145.17,
                    145.48,
                    144.98,
                    145.88,
                    145.89,
                    145.59,
                    146.03,
                    147.42,
                    146.9,
                    145.86,
                    145.69,
                    146.86,
                    147.2,
                    147.02,
                    147.54,
                    146.85,
                    147.79,
                    148.95,
                    148.47,
                    147.89,
                    147.85,
                    147.67,
                    147.12,
                    161.23,
                    160.96,
                    162.48,
                    162.51,
                    159.7,
                    156.37,
                    155.12,
                    154.63,
                    154.59,
                    154.93,
                    154.9,
                    154.49,
                    153.47,
                    151.82,
                    151.51,
                    151.79,
                    151.8,
                    150.89,
                    149,
                    148.97,
                    148.7,
                    149.65,
                    150.15,
                    151.95,
                    152.45,
                    152.39,
                    152.2,
                    152.49,
                    152.93,
                    153.61,
                    154.41,
                    155.02,
                    156.8,
                    156.74,
                    156.22,
                    154.45,
                    155.03,
                    155.89,
                    157.85,
                    156.73,
                    155.11,
                    153.8,
                    154.18,
                    154.17,
                    153.89,
                    153.46,
                    153,
                    153.86,
                    153.18,
                    154.12,
                    154.72
                  ]
                },
                {
                  "name": "Predicted IBM Stock Price (GRU)",
                  "type": "scatter",
                  "x": [
                    "2017-01-03T00:00:00",
                    "2017-01-04T00:00:00",
                    "2017-01-05T00:00:00",
                    "2017-01-06T00:00:00",
                    "2017-01-09T00:00:00",
                    "2017-01-10T00:00:00",
                    "2017-01-11T00:00:00",
                    "2017-01-12T00:00:00",
                    "2017-01-13T00:00:00",
                    "2017-01-17T00:00:00",
                    "2017-01-18T00:00:00",
                    "2017-01-19T00:00:00",
                    "2017-01-20T00:00:00",
                    "2017-01-23T00:00:00",
                    "2017-01-24T00:00:00",
                    "2017-01-25T00:00:00",
                    "2017-01-26T00:00:00",
                    "2017-01-27T00:00:00",
                    "2017-01-30T00:00:00",
                    "2017-01-31T00:00:00",
                    "2017-02-01T00:00:00",
                    "2017-02-02T00:00:00",
                    "2017-02-03T00:00:00",
                    "2017-02-06T00:00:00",
                    "2017-02-07T00:00:00",
                    "2017-02-08T00:00:00",
                    "2017-02-09T00:00:00",
                    "2017-02-10T00:00:00",
                    "2017-02-13T00:00:00",
                    "2017-02-14T00:00:00",
                    "2017-02-15T00:00:00",
                    "2017-02-16T00:00:00",
                    "2017-02-17T00:00:00",
                    "2017-02-21T00:00:00",
                    "2017-02-22T00:00:00",
                    "2017-02-23T00:00:00",
                    "2017-02-24T00:00:00",
                    "2017-02-27T00:00:00",
                    "2017-02-28T00:00:00",
                    "2017-03-01T00:00:00",
                    "2017-03-02T00:00:00",
                    "2017-03-03T00:00:00",
                    "2017-03-06T00:00:00",
                    "2017-03-07T00:00:00",
                    "2017-03-08T00:00:00",
                    "2017-03-09T00:00:00",
                    "2017-03-10T00:00:00",
                    "2017-03-13T00:00:00",
                    "2017-03-14T00:00:00",
                    "2017-03-15T00:00:00",
                    "2017-03-16T00:00:00",
                    "2017-03-17T00:00:00",
                    "2017-03-20T00:00:00",
                    "2017-03-21T00:00:00",
                    "2017-03-22T00:00:00",
                    "2017-03-23T00:00:00",
                    "2017-03-24T00:00:00",
                    "2017-03-27T00:00:00",
                    "2017-03-28T00:00:00",
                    "2017-03-29T00:00:00",
                    "2017-03-30T00:00:00",
                    "2017-03-31T00:00:00",
                    "2017-04-03T00:00:00",
                    "2017-04-04T00:00:00",
                    "2017-04-05T00:00:00",
                    "2017-04-06T00:00:00",
                    "2017-04-07T00:00:00",
                    "2017-04-10T00:00:00",
                    "2017-04-11T00:00:00",
                    "2017-04-12T00:00:00",
                    "2017-04-13T00:00:00",
                    "2017-04-17T00:00:00",
                    "2017-04-18T00:00:00",
                    "2017-04-19T00:00:00",
                    "2017-04-20T00:00:00",
                    "2017-04-21T00:00:00",
                    "2017-04-24T00:00:00",
                    "2017-04-25T00:00:00",
                    "2017-04-26T00:00:00",
                    "2017-04-27T00:00:00",
                    "2017-04-28T00:00:00",
                    "2017-05-01T00:00:00",
                    "2017-05-02T00:00:00",
                    "2017-05-03T00:00:00",
                    "2017-05-04T00:00:00",
                    "2017-05-05T00:00:00",
                    "2017-05-08T00:00:00",
                    "2017-05-09T00:00:00",
                    "2017-05-10T00:00:00",
                    "2017-05-11T00:00:00",
                    "2017-05-12T00:00:00",
                    "2017-05-15T00:00:00",
                    "2017-05-16T00:00:00",
                    "2017-05-17T00:00:00",
                    "2017-05-18T00:00:00",
                    "2017-05-19T00:00:00",
                    "2017-05-22T00:00:00",
                    "2017-05-23T00:00:00",
                    "2017-05-24T00:00:00",
                    "2017-05-25T00:00:00",
                    "2017-05-26T00:00:00",
                    "2017-05-30T00:00:00",
                    "2017-05-31T00:00:00",
                    "2017-06-01T00:00:00",
                    "2017-06-02T00:00:00",
                    "2017-06-05T00:00:00",
                    "2017-06-06T00:00:00",
                    "2017-06-07T00:00:00",
                    "2017-06-08T00:00:00",
                    "2017-06-09T00:00:00",
                    "2017-06-12T00:00:00",
                    "2017-06-13T00:00:00",
                    "2017-06-14T00:00:00",
                    "2017-06-15T00:00:00",
                    "2017-06-16T00:00:00",
                    "2017-06-19T00:00:00",
                    "2017-06-20T00:00:00",
                    "2017-06-21T00:00:00",
                    "2017-06-22T00:00:00",
                    "2017-06-23T00:00:00",
                    "2017-06-26T00:00:00",
                    "2017-06-27T00:00:00",
                    "2017-06-28T00:00:00",
                    "2017-06-29T00:00:00",
                    "2017-06-30T00:00:00",
                    "2017-07-03T00:00:00",
                    "2017-07-05T00:00:00",
                    "2017-07-06T00:00:00",
                    "2017-07-07T00:00:00",
                    "2017-07-10T00:00:00",
                    "2017-07-11T00:00:00",
                    "2017-07-12T00:00:00",
                    "2017-07-13T00:00:00",
                    "2017-07-14T00:00:00",
                    "2017-07-17T00:00:00",
                    "2017-07-18T00:00:00",
                    "2017-07-19T00:00:00",
                    "2017-07-20T00:00:00",
                    "2017-07-21T00:00:00",
                    "2017-07-24T00:00:00",
                    "2017-07-25T00:00:00",
                    "2017-07-26T00:00:00",
                    "2017-07-27T00:00:00",
                    "2017-07-28T00:00:00",
                    "2017-07-31T00:00:00",
                    "2017-08-01T00:00:00",
                    "2017-08-02T00:00:00",
                    "2017-08-03T00:00:00",
                    "2017-08-04T00:00:00",
                    "2017-08-07T00:00:00",
                    "2017-08-08T00:00:00",
                    "2017-08-09T00:00:00",
                    "2017-08-10T00:00:00",
                    "2017-08-11T00:00:00",
                    "2017-08-14T00:00:00",
                    "2017-08-15T00:00:00",
                    "2017-08-16T00:00:00",
                    "2017-08-17T00:00:00",
                    "2017-08-18T00:00:00",
                    "2017-08-21T00:00:00",
                    "2017-08-22T00:00:00",
                    "2017-08-23T00:00:00",
                    "2017-08-24T00:00:00",
                    "2017-08-25T00:00:00",
                    "2017-08-28T00:00:00",
                    "2017-08-29T00:00:00",
                    "2017-08-30T00:00:00",
                    "2017-08-31T00:00:00",
                    "2017-09-01T00:00:00",
                    "2017-09-05T00:00:00",
                    "2017-09-06T00:00:00",
                    "2017-09-07T00:00:00",
                    "2017-09-08T00:00:00",
                    "2017-09-11T00:00:00",
                    "2017-09-12T00:00:00",
                    "2017-09-13T00:00:00",
                    "2017-09-14T00:00:00",
                    "2017-09-15T00:00:00",
                    "2017-09-18T00:00:00",
                    "2017-09-19T00:00:00",
                    "2017-09-20T00:00:00",
                    "2017-09-21T00:00:00",
                    "2017-09-22T00:00:00",
                    "2017-09-25T00:00:00",
                    "2017-09-26T00:00:00",
                    "2017-09-27T00:00:00",
                    "2017-09-28T00:00:00",
                    "2017-09-29T00:00:00",
                    "2017-10-02T00:00:00",
                    "2017-10-03T00:00:00",
                    "2017-10-04T00:00:00",
                    "2017-10-05T00:00:00",
                    "2017-10-06T00:00:00",
                    "2017-10-09T00:00:00",
                    "2017-10-10T00:00:00",
                    "2017-10-11T00:00:00",
                    "2017-10-12T00:00:00",
                    "2017-10-13T00:00:00",
                    "2017-10-16T00:00:00",
                    "2017-10-17T00:00:00",
                    "2017-10-18T00:00:00",
                    "2017-10-19T00:00:00",
                    "2017-10-20T00:00:00",
                    "2017-10-23T00:00:00",
                    "2017-10-24T00:00:00",
                    "2017-10-25T00:00:00",
                    "2017-10-26T00:00:00",
                    "2017-10-27T00:00:00",
                    "2017-10-30T00:00:00",
                    "2017-10-31T00:00:00",
                    "2017-11-01T00:00:00",
                    "2017-11-02T00:00:00",
                    "2017-11-03T00:00:00",
                    "2017-11-06T00:00:00",
                    "2017-11-07T00:00:00",
                    "2017-11-08T00:00:00",
                    "2017-11-09T00:00:00",
                    "2017-11-10T00:00:00",
                    "2017-11-13T00:00:00",
                    "2017-11-14T00:00:00",
                    "2017-11-15T00:00:00",
                    "2017-11-16T00:00:00",
                    "2017-11-17T00:00:00",
                    "2017-11-20T00:00:00",
                    "2017-11-21T00:00:00",
                    "2017-11-22T00:00:00",
                    "2017-11-24T00:00:00",
                    "2017-11-27T00:00:00",
                    "2017-11-28T00:00:00",
                    "2017-11-29T00:00:00",
                    "2017-11-30T00:00:00",
                    "2017-12-01T00:00:00",
                    "2017-12-04T00:00:00",
                    "2017-12-05T00:00:00",
                    "2017-12-06T00:00:00",
                    "2017-12-07T00:00:00",
                    "2017-12-08T00:00:00",
                    "2017-12-11T00:00:00",
                    "2017-12-12T00:00:00",
                    "2017-12-13T00:00:00",
                    "2017-12-14T00:00:00",
                    "2017-12-15T00:00:00",
                    "2017-12-18T00:00:00",
                    "2017-12-19T00:00:00",
                    "2017-12-20T00:00:00",
                    "2017-12-21T00:00:00",
                    "2017-12-22T00:00:00",
                    "2017-12-26T00:00:00",
                    "2017-12-27T00:00:00",
                    "2017-12-28T00:00:00",
                    "2017-12-29T00:00:00"
                  ],
                  "y": [
                    171.24107360839844,
                    171.11959838867188,
                    171.27333068847656,
                    171.57896423339844,
                    171.96591186523438,
                    172.33966064453125,
                    172.50064086914062,
                    172.4453125,
                    172.28533935546875,
                    172.14317321777344,
                    172.0258026123047,
                    171.97105407714844,
                    171.8667755126953,
                    171.99794006347656,
                    172.37826538085938,
                    173.2902374267578,
                    174.76783752441406,
                    176.39859008789062,
                    177.89369201660156,
                    178.93536376953125,
                    179.43157958984375,
                    179.5476531982422,
                    179.40304565429688,
                    179.24620056152344,
                    179.12278747558594,
                    179.24749755859375,
                    179.4685516357422,
                    179.71499633789062,
                    180.02130126953125,
                    180.42210388183594,
                    180.86648559570312,
                    181.4189910888672,
                    182.06121826171875,
                    182.60035705566406,
                    182.9297332763672,
                    183.1212921142578,
                    183.3128662109375,
                    183.44395446777344,
                    183.495361328125,
                    183.44512939453125,
                    183.47149658203125,
                    183.53289794921875,
                    183.5595245361328,
                    183.52328491210938,
                    183.46803283691406,
                    183.3918914794922,
                    183.1866912841797,
                    182.91441345214844,
                    182.53533935546875,
                    182.02349853515625,
                    181.4282989501953,
                    181.0516815185547,
                    180.74395751953125,
                    180.42308044433594,
                    180.10777282714844,
                    179.73806762695312,
                    179.40223693847656,
                    179.1244354248047,
                    178.8064422607422,
                    178.5363006591797,
                    178.2995147705078,
                    178.1089324951172,
                    177.9955291748047,
                    177.93984985351562,
                    177.9269561767578,
                    178.04815673828125,
                    178.02984619140625,
                    177.82363891601562,
                    177.4812774658203,
                    176.99009704589844,
                    176.44515991210938,
                    175.95054626464844,
                    175.5495147705078,
                    175.28369140625,
                    174.3690185546875,
                    172.92095947265625,
                    171.26109313964844,
                    169.63877868652344,
                    168.2816925048828,
                    167.1741485595703,
                    166.25411987304688,
                    165.52565002441406,
                    164.96499633789062,
                    164.46339416503906,
                    164.0138397216797,
                    163.6056671142578,
                    162.93310546875,
                    161.86058044433594,
                    160.56491088867188,
                    159.21376037597656,
                    157.86390686035156,
                    156.65567016601562,
                    155.73133850097656,
                    155.31629943847656,
                    155.3195037841797,
                    155.2707977294922,
                    155.20004272460938,
                    155.17022705078125,
                    155.2697296142578,
                    155.3669891357422,
                    155.52182006835938,
                    155.63832092285156,
                    155.665283203125,
                    155.63665771484375,
                    155.5918426513672,
                    155.58375549316406,
                    155.5836181640625,
                    155.57723999023438,
                    155.69715881347656,
                    155.77468872070312,
                    155.92559814453125,
                    156.43345642089844,
                    157.00413513183594,
                    157.4380340576172,
                    157.67921447753906,
                    157.84271240234375,
                    158.0154571533203,
                    158.1510772705078,
                    158.2804412841797,
                    158.3212127685547,
                    158.2538299560547,
                    158.22885131835938,
                    158.22618103027344,
                    158.25314331054688,
                    158.3162384033203,
                    158.2731475830078,
                    158.28787231445312,
                    158.36231994628906,
                    158.2607421875,
                    157.97120666503906,
                    157.62985229492188,
                    157.2951202392578,
                    157.0666961669922,
                    156.941650390625,
                    156.93319702148438,
                    156.92518615722656,
                    156.93247985839844,
                    156.5458526611328,
                    155.71261596679688,
                    154.56768798828125,
                    153.27760314941406,
                    152.09487915039062,
                    151.03614807128906,
                    150.04043579101562,
                    149.11883544921875,
                    148.31544494628906,
                    147.7428741455078,
                    147.35093688964844,
                    147.09808349609375,
                    146.9490203857422,
                    146.83839416503906,
                    146.5057373046875,
                    145.92958068847656,
                    145.29017639160156,
                    144.7288360595703,
                    144.31553649902344,
                    144.1056365966797,
                    144.00778198242188,
                    143.96365356445312,
                    143.7634735107422,
                    143.36056518554688,
                    142.9332275390625,
                    142.7674560546875,
                    142.9105224609375,
                    143.29425048828125,
                    143.81398010253906,
                    144.2287139892578,
                    144.47171020507812,
                    144.61251831054688,
                    144.78225708007812,
                    144.97119140625,
                    145.16360473632812,
                    145.3546600341797,
                    145.3724822998047,
                    145.4464111328125,
                    145.7318878173828,
                    146.15000915527344,
                    146.60232543945312,
                    146.8867950439453,
                    147.02806091308594,
                    147.0238037109375,
                    147.02317810058594,
                    147.06088256835938,
                    147.09521484375,
                    147.1595458984375,
                    147.38848876953125,
                    147.676025390625,
                    147.84085083007812,
                    147.855712890625,
                    147.8924560546875,
                    148.01551818847656,
                    148.17669677734375,
                    148.3888702392578,
                    148.5450897216797,
                    148.72518920898438,
                    149.043212890625,
                    149.39462280273438,
                    149.65016174316406,
                    149.78997802734375,
                    149.82366943359375,
                    149.7349853515625,
                    151.03988647460938,
                    153.40135192871094,
                    156.24462890625,
                    158.9715576171875,
                    160.95921325683594,
                    161.8635711669922,
                    161.83700561523438,
                    161.2292022705078,
                    160.39112854003906,
                    159.59727478027344,
                    158.9593048095703,
                    158.45635986328125,
                    157.97227478027344,
                    157.34945678710938,
                    156.62799072265625,
                    155.9476318359375,
                    155.3870391845703,
                    154.8756561279297,
                    154.2306671142578,
                    153.5138397216797,
                    152.80372619628906,
                    152.2762908935547,
                    152.00099182128906,
                    152.10595703125,
                    152.5159149169922,
                    153.05140686035156,
                    153.55465698242188,
                    153.98739624023438,
                    154.37564086914062,
                    154.7779998779297,
                    155.24798583984375,
                    155.79092407226562,
                    156.51071166992188,
                    157.28994750976562,
                    157.95457458496094,
                    158.27249145507812,
                    158.35589599609375,
                    158.40127563476562,
                    158.6608428955078,
                    158.97283935546875,
                    159.0882110595703,
                    158.88514709472656,
                    158.51504516601562,
                    158.1101531982422,
                    157.7222442626953,
                    157.34718322753906,
                    156.96524047851562,
                    156.69467163085938,
                    156.4757843017578,
                    156.3887176513672
                  ]
                },
                {
                  "name": "Predicted IBM Stock Price (LSTM)",
                  "type": "scatter",
                  "x": [
                    "2017-01-03T00:00:00",
                    "2017-01-04T00:00:00",
                    "2017-01-05T00:00:00",
                    "2017-01-06T00:00:00",
                    "2017-01-09T00:00:00",
                    "2017-01-10T00:00:00",
                    "2017-01-11T00:00:00",
                    "2017-01-12T00:00:00",
                    "2017-01-13T00:00:00",
                    "2017-01-17T00:00:00",
                    "2017-01-18T00:00:00",
                    "2017-01-19T00:00:00",
                    "2017-01-20T00:00:00",
                    "2017-01-23T00:00:00",
                    "2017-01-24T00:00:00",
                    "2017-01-25T00:00:00",
                    "2017-01-26T00:00:00",
                    "2017-01-27T00:00:00",
                    "2017-01-30T00:00:00",
                    "2017-01-31T00:00:00",
                    "2017-02-01T00:00:00",
                    "2017-02-02T00:00:00",
                    "2017-02-03T00:00:00",
                    "2017-02-06T00:00:00",
                    "2017-02-07T00:00:00",
                    "2017-02-08T00:00:00",
                    "2017-02-09T00:00:00",
                    "2017-02-10T00:00:00",
                    "2017-02-13T00:00:00",
                    "2017-02-14T00:00:00",
                    "2017-02-15T00:00:00",
                    "2017-02-16T00:00:00",
                    "2017-02-17T00:00:00",
                    "2017-02-21T00:00:00",
                    "2017-02-22T00:00:00",
                    "2017-02-23T00:00:00",
                    "2017-02-24T00:00:00",
                    "2017-02-27T00:00:00",
                    "2017-02-28T00:00:00",
                    "2017-03-01T00:00:00",
                    "2017-03-02T00:00:00",
                    "2017-03-03T00:00:00",
                    "2017-03-06T00:00:00",
                    "2017-03-07T00:00:00",
                    "2017-03-08T00:00:00",
                    "2017-03-09T00:00:00",
                    "2017-03-10T00:00:00",
                    "2017-03-13T00:00:00",
                    "2017-03-14T00:00:00",
                    "2017-03-15T00:00:00",
                    "2017-03-16T00:00:00",
                    "2017-03-17T00:00:00",
                    "2017-03-20T00:00:00",
                    "2017-03-21T00:00:00",
                    "2017-03-22T00:00:00",
                    "2017-03-23T00:00:00",
                    "2017-03-24T00:00:00",
                    "2017-03-27T00:00:00",
                    "2017-03-28T00:00:00",
                    "2017-03-29T00:00:00",
                    "2017-03-30T00:00:00",
                    "2017-03-31T00:00:00",
                    "2017-04-03T00:00:00",
                    "2017-04-04T00:00:00",
                    "2017-04-05T00:00:00",
                    "2017-04-06T00:00:00",
                    "2017-04-07T00:00:00",
                    "2017-04-10T00:00:00",
                    "2017-04-11T00:00:00",
                    "2017-04-12T00:00:00",
                    "2017-04-13T00:00:00",
                    "2017-04-17T00:00:00",
                    "2017-04-18T00:00:00",
                    "2017-04-19T00:00:00",
                    "2017-04-20T00:00:00",
                    "2017-04-21T00:00:00",
                    "2017-04-24T00:00:00",
                    "2017-04-25T00:00:00",
                    "2017-04-26T00:00:00",
                    "2017-04-27T00:00:00",
                    "2017-04-28T00:00:00",
                    "2017-05-01T00:00:00",
                    "2017-05-02T00:00:00",
                    "2017-05-03T00:00:00",
                    "2017-05-04T00:00:00",
                    "2017-05-05T00:00:00",
                    "2017-05-08T00:00:00",
                    "2017-05-09T00:00:00",
                    "2017-05-10T00:00:00",
                    "2017-05-11T00:00:00",
                    "2017-05-12T00:00:00",
                    "2017-05-15T00:00:00",
                    "2017-05-16T00:00:00",
                    "2017-05-17T00:00:00",
                    "2017-05-18T00:00:00",
                    "2017-05-19T00:00:00",
                    "2017-05-22T00:00:00",
                    "2017-05-23T00:00:00",
                    "2017-05-24T00:00:00",
                    "2017-05-25T00:00:00",
                    "2017-05-26T00:00:00",
                    "2017-05-30T00:00:00",
                    "2017-05-31T00:00:00",
                    "2017-06-01T00:00:00",
                    "2017-06-02T00:00:00",
                    "2017-06-05T00:00:00",
                    "2017-06-06T00:00:00",
                    "2017-06-07T00:00:00",
                    "2017-06-08T00:00:00",
                    "2017-06-09T00:00:00",
                    "2017-06-12T00:00:00",
                    "2017-06-13T00:00:00",
                    "2017-06-14T00:00:00",
                    "2017-06-15T00:00:00",
                    "2017-06-16T00:00:00",
                    "2017-06-19T00:00:00",
                    "2017-06-20T00:00:00",
                    "2017-06-21T00:00:00",
                    "2017-06-22T00:00:00",
                    "2017-06-23T00:00:00",
                    "2017-06-26T00:00:00",
                    "2017-06-27T00:00:00",
                    "2017-06-28T00:00:00",
                    "2017-06-29T00:00:00",
                    "2017-06-30T00:00:00",
                    "2017-07-03T00:00:00",
                    "2017-07-05T00:00:00",
                    "2017-07-06T00:00:00",
                    "2017-07-07T00:00:00",
                    "2017-07-10T00:00:00",
                    "2017-07-11T00:00:00",
                    "2017-07-12T00:00:00",
                    "2017-07-13T00:00:00",
                    "2017-07-14T00:00:00",
                    "2017-07-17T00:00:00",
                    "2017-07-18T00:00:00",
                    "2017-07-19T00:00:00",
                    "2017-07-20T00:00:00",
                    "2017-07-21T00:00:00",
                    "2017-07-24T00:00:00",
                    "2017-07-25T00:00:00",
                    "2017-07-26T00:00:00",
                    "2017-07-27T00:00:00",
                    "2017-07-28T00:00:00",
                    "2017-07-31T00:00:00",
                    "2017-08-01T00:00:00",
                    "2017-08-02T00:00:00",
                    "2017-08-03T00:00:00",
                    "2017-08-04T00:00:00",
                    "2017-08-07T00:00:00",
                    "2017-08-08T00:00:00",
                    "2017-08-09T00:00:00",
                    "2017-08-10T00:00:00",
                    "2017-08-11T00:00:00",
                    "2017-08-14T00:00:00",
                    "2017-08-15T00:00:00",
                    "2017-08-16T00:00:00",
                    "2017-08-17T00:00:00",
                    "2017-08-18T00:00:00",
                    "2017-08-21T00:00:00",
                    "2017-08-22T00:00:00",
                    "2017-08-23T00:00:00",
                    "2017-08-24T00:00:00",
                    "2017-08-25T00:00:00",
                    "2017-08-28T00:00:00",
                    "2017-08-29T00:00:00",
                    "2017-08-30T00:00:00",
                    "2017-08-31T00:00:00",
                    "2017-09-01T00:00:00",
                    "2017-09-05T00:00:00",
                    "2017-09-06T00:00:00",
                    "2017-09-07T00:00:00",
                    "2017-09-08T00:00:00",
                    "2017-09-11T00:00:00",
                    "2017-09-12T00:00:00",
                    "2017-09-13T00:00:00",
                    "2017-09-14T00:00:00",
                    "2017-09-15T00:00:00",
                    "2017-09-18T00:00:00",
                    "2017-09-19T00:00:00",
                    "2017-09-20T00:00:00",
                    "2017-09-21T00:00:00",
                    "2017-09-22T00:00:00",
                    "2017-09-25T00:00:00",
                    "2017-09-26T00:00:00",
                    "2017-09-27T00:00:00",
                    "2017-09-28T00:00:00",
                    "2017-09-29T00:00:00",
                    "2017-10-02T00:00:00",
                    "2017-10-03T00:00:00",
                    "2017-10-04T00:00:00",
                    "2017-10-05T00:00:00",
                    "2017-10-06T00:00:00",
                    "2017-10-09T00:00:00",
                    "2017-10-10T00:00:00",
                    "2017-10-11T00:00:00",
                    "2017-10-12T00:00:00",
                    "2017-10-13T00:00:00",
                    "2017-10-16T00:00:00",
                    "2017-10-17T00:00:00",
                    "2017-10-18T00:00:00",
                    "2017-10-19T00:00:00",
                    "2017-10-20T00:00:00",
                    "2017-10-23T00:00:00",
                    "2017-10-24T00:00:00",
                    "2017-10-25T00:00:00",
                    "2017-10-26T00:00:00",
                    "2017-10-27T00:00:00",
                    "2017-10-30T00:00:00",
                    "2017-10-31T00:00:00",
                    "2017-11-01T00:00:00",
                    "2017-11-02T00:00:00",
                    "2017-11-03T00:00:00",
                    "2017-11-06T00:00:00",
                    "2017-11-07T00:00:00",
                    "2017-11-08T00:00:00",
                    "2017-11-09T00:00:00",
                    "2017-11-10T00:00:00",
                    "2017-11-13T00:00:00",
                    "2017-11-14T00:00:00",
                    "2017-11-15T00:00:00",
                    "2017-11-16T00:00:00",
                    "2017-11-17T00:00:00",
                    "2017-11-20T00:00:00",
                    "2017-11-21T00:00:00",
                    "2017-11-22T00:00:00",
                    "2017-11-24T00:00:00",
                    "2017-11-27T00:00:00",
                    "2017-11-28T00:00:00",
                    "2017-11-29T00:00:00",
                    "2017-11-30T00:00:00",
                    "2017-12-01T00:00:00",
                    "2017-12-04T00:00:00",
                    "2017-12-05T00:00:00",
                    "2017-12-06T00:00:00",
                    "2017-12-07T00:00:00",
                    "2017-12-08T00:00:00",
                    "2017-12-11T00:00:00",
                    "2017-12-12T00:00:00",
                    "2017-12-13T00:00:00",
                    "2017-12-14T00:00:00",
                    "2017-12-15T00:00:00",
                    "2017-12-18T00:00:00",
                    "2017-12-19T00:00:00",
                    "2017-12-20T00:00:00",
                    "2017-12-21T00:00:00",
                    "2017-12-22T00:00:00",
                    "2017-12-26T00:00:00",
                    "2017-12-27T00:00:00",
                    "2017-12-28T00:00:00",
                    "2017-12-29T00:00:00"
                  ],
                  "y": [
                    169.0072784423828,
                    169.0853729248047,
                    169.13107299804688,
                    169.1615447998047,
                    169.19424438476562,
                    169.2388153076172,
                    169.28419494628906,
                    169.31993103027344,
                    169.3414306640625,
                    169.350341796875,
                    169.3457794189453,
                    169.33203125,
                    169.30172729492188,
                    169.28195190429688,
                    169.29437255859375,
                    169.3957061767578,
                    169.6448211669922,
                    170.06234741210938,
                    170.64773559570312,
                    171.3607177734375,
                    172.14454650878906,
                    172.95095825195312,
                    173.7329559326172,
                    174.46859741210938,
                    175.13771057128906,
                    175.75120544433594,
                    176.3046417236328,
                    176.7989044189453,
                    177.2445526123047,
                    177.65687561035156,
                    178.0466766357422,
                    178.4346923828125,
                    178.8378448486328,
                    179.2516632080078,
                    179.6629638671875,
                    180.06475830078125,
                    180.4591827392578,
                    180.83578491210938,
                    181.1848907470703,
                    181.49444580078125,
                    181.7732391357422,
                    182.0205535888672,
                    182.23226928710938,
                    182.40451049804688,
                    182.53883361816406,
                    182.63510131835938,
                    182.6818084716797,
                    182.67742919921875,
                    182.6127166748047,
                    182.47711181640625,
                    182.26544189453125,
                    182.00286865234375,
                    181.69219970703125,
                    181.3370819091797,
                    180.94622802734375,
                    180.52088928222656,
                    180.07286071777344,
                    179.613037109375,
                    179.14173889160156,
                    178.6712646484375,
                    178.2083282470703,
                    177.7616729736328,
                    177.3424072265625,
                    176.95849609375,
                    176.6165771484375,
                    176.332763671875,
                    176.0899658203125,
                    175.8722686767578,
                    175.66563415527344,
                    175.44964599609375,
                    175.21336364746094,
                    174.95416259765625,
                    174.67352294921875,
                    174.37985229492188,
                    174.00086975097656,
                    173.49905395507812,
                    172.85789489746094,
                    172.07525634765625,
                    171.16966247558594,
                    170.1603546142578,
                    169.07044982910156,
                    167.9315185546875,
                    166.7763671875,
                    165.62965393066406,
                    164.51718139648438,
                    163.4604949951172,
                    162.4468536376953,
                    161.4517364501953,
                    160.46212768554688,
                    159.47006225585938,
                    158.4673614501953,
                    157.45960998535156,
                    156.4655303955078,
                    155.5267791748047,
                    154.67758178710938,
                    153.91551208496094,
                    153.25094604492188,
                    152.6930694580078,
                    152.2536163330078,
                    151.92691040039062,
                    151.71372985839844,
                    151.60092163085938,
                    151.5704803466797,
                    151.60601806640625,
                    151.6923828125,
                    151.81851196289062,
                    151.9706268310547,
                    152.13653564453125,
                    152.3186798095703,
                    152.5027618408203,
                    152.692138671875,
                    152.91616821289062,
                    153.172607421875,
                    153.45079040527344,
                    153.73696899414062,
                    154.02569580078125,
                    154.31491088867188,
                    154.59584045410156,
                    154.8647003173828,
                    155.10980224609375,
                    155.31983947753906,
                    155.49853515625,
                    155.6449737548828,
                    155.76181030273438,
                    155.85377502441406,
                    155.91302490234375,
                    155.95065307617188,
                    155.97415161132812,
                    155.96908569335938,
                    155.92474365234375,
                    155.84109497070312,
                    155.71913146972656,
                    155.5691375732422,
                    155.40087890625,
                    155.22702026367188,
                    155.05203247070312,
                    154.8840789794922,
                    154.68995666503906,
                    154.43780517578125,
                    154.1030731201172,
                    153.67044067382812,
                    153.14515686035156,
                    152.5323028564453,
                    151.83737182617188,
                    151.07305908203125,
                    150.25875854492188,
                    149.4252166748047,
                    148.59869384765625,
                    147.80430603027344,
                    147.06405639648438,
                    146.3923797607422,
                    145.77792358398438,
                    145.20709228515625,
                    144.67623901367188,
                    144.18592834472656,
                    143.7396697998047,
                    143.3470916748047,
                    143.01028442382812,
                    142.72996520996094,
                    142.4887237548828,
                    142.26766967773438,
                    142.06118774414062,
                    141.88449096679688,
                    141.7540740966797,
                    141.6843719482422,
                    141.68544006347656,
                    141.74850463867188,
                    141.86134338378906,
                    142.01473999023438,
                    142.2057342529297,
                    142.42747497558594,
                    142.67239379882812,
                    142.9324951171875,
                    143.1855926513672,
                    143.4336700439453,
                    143.68841552734375,
                    143.95457458496094,
                    144.23318481445312,
                    144.51023864746094,
                    144.7763671875,
                    145.01898193359375,
                    145.23773193359375,
                    145.43206787109375,
                    145.59896850585938,
                    145.7411651611328,
                    145.87405395507812,
                    146.00315856933594,
                    146.12083435058594,
                    146.21958923339844,
                    146.3063507080078,
                    146.38888549804688,
                    146.47007751464844,
                    146.5563507080078,
                    146.64395141601562,
                    146.73843383789062,
                    146.8529815673828,
                    146.9896240234375,
                    147.14039611816406,
                    147.29776000976562,
                    147.4525146484375,
                    147.59178161621094,
                    147.84365844726562,
                    148.28201293945312,
                    148.95538330078125,
                    149.87283325195312,
                    150.98403930664062,
                    152.1950225830078,
                    153.40966796875,
                    154.5471649169922,
                    155.54930114746094,
                    156.3831787109375,
                    157.0330352783203,
                    157.49404907226562,
                    157.76414489746094,
                    157.83819580078125,
                    157.72410583496094,
                    157.4443359375,
                    157.0279541015625,
                    156.4989776611328,
                    155.8674774169922,
                    155.15280151367188,
                    154.3768768310547,
                    153.5744171142578,
                    152.78184509277344,
                    152.04701232910156,
                    151.40904235839844,
                    150.89190673828125,
                    150.50550842285156,
                    150.25274658203125,
                    150.1317901611328,
                    150.13900756835938,
                    150.27015686035156,
                    150.51791381835938,
                    150.88389587402344,
                    151.35690307617188,
                    151.9119415283203,
                    152.50357055664062,
                    153.099365234375,
                    153.68032836914062,
                    154.2495880126953,
                    154.7940673828125,
                    155.2870635986328,
                    155.69775390625,
                    156.0122528076172,
                    156.22586059570312,
                    156.33859252929688,
                    156.35275268554688,
                    156.27281188964844,
                    156.1178436279297,
                    155.9007110595703,
                    155.6454315185547
                  ]
                }
              ],
              "layout": {
                "height": 400,
                "template": {
                  "data": {
                    "bar": [
                      {
                        "error_x": {
                          "color": "#2a3f5f"
                        },
                        "error_y": {
                          "color": "#2a3f5f"
                        },
                        "marker": {
                          "line": {
                            "color": "#E5ECF6",
                            "width": 0.5
                          },
                          "pattern": {
                            "fillmode": "overlay",
                            "size": 10,
                            "solidity": 0.2
                          }
                        },
                        "type": "bar"
                      }
                    ],
                    "barpolar": [
                      {
                        "marker": {
                          "line": {
                            "color": "#E5ECF6",
                            "width": 0.5
                          },
                          "pattern": {
                            "fillmode": "overlay",
                            "size": 10,
                            "solidity": 0.2
                          }
                        },
                        "type": "barpolar"
                      }
                    ],
                    "carpet": [
                      {
                        "aaxis": {
                          "endlinecolor": "#2a3f5f",
                          "gridcolor": "white",
                          "linecolor": "white",
                          "minorgridcolor": "white",
                          "startlinecolor": "#2a3f5f"
                        },
                        "baxis": {
                          "endlinecolor": "#2a3f5f",
                          "gridcolor": "white",
                          "linecolor": "white",
                          "minorgridcolor": "white",
                          "startlinecolor": "#2a3f5f"
                        },
                        "type": "carpet"
                      }
                    ],
                    "choropleth": [
                      {
                        "colorbar": {
                          "outlinewidth": 0,
                          "ticks": ""
                        },
                        "type": "choropleth"
                      }
                    ],
                    "contour": [
                      {
                        "colorbar": {
                          "outlinewidth": 0,
                          "ticks": ""
                        },
                        "colorscale": [
                          [
                            0,
                            "#0d0887"
                          ],
                          [
                            0.1111111111111111,
                            "#46039f"
                          ],
                          [
                            0.2222222222222222,
                            "#7201a8"
                          ],
                          [
                            0.3333333333333333,
                            "#9c179e"
                          ],
                          [
                            0.4444444444444444,
                            "#bd3786"
                          ],
                          [
                            0.5555555555555556,
                            "#d8576b"
                          ],
                          [
                            0.6666666666666666,
                            "#ed7953"
                          ],
                          [
                            0.7777777777777778,
                            "#fb9f3a"
                          ],
                          [
                            0.8888888888888888,
                            "#fdca26"
                          ],
                          [
                            1,
                            "#f0f921"
                          ]
                        ],
                        "type": "contour"
                      }
                    ],
                    "contourcarpet": [
                      {
                        "colorbar": {
                          "outlinewidth": 0,
                          "ticks": ""
                        },
                        "type": "contourcarpet"
                      }
                    ],
                    "heatmap": [
                      {
                        "colorbar": {
                          "outlinewidth": 0,
                          "ticks": ""
                        },
                        "colorscale": [
                          [
                            0,
                            "#0d0887"
                          ],
                          [
                            0.1111111111111111,
                            "#46039f"
                          ],
                          [
                            0.2222222222222222,
                            "#7201a8"
                          ],
                          [
                            0.3333333333333333,
                            "#9c179e"
                          ],
                          [
                            0.4444444444444444,
                            "#bd3786"
                          ],
                          [
                            0.5555555555555556,
                            "#d8576b"
                          ],
                          [
                            0.6666666666666666,
                            "#ed7953"
                          ],
                          [
                            0.7777777777777778,
                            "#fb9f3a"
                          ],
                          [
                            0.8888888888888888,
                            "#fdca26"
                          ],
                          [
                            1,
                            "#f0f921"
                          ]
                        ],
                        "type": "heatmap"
                      }
                    ],
                    "heatmapgl": [
                      {
                        "colorbar": {
                          "outlinewidth": 0,
                          "ticks": ""
                        },
                        "colorscale": [
                          [
                            0,
                            "#0d0887"
                          ],
                          [
                            0.1111111111111111,
                            "#46039f"
                          ],
                          [
                            0.2222222222222222,
                            "#7201a8"
                          ],
                          [
                            0.3333333333333333,
                            "#9c179e"
                          ],
                          [
                            0.4444444444444444,
                            "#bd3786"
                          ],
                          [
                            0.5555555555555556,
                            "#d8576b"
                          ],
                          [
                            0.6666666666666666,
                            "#ed7953"
                          ],
                          [
                            0.7777777777777778,
                            "#fb9f3a"
                          ],
                          [
                            0.8888888888888888,
                            "#fdca26"
                          ],
                          [
                            1,
                            "#f0f921"
                          ]
                        ],
                        "type": "heatmapgl"
                      }
                    ],
                    "histogram": [
                      {
                        "marker": {
                          "pattern": {
                            "fillmode": "overlay",
                            "size": 10,
                            "solidity": 0.2
                          }
                        },
                        "type": "histogram"
                      }
                    ],
                    "histogram2d": [
                      {
                        "colorbar": {
                          "outlinewidth": 0,
                          "ticks": ""
                        },
                        "colorscale": [
                          [
                            0,
                            "#0d0887"
                          ],
                          [
                            0.1111111111111111,
                            "#46039f"
                          ],
                          [
                            0.2222222222222222,
                            "#7201a8"
                          ],
                          [
                            0.3333333333333333,
                            "#9c179e"
                          ],
                          [
                            0.4444444444444444,
                            "#bd3786"
                          ],
                          [
                            0.5555555555555556,
                            "#d8576b"
                          ],
                          [
                            0.6666666666666666,
                            "#ed7953"
                          ],
                          [
                            0.7777777777777778,
                            "#fb9f3a"
                          ],
                          [
                            0.8888888888888888,
                            "#fdca26"
                          ],
                          [
                            1,
                            "#f0f921"
                          ]
                        ],
                        "type": "histogram2d"
                      }
                    ],
                    "histogram2dcontour": [
                      {
                        "colorbar": {
                          "outlinewidth": 0,
                          "ticks": ""
                        },
                        "colorscale": [
                          [
                            0,
                            "#0d0887"
                          ],
                          [
                            0.1111111111111111,
                            "#46039f"
                          ],
                          [
                            0.2222222222222222,
                            "#7201a8"
                          ],
                          [
                            0.3333333333333333,
                            "#9c179e"
                          ],
                          [
                            0.4444444444444444,
                            "#bd3786"
                          ],
                          [
                            0.5555555555555556,
                            "#d8576b"
                          ],
                          [
                            0.6666666666666666,
                            "#ed7953"
                          ],
                          [
                            0.7777777777777778,
                            "#fb9f3a"
                          ],
                          [
                            0.8888888888888888,
                            "#fdca26"
                          ],
                          [
                            1,
                            "#f0f921"
                          ]
                        ],
                        "type": "histogram2dcontour"
                      }
                    ],
                    "mesh3d": [
                      {
                        "colorbar": {
                          "outlinewidth": 0,
                          "ticks": ""
                        },
                        "type": "mesh3d"
                      }
                    ],
                    "parcoords": [
                      {
                        "line": {
                          "colorbar": {
                            "outlinewidth": 0,
                            "ticks": ""
                          }
                        },
                        "type": "parcoords"
                      }
                    ],
                    "pie": [
                      {
                        "automargin": true,
                        "type": "pie"
                      }
                    ],
                    "scatter": [
                      {
                        "fillpattern": {
                          "fillmode": "overlay",
                          "size": 10,
                          "solidity": 0.2
                        },
                        "type": "scatter"
                      }
                    ],
                    "scatter3d": [
                      {
                        "line": {
                          "colorbar": {
                            "outlinewidth": 0,
                            "ticks": ""
                          }
                        },
                        "marker": {
                          "colorbar": {
                            "outlinewidth": 0,
                            "ticks": ""
                          }
                        },
                        "type": "scatter3d"
                      }
                    ],
                    "scattercarpet": [
                      {
                        "marker": {
                          "colorbar": {
                            "outlinewidth": 0,
                            "ticks": ""
                          }
                        },
                        "type": "scattercarpet"
                      }
                    ],
                    "scattergeo": [
                      {
                        "marker": {
                          "colorbar": {
                            "outlinewidth": 0,
                            "ticks": ""
                          }
                        },
                        "type": "scattergeo"
                      }
                    ],
                    "scattergl": [
                      {
                        "marker": {
                          "colorbar": {
                            "outlinewidth": 0,
                            "ticks": ""
                          }
                        },
                        "type": "scattergl"
                      }
                    ],
                    "scattermapbox": [
                      {
                        "marker": {
                          "colorbar": {
                            "outlinewidth": 0,
                            "ticks": ""
                          }
                        },
                        "type": "scattermapbox"
                      }
                    ],
                    "scatterpolar": [
                      {
                        "marker": {
                          "colorbar": {
                            "outlinewidth": 0,
                            "ticks": ""
                          }
                        },
                        "type": "scatterpolar"
                      }
                    ],
                    "scatterpolargl": [
                      {
                        "marker": {
                          "colorbar": {
                            "outlinewidth": 0,
                            "ticks": ""
                          }
                        },
                        "type": "scatterpolargl"
                      }
                    ],
                    "scatterternary": [
                      {
                        "marker": {
                          "colorbar": {
                            "outlinewidth": 0,
                            "ticks": ""
                          }
                        },
                        "type": "scatterternary"
                      }
                    ],
                    "surface": [
                      {
                        "colorbar": {
                          "outlinewidth": 0,
                          "ticks": ""
                        },
                        "colorscale": [
                          [
                            0,
                            "#0d0887"
                          ],
                          [
                            0.1111111111111111,
                            "#46039f"
                          ],
                          [
                            0.2222222222222222,
                            "#7201a8"
                          ],
                          [
                            0.3333333333333333,
                            "#9c179e"
                          ],
                          [
                            0.4444444444444444,
                            "#bd3786"
                          ],
                          [
                            0.5555555555555556,
                            "#d8576b"
                          ],
                          [
                            0.6666666666666666,
                            "#ed7953"
                          ],
                          [
                            0.7777777777777778,
                            "#fb9f3a"
                          ],
                          [
                            0.8888888888888888,
                            "#fdca26"
                          ],
                          [
                            1,
                            "#f0f921"
                          ]
                        ],
                        "type": "surface"
                      }
                    ],
                    "table": [
                      {
                        "cells": {
                          "fill": {
                            "color": "#EBF0F8"
                          },
                          "line": {
                            "color": "white"
                          }
                        },
                        "header": {
                          "fill": {
                            "color": "#C8D4E3"
                          },
                          "line": {
                            "color": "white"
                          }
                        },
                        "type": "table"
                      }
                    ]
                  },
                  "layout": {
                    "annotationdefaults": {
                      "arrowcolor": "#2a3f5f",
                      "arrowhead": 0,
                      "arrowwidth": 1
                    },
                    "autotypenumbers": "strict",
                    "coloraxis": {
                      "colorbar": {
                        "outlinewidth": 0,
                        "ticks": ""
                      }
                    },
                    "colorscale": {
                      "diverging": [
                        [
                          0,
                          "#8e0152"
                        ],
                        [
                          0.1,
                          "#c51b7d"
                        ],
                        [
                          0.2,
                          "#de77ae"
                        ],
                        [
                          0.3,
                          "#f1b6da"
                        ],
                        [
                          0.4,
                          "#fde0ef"
                        ],
                        [
                          0.5,
                          "#f7f7f7"
                        ],
                        [
                          0.6,
                          "#e6f5d0"
                        ],
                        [
                          0.7,
                          "#b8e186"
                        ],
                        [
                          0.8,
                          "#7fbc41"
                        ],
                        [
                          0.9,
                          "#4d9221"
                        ],
                        [
                          1,
                          "#276419"
                        ]
                      ],
                      "sequential": [
                        [
                          0,
                          "#0d0887"
                        ],
                        [
                          0.1111111111111111,
                          "#46039f"
                        ],
                        [
                          0.2222222222222222,
                          "#7201a8"
                        ],
                        [
                          0.3333333333333333,
                          "#9c179e"
                        ],
                        [
                          0.4444444444444444,
                          "#bd3786"
                        ],
                        [
                          0.5555555555555556,
                          "#d8576b"
                        ],
                        [
                          0.6666666666666666,
                          "#ed7953"
                        ],
                        [
                          0.7777777777777778,
                          "#fb9f3a"
                        ],
                        [
                          0.8888888888888888,
                          "#fdca26"
                        ],
                        [
                          1,
                          "#f0f921"
                        ]
                      ],
                      "sequentialminus": [
                        [
                          0,
                          "#0d0887"
                        ],
                        [
                          0.1111111111111111,
                          "#46039f"
                        ],
                        [
                          0.2222222222222222,
                          "#7201a8"
                        ],
                        [
                          0.3333333333333333,
                          "#9c179e"
                        ],
                        [
                          0.4444444444444444,
                          "#bd3786"
                        ],
                        [
                          0.5555555555555556,
                          "#d8576b"
                        ],
                        [
                          0.6666666666666666,
                          "#ed7953"
                        ],
                        [
                          0.7777777777777778,
                          "#fb9f3a"
                        ],
                        [
                          0.8888888888888888,
                          "#fdca26"
                        ],
                        [
                          1,
                          "#f0f921"
                        ]
                      ]
                    },
                    "colorway": [
                      "#636efa",
                      "#EF553B",
                      "#00cc96",
                      "#ab63fa",
                      "#FFA15A",
                      "#19d3f3",
                      "#FF6692",
                      "#B6E880",
                      "#FF97FF",
                      "#FECB52"
                    ],
                    "font": {
                      "color": "#2a3f5f"
                    },
                    "geo": {
                      "bgcolor": "white",
                      "lakecolor": "white",
                      "landcolor": "#E5ECF6",
                      "showlakes": true,
                      "showland": true,
                      "subunitcolor": "white"
                    },
                    "hoverlabel": {
                      "align": "left"
                    },
                    "hovermode": "closest",
                    "mapbox": {
                      "style": "light"
                    },
                    "paper_bgcolor": "white",
                    "plot_bgcolor": "#E5ECF6",
                    "polar": {
                      "angularaxis": {
                        "gridcolor": "white",
                        "linecolor": "white",
                        "ticks": ""
                      },
                      "bgcolor": "#E5ECF6",
                      "radialaxis": {
                        "gridcolor": "white",
                        "linecolor": "white",
                        "ticks": ""
                      }
                    },
                    "scene": {
                      "xaxis": {
                        "backgroundcolor": "#E5ECF6",
                        "gridcolor": "white",
                        "gridwidth": 2,
                        "linecolor": "white",
                        "showbackground": true,
                        "ticks": "",
                        "zerolinecolor": "white"
                      },
                      "yaxis": {
                        "backgroundcolor": "#E5ECF6",
                        "gridcolor": "white",
                        "gridwidth": 2,
                        "linecolor": "white",
                        "showbackground": true,
                        "ticks": "",
                        "zerolinecolor": "white"
                      },
                      "zaxis": {
                        "backgroundcolor": "#E5ECF6",
                        "gridcolor": "white",
                        "gridwidth": 2,
                        "linecolor": "white",
                        "showbackground": true,
                        "ticks": "",
                        "zerolinecolor": "white"
                      }
                    },
                    "shapedefaults": {
                      "line": {
                        "color": "#2a3f5f"
                      }
                    },
                    "ternary": {
                      "aaxis": {
                        "gridcolor": "white",
                        "linecolor": "white",
                        "ticks": ""
                      },
                      "baxis": {
                        "gridcolor": "white",
                        "linecolor": "white",
                        "ticks": ""
                      },
                      "bgcolor": "#E5ECF6",
                      "caxis": {
                        "gridcolor": "white",
                        "linecolor": "white",
                        "ticks": ""
                      }
                    },
                    "title": {
                      "x": 0.05
                    },
                    "xaxis": {
                      "automargin": true,
                      "gridcolor": "white",
                      "linecolor": "white",
                      "ticks": "",
                      "title": {
                        "standoff": 15
                      },
                      "zerolinecolor": "white",
                      "zerolinewidth": 2
                    },
                    "yaxis": {
                      "automargin": true,
                      "gridcolor": "white",
                      "linecolor": "white",
                      "ticks": "",
                      "title": {
                        "standoff": 15
                      },
                      "zerolinecolor": "white",
                      "zerolinewidth": 2
                    }
                  }
                },
                "title": {
                  "text": "IBM Stock Price Prediction"
                },
                "width": 1000,
                "xaxis": {
                  "rangeslider": {
                    "visible": true
                  }
                }
              }
            }
          },
          "metadata": {},
          "output_type": "display_data"
        }
      ],
      "source": [
        "plot(dataset[\"High\"]['2017':].index, test_set, predicted_stock_price, lstm_predicted_stock_price)"
      ]
    }
  ],
  "metadata": {
    "colab": {
      "provenance": []
    },
    "kernelspec": {
      "display_name": "Python 3",
      "name": "python3"
    },
    "language_info": {
      "codemirror_mode": {
        "name": "ipython",
        "version": 3
      },
      "file_extension": ".py",
      "mimetype": "text/x-python",
      "name": "python",
      "nbconvert_exporter": "python",
      "pygments_lexer": "ipython3",
      "version": "3.11.4"
    }
  },
  "nbformat": 4,
  "nbformat_minor": 0
}
