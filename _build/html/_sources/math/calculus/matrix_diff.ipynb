{
 "cells": [
  {
   "cell_type": "markdown",
   "metadata": {},
   "source": [
    "# Matrix calculus"
   ]
  },
  {
   "cell_type": "markdown",
   "metadata": {},
   "source": [
    "| Таблица правил матричного дифференцирования |\n",
    "|---|\n",
    "| $d\\boldsymbol A = \\boldsymbol 0$  |\n",
    "| $d(\\boldsymbol{AXB}) = \\boldsymbol A(d\\boldsymbol X)\\boldsymbol B$  |\n",
    "| $d(\\mathrm{tr}(\\boldsymbol {AX})) = \\mathrm{tr}(\\boldsymbol A\\cdot d\\boldsymbol X)$ |\n",
    "| $d(\\alpha \\boldsymbol X + \\beta \\boldsymbol Y) = \\alpha d\\boldsymbol X + \\beta d\\boldsymbol Y.$  |\n",
    "| $d(\\boldsymbol X^T) = (d\\boldsymbol X)^T$  |\n",
    "| $d(\\boldsymbol{XY}) = d\\boldsymbol X \\cdot \\boldsymbol Y + \\boldsymbol X \\cdot d\\boldsymbol Y.$  |\n",
    "| $d\\langle\\boldsymbol X, \\boldsymbol Y\\rangle = \\langle d\\boldsymbol X , \\boldsymbol Y\\rangle + \\langle\\boldsymbol X , d\\boldsymbol Y\\rangle.$ |\n",
    "\n",
    "В этой таблице предполагается, что $\\boldsymbol A$ и $\\boldsymbol B$ — постоянные матрицы, $\\boldsymbol X$ и $\\boldsymbol Y$ — переменные матрицы, $\\alpha, \\beta \\in \\mathbb R$.\t\n",
    "\n",
    "## Differential of inverse matrix\n",
    "\n",
    "Вычислим дифференциал обратной матрицы: $f(\\boldsymbol X) = \\boldsymbol X^{-1}$, где $\\boldsymbol X$ — невырожденная квадратная матрица.\n",
    "\n",
    "\n",
    "Продифференцируем равенство $\\boldsymbol I = \\boldsymbol X\\cdot \\boldsymbol X^{-1}$:\n",
    "\n",
    "$$\n",
    "\t0 = d\\boldsymbol I = d\\boldsymbol X \\cdot \\boldsymbol X^{-1} + \\boldsymbol X \\cdot d\\boldsymbol X^{-1}.\n",
    "$$\n",
    "\n",
    "Отсюда уже легко выражается искомый дифференциал:\n",
    "\n",
    "$$ \n",
    "\td\\boldsymbol X^{-1} = - \\boldsymbol X^{-1}\\cdot d\\boldsymbol X \\cdot \\boldsymbol X^{-1}.\n",
    "$$\n",
    "\n",
    "```{warning}\n",
    "Внимательный читатель заметит, что данное решение предполагает, что дифференцируемость функции $f$ уже известна. Полное решение можно прочитать [здесь](http://www.machinelearning.ru/wiki/images/a/ab/MOMO18_Seminar1.pdf) (пример А.14).\n",
    "```\n",
    "\n",
    "## Gradient of determinant\n",
    "\n",
    "Вычислим градиент определителя: $f(\\boldsymbol X) = \\det(\\boldsymbol X)$, где $\\boldsymbol X$ — квадратная матрица.\n",
    "\n",
    "В предыдущих примерах мы изо всех сил старались не писать матричных элементов, но сейчас, увы, придётся. Попробуем вычислить $\\frac{\\partial f}{\\partial{X_{ij}}}$. Для этого разложим определитель по $i$-й строке:\n",
    "\n",
    "$$\n",
    "\\det(\\boldsymbol X) = \\sum_{j}X_{ij}\\cdot(-1)^{i + j}M_{ij},\n",
    "$$\n",
    "\n",
    "где $M_{ij}$ — это определитель подматрицы, полученной из исходной выбрасыванием $i$-й строки и $j$-го столбца. Теперь мы видим, что определитель линеен по переменной $X_{ij}$, причём коэффициент при ней равен $(-1)^{i + j}M_{ij}$. Таким образом,\n",
    "\n",
    "$$\n",
    "\\frac{\\partial f}{\\partial{X_{ij}}} = (-1)^{i + j}M_{ij}.\n",
    "$$\n",
    "\n",
    "Чтобы записать матрицу, составленную из таких определителей, покороче, вспомним, что\n",
    "\n",
    "$$\n",
    "\\boldsymbol X^{-1} = \\frac1{\\det(\\boldsymbol X)}\\left((-1)^{i+j}M_{\\color{red}{ji}}\\right)_{i,j}.\n",
    "$$\n",
    "\n",
    "Обратите внимание на переставленные индексы $i$ и $j$ (отмечены красным). Но всё равно похоже! Таким образом, для невырожденной матрицы $\\boldsymbol X$ мы можем представить градиент в виде\n",
    "\n",
    "$$\n",
    "\\nabla f(\\boldsymbol X) = \\det(\\boldsymbol X)\\cdot \\boldsymbol X^{-\\top},\n",
    "$$\n",
    "\n",
    "где $\\boldsymbol X^{-\\top}$ — более короткая запись для $(\\boldsymbol X^{-1})^\\top$.  \t"
   ]
  },
  {
   "cell_type": "markdown",
   "metadata": {},
   "source": [
    "## Exercises\n",
    "\n",
    "1. Calculate $\\nabla f$ if $f(\\boldsymbol X) = \\boldsymbol a^\\top \\boldsymbol X \\boldsymbol b$. \n",
    "\n",
    "2. Calculate $\\nabla f$ if $f(\\boldsymbol X) = \\log(\\det(\\boldsymbol X))$.\n",
    "\n",
    "\n",
    "3. Calculate $\\nabla f$ if $f(\\boldsymbol X) = \\mathrm{tr}(\\boldsymbol{AX}^T\\boldsymbol X)$. \n",
    "\n",
    "4. Let $f(\\boldsymbol X) = \\det\\left(\\boldsymbol{AX}^{-1}\\boldsymbol B\\right)$.\n",
    "Calculate $\\nabla f$ if\n",
    "    * all matrices are square;\n",
    "    * matrices $\\boldsymbol A$ and $\\boldsymbol B$ are rectangular."
   ]
  }
 ],
 "metadata": {
  "language_info": {
   "name": "python"
  },
  "orig_nbformat": 4
 },
 "nbformat": 4,
 "nbformat_minor": 2
}
