{
 "cells": [
  {
   "cell_type": "markdown",
   "metadata": {},
   "source": [
    "# Matrices\n",
    "\n",
    "Табличный способ хранения данных чрезвычайно широко распространён, и если эти данные числовые, то с математической точки зрения они образуют **матрицу** — двумерный массив из чисел. Для эффективной обработки и анализа таких данных, а также обучения моделей машинного обучения на них, важно хорошо ориентироваться в матричных операциях и разложениях и их свойствах.\n",
    "\n",
    " Матрицы принято обозначать заглавными жирными буквами: $\\boldsymbol A$, $\\boldsymbol B$, $\\boldsymbol C$, $\\boldsymbol X$, $\\boldsymbol Y$ и т.п. Множество матриц, имеющих $m$ строк и $n$ столбцов обозначается через $\\mathbb R^{m\\times n}$. Элемент $i$-й строки и $j$-го столбца матрицы $\\boldsymbol A \\in \\mathbb R^{m\\times n}$ будем обозначать $A_{ij}$. Допустимо также обозначение $a_{ij}$, особенно когда дело доходит до подробной записи\n",
    "\n",
    "$$\n",
    "    \\boldsymbol A  = \\begin{pmatrix}\n",
    "        a_{11} & a_{12} & \\dots & a_{1n} \\\\\n",
    "        a_{21} & a_{22} & \\dots & a_{2n} \\\\\n",
    "        \\vdots & \\vdots & \\ddots & \\vdots \\\\\n",
    "        a_{m1} & a_{m2} & \\dots & a_{mn} \\\\\n",
    "    \\end{pmatrix}.\n",
    "$$\n",
    "\n",
    "Эту же матрицу можно представить как набор строк или столбцов:\n",
    "\n",
    "$$\n",
    "    \\boldsymbol A  = \\begin{pmatrix}\n",
    "        \\boldsymbol b_1^\\top \\\\\n",
    "        \\boldsymbol b_2^\\top \\\\\n",
    "        \\vdots\\\\\n",
    "        \\boldsymbol b_m^\\top \\\\\n",
    "    \\end{pmatrix} = \n",
    "    [\\boldsymbol c_1 \\boldsymbol c_2 \\dots \\boldsymbol c_n], \\quad\n",
    "    \\boldsymbol b_i = \\begin{pmatrix}\n",
    "    a_{i1} \\\\\n",
    "    a_{i2} \\\\\n",
    "    \\vdots \\\\\n",
    "    a_{in}\n",
    "    \\end{pmatrix},\n",
    "    \\quad\n",
    "    \\boldsymbol c_j = \\begin{pmatrix}\n",
    "    a_{1j} \\\\\n",
    "    a_{2j} \\\\\n",
    "    \\vdots \\\\\n",
    "    a_{mj}\n",
    "    \\end{pmatrix}\n",
    "$$\n",
    "\n",
    "Если $m=n$, то матрица $\\boldsymbol A$ называется **квадратной**, в противном случае — **прямоугольной**. Вектор $\\boldsymbol x \\in \\mathbb R^n$ можно считать матрицей размера $n\\times 1$ (столбец) или $1\\times n$ (строка).\n",
    "\n",
    "**Транспонированная** матрица $\\boldsymbol A^\\top \\in \\mathbb R^{n\\times m}$ в качестве строк содержит столбцы матрицы $\\boldsymbol A$: $A^\\top_{ij} = A_{ji}$. В частности, вектор-столбец получается транспонированием из вектора-строки, и наоборот, чем и объясняется обозначение $\\boldsymbol x^\\top$ для векторов-строк."
   ]
  },
  {
   "cell_type": "markdown",
   "metadata": {},
   "source": [
    "`np.array` can handle multidimenstional arrays including matrices. For example, let's generate a random matrix of shape $2\\times 3$"
   ]
  },
  {
   "cell_type": "code",
   "execution_count": 2,
   "metadata": {},
   "outputs": [
    {
     "data": {
      "text/plain": [
       "array([[0.08728969, 0.54601015, 0.72351181],\n",
       "       [0.96028496, 0.03162472, 0.2270256 ]])"
      ]
     },
     "execution_count": 2,
     "metadata": {},
     "output_type": "execute_result"
    }
   ],
   "source": [
    "import numpy as np\n",
    "A = np.random.rand(2, 3)\n",
    "A"
   ]
  },
  {
   "cell_type": "markdown",
   "metadata": {},
   "source": [
    "For transposing use attribute `.T`:"
   ]
  },
  {
   "cell_type": "code",
   "execution_count": 3,
   "metadata": {},
   "outputs": [
    {
     "data": {
      "text/plain": [
       "array([[0.08728969, 0.96028496],\n",
       "       [0.54601015, 0.03162472],\n",
       "       [0.72351181, 0.2270256 ]])"
      ]
     },
     "execution_count": 3,
     "metadata": {},
     "output_type": "execute_result"
    }
   ],
   "source": [
    "A.T"
   ]
  },
  {
   "cell_type": "markdown",
   "metadata": {},
   "source": [
    "## Square matrices\n",
    "\n",
    "Квадратные матрицы $\\boldsymbol A \\in \\mathbb R^{n\\times n}$ имеют одинаковое количество строк и столцов. Такие матрицы представляют особый интерес как в теории, так и на практике. \n",
    "\n",
    "У квадратной матрицы есть две диагонали: главная и побочная.\n",
    "\n",
    "![](https://cdn.fxyz.ru/img/linear-algebra/matrix-diagonals.png)\n",
    "\n",
    "Сумма элементов главной диагонали называется **следом** матрицы: $\\mathrm{tr}(\\boldsymbol A) = \\sum\\limits_{i=1}^n a_{ii}$.\n",
    "\n",
    "Перечислим самые распространённые классы квадратных матриц.\n",
    "\n",
    "1. **Единичная матрица**. Такая матрица содержит единицы на главной диагонали и нули вне неё; обозначается $\\boldsymbol I$ или $\\boldsymbol I_n$, если нужно подчеркнуть её размер:\n",
    "\n",
    "    $$\n",
    "    \\boldsymbol I_2 = \\begin{pmatrix}\n",
    "        1 & 0 \\\\\n",
    "        0 & 1 \\\\\n",
    "    \\end{pmatrix}, \\quad\n",
    "    \\boldsymbol I_3 = \\begin{pmatrix}\n",
    "        1 & 0 & 0 \\\\\n",
    "        0 & 1 & 0 \\\\\n",
    "        0 & 0 & 1 \\\\\n",
    "    \\end{pmatrix}, \\quad\n",
    "    \\boldsymbol I_n = \\begin{pmatrix}\n",
    "        1 & 0 & \\dots & 0 \\\\\n",
    "        0 & 1 & \\dots & 0 \\\\\n",
    "        \\vdots & \\vdots & \\ddots & \\vdots \\\\\n",
    "        0 & 0 &\\dots & 1 \\\\\n",
    "    \\end{pmatrix}.\n",
    "    $$\n",
    "\n",
    "2. **Диагональная матрица**. Все ненулевые элементы диагональной матрицы находятся на главной диагонали:\n",
    "\n",
    "    $$\n",
    "    \\boldsymbol \\Lambda = \\mathrm{diag}\\{\\lambda_1, \\lambda_2, \\ldots, \\lambda_n\\} = \\begin{pmatrix}\n",
    "        \\lambda_1 & 0 & \\dots & 0 \\\\\n",
    "        0 & \\lambda_2 & \\dots & 0 \\\\\n",
    "        \\vdots & \\vdots & \\ddots & \\vdots \\\\\n",
    "        0 & 0 & \\dots & \\lambda_n \\\\\n",
    "    \\end{pmatrix}.\n",
    "    $$\n",
    "\n",
    "    Единичная матрица является частным случаем диагональной: \n",
    "\n",
    "    $$\n",
    "    \\boldsymbol I = \\mathrm{diag}\\{1, 1, \\dots, 1\\}.\n",
    "    $$\n",
    "\n",
    "3. **Матрица перестановки**. Такая матрица состоит из нулей и единиц, и содержит ровно одну единицу в каждой строке и в каждом столбце. Любая матрица перестановки получается некоторой перестановкой строк/столбцов единичной матрицы. Существует $n!$ различных матриц перестановок размера $n\\times n$. Например, ниже перечислены все $3!=6$ матрицы перестановок размера $3\\times3$:\n",
    "\n",
    "    $$\n",
    "    \\begin{pmatrix}\n",
    "    1 & 0 & 0 \\\\\n",
    "    0 & 1 & 0 \\\\\n",
    "    0 & 0 & 1 \\\\\n",
    "    \\end{pmatrix},\n",
    "    \\quad\n",
    "    \\begin{pmatrix}\n",
    "    1 & 0 & 0 \\\\\n",
    "    0 & 0 & 1 \\\\\n",
    "    0 & 1 & 0 \\\\\n",
    "    \\end{pmatrix},\n",
    "    \\quad\n",
    "    \\begin{pmatrix}\n",
    "    0 & 1 & 0 \\\\\n",
    "    1 & 0 & 0 \\\\\n",
    "    0 & 0 & 1 \\\\\n",
    "    \\end{pmatrix},\n",
    "    $$\n",
    "\n",
    "    $$\n",
    "    \\begin{pmatrix}\n",
    "    0 & 1 & 0 \\\\\n",
    "    0 & 0 & 1 \\\\\n",
    "    1 & 0 & 0 \\\\\n",
    "    \\end{pmatrix},\n",
    "    \\quad\n",
    "    \\begin{pmatrix}\n",
    "    0 & 0 & 1 \\\\\n",
    "    1 & 0 & 0 \\\\\n",
    "    0 & 1 & 0 \\\\\n",
    "    \\end{pmatrix},\n",
    "    \\quad\n",
    "    \\begin{pmatrix}\n",
    "    0 & 0 & 1 \\\\\n",
    "    0 & 1 & 0 \\\\\n",
    "    1 & 0 & 0 \\\\\n",
    "    \\end{pmatrix}.\n",
    "    $$\n",
    "\n",
    "4. **Треугольные матрицы**. У **верхней треугольной** матрицы $\\boldsymbol U$ все элементы ниже главной диагонали равны нулю: $U_{ij} = 0$ при $i > j$, \n",
    "    \n",
    "    $$\n",
    "    \\boldsymbol U  = \\begin{pmatrix}\n",
    "        u_1 & * & * & \\dots & * \\\\\n",
    "        0 & u_2 & * & \\dots & * \\\\\n",
    "        0 & 0 & u_3 & \\dots & * \\\\\n",
    "        \\vdots & \\vdots & \\vdots & \\ddots & \\vdots \\\\\n",
    "        0 & 0 & 0 & \\dots & u_n \\\\\n",
    "    \\end{pmatrix}.\n",
    "    $$\n",
    "\n",
    "    У **нижней треугольной** матрицы $\\boldsymbol L$, наоборот, все элементы выше главной диагонали равны нулю: $L_{ij} = 0$ при $i < j$,\n",
    "\n",
    "    $$\n",
    "    \\boldsymbol L = \\begin{pmatrix}\n",
    "        \\ell_1 & 0 & 0 & \\dots & 0 \\\\\n",
    "        * & \\ell_2 & 0 & \\dots & 0 \\\\\n",
    "        * & * & \\ell_3 & \\dots & 0 \\\\\n",
    "        \\vdots & \\vdots & \\vdots & \\ddots & \\vdots \\\\\n",
    "        * & * & * & \\dots & \\ell_n \\\\\n",
    "    \\end{pmatrix}. \n",
    "    $$\n",
    "\n",
    "    Матрица $\\boldsymbol U$ верхняя треугольная тогда и только тогда, когда матрица $\\boldsymbol U^\\top$ нижняя треугольная.\n",
    "\n",
    "5. **Симметричные матрицы**. Квадратная матрица $\\boldsymbol A$ называется \n",
    "\n",
    "    * **симметричной**, если $\\boldsymbol A^\\top  = \\boldsymbol A$;\n",
    "\n",
    "    * **кососимметричной**, если $\\boldsymbol A^\\top  = -\\boldsymbol A$.\n",
    "\n",
    "    На главной диагонали кососимметричной матрицы всегда находятся нули. Всякая квадратная матрица $\\boldsymbol A$ может быть единственным образом представлена в виде суммы симметричной и кососимметричной матриц:\n",
    "\n",
    "    $$\n",
    "    \\boldsymbol A = \\frac{\\boldsymbol A + \\boldsymbol A^\\top}2 + \\frac{\\boldsymbol A - \\boldsymbol A^\\top}2.\n",
    "    $$\n",
    "\n",
    "6. **Ортогональная матрица**. Квадратная матрица $\\boldsymbol Q = [\\boldsymbol q_1, \\ldots, \\boldsymbol q_n]$ **ортогональная**, если её столбцы образуют ортонормированную систему, т. е. $\\langle \\boldsymbol q_i, \\boldsymbol q_j\\rangle = \\delta_{ij}$, где $\\delta_{ij}$ — [символ Кронекера](https://ru.wikipedia.org/wiki/%D0%A1%D0%B8%D0%BC%D0%B2%D0%BE%D0%BB_%D0%9A%D1%80%D0%BE%D0%BD%D0%B5%D0%BA%D0%B5%D1%80%D0%B0){:target=\"_blank\"}.\n",
    "\n",
    "    Любая матрица перестановки является ортогональной. Также ортогональна, к примеру, **матрица поворота** на угол $\\theta$\n",
    "\n",
    "    ```{math}\n",
    "    :label: rotation-matrix\n",
    "    \\boldsymbol Q = \\begin{pmatrix}\n",
    "        \\cos \\theta & -\\sin\\theta \\\\\n",
    "        \\sin \\theta & \\cos\\theta \\\\\n",
    "    \\end{pmatrix}.\n",
    "    ```\n",
    "\n",
    "<!--\n",
    "* Иногда бывает полезна матрица из одних нулей или одних единиц; такие матрицы размера $m\\times n$ будем обозначать $$\\boldsymbol 0_{m\\times n}$$ и $$\\boldsymbol 1_{m\\times n}$$ соответственно.\n",
    "\n",
    "* **Блочная матрица** имеет вид\n",
    "\n",
    "    $$\n",
    "        \\begin{pmatrix}\n",
    "        \\boldsymbol A & \\boldsymbol B \\\\\n",
    "        \\boldsymbol C & \\boldsymbol D \n",
    "        \\end{pmatrix} =\n",
    "        \\left(\\begin{array}{@{}c|c@{}}\n",
    "        \\begin{matrix}\n",
    "            a_{11} & \\dots & a_{1m} \\\\\n",
    "            \\vdots & \\ddots & \\vdots \\\\\n",
    "            a_{k1} & \\dots & a_{km}\n",
    "        \\end{matrix}\n",
    "        &\n",
    "        \\begin{matrix}\n",
    "            b_{11} & \\dots & b_{1n} \\\\\n",
    "            \\vdots & \\ddots & \\vdots \\\\\n",
    "            b_{k1} & \\dots & b_{kn}\n",
    "        \\end{matrix} \\\\\n",
    "        \\hline\n",
    "        \\begin{matrix}\n",
    "            c_{11} & \\dots & c_{1m} \\\\\n",
    "            \\vdots & \\ddots & \\vdots \\\\\n",
    "            c_{\\ell 1} & \\dots & c_{\\ell m}\n",
    "        \\end{matrix} \n",
    "        &\n",
    "        \\begin{matrix}\n",
    "            d_{11} & \\dots & d_{1n} \\\\\n",
    "            \\vdots & \\ddots & \\vdots \\\\\n",
    "            d_{\\ell 1} & \\dots & d_{\\ell n}\n",
    "        \\end{matrix}\n",
    "        \\end{array}\\right).\n",
    "    $$\n",
    "\n",
    "    Блочные матрицы могут иметь произвольное число матричных блоков по каждому измерению.\n",
    "\n",
    "<!--\n",
    "    где $\\boldsymbol A \\in \\mathbb R^{k\\times m}$, $\\boldsymbol B \\in \\mathbb R^{k\\times n}$, $\\boldsymbol C \\in \\mathbb R^{\\ell\\times m}$, $\\boldsymbol D \\in \\mathbb R^{\\ell\\times n}$. \n",
    "\n",
    "    \n",
    "Квадратные матрицы — очень важный класс матриц, среди них в свою очередь выделяют несколько часто встречающихся семейств\n",
    "-->"
   ]
  },
  {
   "cell_type": "markdown",
   "metadata": {},
   "source": [
    "Identity matrix in NumPy is created by `np.eye`:"
   ]
  },
  {
   "cell_type": "code",
   "execution_count": 5,
   "metadata": {},
   "outputs": [
    {
     "data": {
      "text/plain": [
       "array([[1, 0, 0, 0],\n",
       "       [0, 1, 0, 0],\n",
       "       [0, 0, 1, 0],\n",
       "       [0, 0, 0, 1]], dtype=int32)"
      ]
     },
     "execution_count": 5,
     "metadata": {},
     "output_type": "execute_result"
    }
   ],
   "source": [
    "I = np.eye(4, dtype=np.int32)\n",
    "I"
   ]
  },
  {
   "cell_type": "markdown",
   "metadata": {},
   "source": [
    "`np.diag` can either create a diagonal matrix or extract the main diagonal of a matrix. Here we create a diagonal matrix:"
   ]
  },
  {
   "cell_type": "code",
   "execution_count": 6,
   "metadata": {},
   "outputs": [
    {
     "data": {
      "text/plain": [
       "array([[1, 0, 0],\n",
       "       [0, 2, 0],\n",
       "       [0, 0, 3]])"
      ]
     },
     "execution_count": 6,
     "metadata": {},
     "output_type": "execute_result"
    }
   ],
   "source": [
    "D = np.diag([1, 2, 3])\n",
    "D"
   ]
  },
  {
   "cell_type": "code",
   "execution_count": 9,
   "metadata": {},
   "outputs": [
    {
     "data": {
      "text/plain": [
       "array([[-0.44717254,  1.4078295 , -0.6438964 ],\n",
       "       [ 0.30502598,  1.0711746 ,  1.15591706],\n",
       "       [ 1.51407551,  1.83549146, -1.7051814 ]])"
      ]
     },
     "execution_count": 9,
     "metadata": {},
     "output_type": "execute_result"
    }
   ],
   "source": [
    "A = np.random.normal(size=(3, 3))\n",
    "A"
   ]
  },
  {
   "cell_type": "markdown",
   "metadata": {},
   "source": [
    "And here the extraction of the main diagonal happens:"
   ]
  },
  {
   "cell_type": "code",
   "execution_count": 11,
   "metadata": {},
   "outputs": [
    {
     "data": {
      "text/plain": [
       "array([-0.44717254,  1.0711746 , -1.7051814 ])"
      ]
     },
     "execution_count": 11,
     "metadata": {},
     "output_type": "execute_result"
    }
   ],
   "source": [
    "np.diag(A)"
   ]
  },
  {
   "cell_type": "markdown",
   "metadata": {},
   "source": [
    "## Matrix operations\n",
    "\n",
    "Перечислим поэлементные операции с матрицами. Пусть матрицы $\\boldsymbol A, \\boldsymbol B \\in \\mathbb R^{m\\times n}$, $\\alpha \\in \\mathbb R$, $1 \\leqslant i \\leqslant m$, $1\\leqslant j \\leqslant n$.\n",
    "\n",
    "* Сложение матриц: \n",
    "\n",
    "$$\n",
    "\\boldsymbol С = \\boldsymbol A + \\boldsymbol B \\iff  C_{ij} = A_{ij} + B_{ij}.\n",
    "$$\n",
    "\n",
    "* Умножение матрицы на скаляр: \n",
    "\n",
    "$$\n",
    "    \\boldsymbol B = \\alpha \\boldsymbol A \\iff B_{ij} = \\alpha A_{ij}.\n",
    "$$\n",
    "\n",
    "* Поэлементное умножение (**произведение Адамара**) и деление матриц:\n",
    "\n",
    "    $$\n",
    "        \\boldsymbol C = \\boldsymbol A \\odot \\boldsymbol B \\iff C_{ij} = A_{ij} B_{ij},\\quad\n",
    "        \\boldsymbol D = \\boldsymbol A \\oslash \\boldsymbol B \\iff D_{ij} = \\frac{A_{ij}}{B_{ij}}\n",
    "    $$\n",
    "\n",
    "    (последнее возможно, разумеется, только если все элементы матрицы $\\boldsymbol B$ не равны нулю). Стоит отметить, что под произведением матриц обычно понимают совсем иную операцию, нежели поэлементное умножение, и о ней предстоит отдельный разговор.\n",
    "\n",
    "Первые два свойства указывают на то, что матрицы можно рассматривать как вектора особого вида. Можно даже пойти дальше и записать матрицу размера $m\\times n$ в виде одномерного массива длины $mn$ (например, построчно), и получится вектор в чистом виде. Такая операция применяется, к примеру, в свёрточных нейронных сетях, когда на определённом этапе представленная матрицей или тензором картинка выпрямляется (flatten) в вектор для дальнейшего прохождения через один или несколько полносвязных слоёв.\n"
   ]
  },
  {
   "cell_type": "markdown",
   "metadata": {},
   "source": [
    "Matrix operations in NumPy are quite natrural:"
   ]
  },
  {
   "cell_type": "code",
   "execution_count": 15,
   "metadata": {},
   "outputs": [
    {
     "name": "stdout",
     "output_type": "stream",
     "text": [
      "[[ 0 -2  0]\n",
      " [ 1  1 -1]]\n",
      "[[1 2 3]\n",
      " [4 5 6]]\n"
     ]
    }
   ],
   "source": [
    "A = np.random.randint(-2, 3, size=(2, 3))\n",
    "B = np.arange(1, 7).reshape(2, 3)\n",
    "print(A)\n",
    "print(B)"
   ]
  },
  {
   "cell_type": "code",
   "execution_count": 16,
   "metadata": {},
   "outputs": [
    {
     "data": {
      "text/plain": [
       "array([[1, 0, 3],\n",
       "       [5, 6, 5]])"
      ]
     },
     "execution_count": 16,
     "metadata": {},
     "output_type": "execute_result"
    }
   ],
   "source": [
    "A + B"
   ]
  },
  {
   "cell_type": "code",
   "execution_count": 17,
   "metadata": {},
   "outputs": [
    {
     "data": {
      "text/plain": [
       "array([[-1, -4, -3],\n",
       "       [-3, -4, -7]])"
      ]
     },
     "execution_count": 17,
     "metadata": {},
     "output_type": "execute_result"
    }
   ],
   "source": [
    "A - B"
   ]
  },
  {
   "cell_type": "code",
   "execution_count": 18,
   "metadata": {},
   "outputs": [
    {
     "data": {
      "text/plain": [
       "array([[ 0, -4,  0],\n",
       "       [ 4,  5, -6]])"
      ]
     },
     "execution_count": 18,
     "metadata": {},
     "output_type": "execute_result"
    }
   ],
   "source": [
    "A * B"
   ]
  },
  {
   "cell_type": "code",
   "execution_count": 19,
   "metadata": {},
   "outputs": [
    {
     "data": {
      "text/plain": [
       "array([[ 0.        , -1.        ,  0.        ],\n",
       "       [ 0.25      ,  0.2       , -0.16666667]])"
      ]
     },
     "execution_count": 19,
     "metadata": {},
     "output_type": "execute_result"
    }
   ],
   "source": [
    "A / B"
   ]
  },
  {
   "cell_type": "markdown",
   "metadata": {},
   "source": [
    "\n",
    "## Matrix-vector product\n",
    "\n",
    "Чтобы матрицу $\\boldsymbol A$ можно было умножить на вектор $\\boldsymbol x$, число её столбцов должно совпадать с размерностью вектора $\\boldsymbol x$. Если $\\boldsymbol A \\in \\mathbb R^{m\\times n}$,  $\\boldsymbol x \\in \\mathbb R^n$, то  $\\boldsymbol A\\boldsymbol x =  \\boldsymbol b \\in \\mathbb R^m$; координаты вектора  $\\boldsymbol b$ вычисляются по формуле\n",
    "\n",
    "$$\n",
    "    b_i = \\sum\\limits_{j=1}^n A_{ij} x_j, \\quad 1 \\leqslant i \\leqslant m.\n",
    "$$\n",
    "\n",
    "По-другому можно сказать, что $b_i =  \\boldsymbol a_i^\\top  \\boldsymbol x$, где  $\\boldsymbol a_i^\\top$ — $i$-я строка матрицы  $\\boldsymbol A$. Таким образом, для умножения матрицы на вектор требуется вычислить $m$ скалярных произведений $n$-мерных векторов, поэтому сложность этих вычислений составляет $O(mn)$. Если матрица  $\\boldsymbol A$ квадратная размера $n\\times n$, то эта сложность равна $O(n^2)$.\n",
    "\n",
    "На матрично-векторное умножение можно взглянуть с другой стороны. А именно, если обозначить $j$-й столбец через $\\boldsymbol a_j$, то получается, что\n",
    "\n",
    "$$\n",
    "   \\boldsymbol b =  \\boldsymbol A\\boldsymbol x =  \\sum\\limits_{j=1}^n x_j \\boldsymbol a_j.\n",
    "$$\n",
    "\n",
    "Таким образом, вектор $\\boldsymbol b =  \\boldsymbol A\\boldsymbol x$ является линейной комбинацией столбцов матрицы $\\boldsymbol A$ с координатами вектора $\\boldsymbol x$ в качестве коэффициентов.\n",
    "\n",
    "Умножая матрицу на вектор-столбец, мы получаем снова вектор-столбец; умножение матрицы на вектор-строку записывают в обратном порядке:\n",
    "\n",
    "$$\n",
    "    \\boldsymbol y^\\top \\boldsymbol A = \\boldsymbol c^\\top,\\quad \\boldsymbol y \\in \\mathbb R^m, \\quad \\boldsymbol A \\in \\mathbb R^{m\\times n}, \\quad \\boldsymbol c \\in \\mathbb R^n, \\quad\n",
    "    c_j = \\sum\\limits_{i=1}^m y_i A_{ij}.\n",
    "$$\n",
    "\n",
    "Результат такого умножения представляет собой линейную комбинацию строк матрицы $\\boldsymbol A$:  $\\boldsymbol c^\\top = \\sum\\limits_{i=1}^m y_i \\boldsymbol a_i^\\top$. \n",
    "\n",
    "Заметим, что матрицу $\\boldsymbol A$ размера $1 \\times n$ можно представить в виде вектора-строки $\\boldsymbol a^\\top$. С другой стороны, согласно определению результат её умножения на вектор $\\boldsymbol x \\in \\mathbb R^n$ равен числу \n",
    "\n",
    "$$\n",
    "\\boldsymbol A \\boldsymbol x = \\boldsymbol a^\\top \\boldsymbol x = \\sum\\limits_{j=1}^n a_j x_j,\n",
    "$$\n",
    "\n",
    "а это в точности скалярное произведение $\\langle \\boldsymbol a, \\boldsymbol x\\rangle$. Отсюда и проистекает его весьма популярное обозначение через матрично-векторное произведение $\\boldsymbol a^\\top \\boldsymbol x$, которым мы также будем активно пользоваться в дальнейшем.\n"
   ]
  },
  {
   "cell_type": "markdown",
   "metadata": {},
   "source": [
    "Since matrix times vector operation is quite similar to inner products, the Python syntax is the same as {ref}`here <inner-python>`:"
   ]
  },
  {
   "cell_type": "code",
   "execution_count": 24,
   "metadata": {},
   "outputs": [
    {
     "data": {
      "text/plain": [
       "array([[0, 1, 2],\n",
       "       [3, 4, 5],\n",
       "       [6, 7, 8]])"
      ]
     },
     "execution_count": 24,
     "metadata": {},
     "output_type": "execute_result"
    }
   ],
   "source": [
    "A = np.arange(9).reshape(3, -1)\n",
    "b = np.array([2, 1, -1])\n",
    "A\n"
   ]
  },
  {
   "cell_type": "code",
   "execution_count": 25,
   "metadata": {},
   "outputs": [
    {
     "data": {
      "text/plain": [
       "(array([-1,  5, 11]), array([-1,  5, 11]), array([-1,  5, 11]))"
      ]
     },
     "execution_count": 25,
     "metadata": {},
     "output_type": "execute_result"
    }
   ],
   "source": [
    "A.dot(b), np.dot(A, b), A @ b"
   ]
  },
  {
   "cell_type": "markdown",
   "metadata": {},
   "source": [
    "## Matrix product\n",
    "\n",
    "Матрицу $\\boldsymbol A$ можно умножить на матрицу $\\boldsymbol B$, если количество столбцов матрицы $\\boldsymbol A$ равно числу строк матрицы $\\boldsymbol B$. А именно, **произведением** матриц $\\boldsymbol A \\in\\mathbb R^{m\\times n}$ и $\\boldsymbol B \\in\\mathbb R^{n\\times p}$ является матрица $\\boldsymbol C = \\boldsymbol A \\boldsymbol B \\in\\mathbb R^{m\\times p}$, каждый элемент которой равен\n",
    "\n",
    "$$\n",
    "    C_{ik} = \\sum\\limits_{j=1}^n A_{ij}B_{jk},\\quad 1\\leqslant i \\leqslant m, \\quad 1\\leqslant k \\leqslant p.\n",
    "$$\n",
    "\n",
    "Элементы матрицы $\\boldsymbol C$ можно записать в виде $C_{ik} = \\boldsymbol a_i^\\top \\boldsymbol b_k$, где $\\boldsymbol a_i^\\top$ — строки матрицы $\\boldsymbol A$, а $\\boldsymbol b_k$ — столбцы матрицы $\\boldsymbol B$. Вычисление каждого элемента $C_{ik}$ требует $O(n)$ арифметических операций, поэтому общая сложность подсчёта произведения матриц составляет $O(mnp)$. Если все матрицы квадратные размера $n\\times n$, то сложность будет $O(n^3)$.\n",
    "\n",
    "```{admonition} А быстрее можно?\n",
    ":class: dropdown\n",
    "\n",
    "[Алгоритм Штрассена](https://ru.wikipedia.org/wiki/%D0%90%D0%BB%D0%B3%D0%BE%D1%80%D0%B8%D1%82%D0%BC_%D0%A8%D1%82%D1%80%D0%B0%D1%81%D1%81%D0%B5%D0%BD%D0%B0) позволяет перемножать квадратные матрицы чуть быстрее, а именно за $O(n^{\\log_2 7})$, что примерно составляет $O(n^{2.81})$. Алгоритм Штрассена был разработан ещё в 1969 году, и с тех пор было предложено множество алгоритмов с лучшей асимптотикой. Подробнее про эту гонку можно почитать в этой [статье](https://www.quantamagazine.org/mathematicians-inch-closer-to-matrix-multiplication-goal-20210323/), где текущая SoTA указана как $O(n^{2.3728596})$. Математики не оставляют надежд добиться асимптотики $O(n^2)$ или хотя бы $O(n^{2+\\varepsilon})$ для любого сколь угодно малого $\\varepsilon > 0$, однако, все эти изыскания носят сугубо теоретический характер из-за гигантских констант в O-большом и сложности реализации подобных алгоритмов.\n",
    "\n",
    "Впрочем, сегодня новые алгоритмы перемножения матриц придумывают не только математики, но и нейронные сети.  Например, компания DeepMind с помощью глубокого обучения подкрепления разработала алгоритм [AlphaTensor](https://www.deepmind.com/blog/discovering-novel-algorithms-with-alphatensor) способный перемножать матрицы размера $5\\times 5$ эффективнее, чем алгоритм Штрассена ($76$ умножений против $80$).\n",
    "```\n",
    "\n",
    "Произведение матриц $\\boldsymbol A \\boldsymbol B$ можно представить также в виде набора столбцов, получающихся умножением матрицы $\\boldsymbol A$ на столбцы матрицы $\\boldsymbol B$: если $\\boldsymbol B = [\\boldsymbol b_1 \\ldots \\boldsymbol b_p]$, то\n",
    "\n",
    "$$\n",
    "\\boldsymbol A \\boldsymbol B = [\\boldsymbol A\\boldsymbol b_1 \\ldots \\boldsymbol A\\boldsymbol b_p].\n",
    "$$ \n",
    "\n",
    "Или же можно строки матрицы $\\boldsymbol A$ умножать на матрицу $\\boldsymbol B$: если\n",
    "\n",
    "$$\n",
    "    \\boldsymbol A  = \\begin{pmatrix}\n",
    "        \\boldsymbol a_1^\\top \\\\\n",
    "        \\boldsymbol a_2^\\top \\\\\n",
    "        \\vdots\\\\\n",
    "        \\boldsymbol a_m^\\top \\\\\n",
    "    \\end{pmatrix},\n",
    "    \\text{ то }\n",
    "    \\boldsymbol A \\boldsymbol B = \n",
    "    \\begin{pmatrix}\n",
    "        \\boldsymbol a_1^\\top \\boldsymbol B \\\\\n",
    "        \\boldsymbol a_2^\\top \\boldsymbol B \\\\\n",
    "        \\vdots\\\\\n",
    "        \\boldsymbol a_m^\\top \\boldsymbol B \\\\\n",
    "    \\end{pmatrix}.\n",
    "$$\n",
    "\n",
    "**Свойства матричного умножения** (предполагается, что размеры всех матриц согласованы)\n",
    "\n",
    "1. $(\\boldsymbol{AB})\\boldsymbol{C} = \\boldsymbol{A}(\\boldsymbol{BC})$ (ассоциативность)\n",
    "\n",
    "2. $(\\boldsymbol A + \\boldsymbol B)\\boldsymbol{C} = \\boldsymbol{AC} + \\boldsymbol{BC}$, $\\boldsymbol{C}(\\boldsymbol A + \\boldsymbol B) = \\boldsymbol{CA} + \\boldsymbol{CB}$ (дистрибутивность)\n",
    "\n",
    "3. $(\\boldsymbol{AB})^\\top = \\boldsymbol B^\\top \\boldsymbol A^\\top$\n",
    "\n",
    "4. $\\mathrm{tr}(\\boldsymbol{AB}) = \\mathrm{tr}(\\boldsymbol{BA})$ \n",
    "\n",
    "Последнее свойство обобщается до равенства $\\mathrm{tr}(\\boldsymbol{ABС}) = \\mathrm{tr}(\\boldsymbol{СAB})$, которое справедливо для любого числа сомножителей с согласованными размерами. Это так называемое **циклическое свойство** следа матрицы.\n",
    "\n",
    "Несколько дополнительных свойств для квадратных матриц:\n",
    "\n",
    "* $\\boldsymbol{AI} = \\boldsymbol{IA} = \\boldsymbol A$;\n",
    "\n",
    "* если $\\boldsymbol P$ — матрица перестановки, то матрица $\\boldsymbol{PA}$ получается из матрицы $\\boldsymbol A$ перестановкой строк, а матрица $\\boldsymbol{AP}$ — перестановкой столбцов;\n",
    "\n",
    "* произведение двух верхних (нижних) треугольных матриц тоже верхняя (нижняя) треугольная матрица;\n",
    "\n",
    "* если матрица $\\boldsymbol Q$ ортогональна, то $\\boldsymbol{QQ}^\\top = \\boldsymbol Q^\\top \\boldsymbol Q = \\boldsymbol I$.\n",
    "\n",
    "А вот коммутировать квадратные матрицы не обязаны: в общем случае $\\boldsymbol{AB} \\ne \\boldsymbol{BA}$ (поищите контрпример среди матриц размера $2\\times 2$).\n",
    "\n",
    "\n",
    "Квадратные матрицы можно возводить в натуральную степень так же, как и обычные числа. Вот, например, индуктивное определение степени матрицы:\n",
    "\n",
    "$$\n",
    "    \\boldsymbol A^n = \\boldsymbol A^{n-1} \\boldsymbol A, \\quad n\\in\\mathbb N,\\quad \\boldsymbol A^0 = \\boldsymbol I.\n",
    "$$\n",
    "\n",
    "Справедливы равенства \n",
    "\n",
    "$$\n",
    "    \\boldsymbol A^{m+n} = \\boldsymbol A^m\\boldsymbol A^n,\\quad \\boldsymbol A^{mn} = \\boldsymbol (\\boldsymbol A^m)^n, \\quad m, n \\in \\mathbb N.\n",
    "$$\n",
    "\n",
    "Можно даже пойти дальше, и определить взятие экспоненты или синуса от матрицы через ряд Тейлора:\n",
    "\n",
    "$$\n",
    "    \\exp(\\boldsymbol A) = \\sum\\limits_{n=0}^\\infty \\frac{\\boldsymbol A^n}{n!},\\quad\n",
    "    \\sin(\\boldsymbol A) = \\sum\\limits_{n=0}^\\infty (-1)^n\\frac{\\boldsymbol A^{2n+1}}{(2n+1)!}\n",
    "$$\n",
    "\n",
    "(можно доказать, что эти ряды сходятся).\n",
    "\n",
    "**Замечание**. В машинном (и особенно глубинном) обучении часто берут числовую функцию от матрицы, например $\\log(\\boldsymbol A)$, $\\tanh(\\boldsymbol A)$ или $\\sigma(\\boldsymbol A)$, где $\\sigma(x) = \\frac 1{1+e^{-x}}$ — сигмоида. Такая запись почти наверное подразумевает поэлементное применение функции к каждой ячейке матрицы $\\boldsymbol A$, а вовсе не матричные ряды! Тем более что матрицы в машинном обучении чаще всего прямоугольные, а для них нельзя определить ни степень, ни ряд.\n"
   ]
  },
  {
   "cell_type": "markdown",
   "metadata": {},
   "source": [
    "Matrix product in NumPy is similar to that of vectors:"
   ]
  },
  {
   "cell_type": "code",
   "execution_count": 26,
   "metadata": {},
   "outputs": [
    {
     "name": "stdout",
     "output_type": "stream",
     "text": [
      "(2, 3) (3, 4)\n"
     ]
    }
   ],
   "source": [
    "A = np.array([[1, 2, 3], [4, 5, 6]])\n",
    "B = np.arange(12).reshape(3, 4)\n",
    "print(A.shape, B.shape)"
   ]
  },
  {
   "cell_type": "code",
   "execution_count": 27,
   "metadata": {},
   "outputs": [
    {
     "data": {
      "text/plain": [
       "array([[ 32,  38,  44,  50],\n",
       "       [ 68,  83,  98, 113]])"
      ]
     },
     "execution_count": 27,
     "metadata": {},
     "output_type": "execute_result"
    }
   ],
   "source": [
    "A.dot(B)"
   ]
  },
  {
   "cell_type": "markdown",
   "metadata": {},
   "source": [
    "Exponent is elementwise:"
   ]
  },
  {
   "cell_type": "code",
   "execution_count": 28,
   "metadata": {},
   "outputs": [
    {
     "data": {
      "text/plain": [
       "array([[1.00000000e+00, 2.71828183e+00, 7.38905610e+00, 2.00855369e+01],\n",
       "       [5.45981500e+01, 1.48413159e+02, 4.03428793e+02, 1.09663316e+03],\n",
       "       [2.98095799e+03, 8.10308393e+03, 2.20264658e+04, 5.98741417e+04]])"
      ]
     },
     "execution_count": 28,
     "metadata": {},
     "output_type": "execute_result"
    }
   ],
   "source": [
    "np.exp(B)"
   ]
  },
  {
   "cell_type": "markdown",
   "metadata": {},
   "source": [
    "## One-rank matrix\n",
    "\n",
    "**Одноранговая матрица** задаётся произведением столбца на строку: $\\boldsymbol A = \\boldsymbol {uv}^\\top$, $\\boldsymbol u \\in \\mathbb R^m$, $\\boldsymbol v \\in \\mathbb R^n$. Элементы этой прямоугольной матрицы равны $A_{ij} = u_i v_j$, а все её строки/столбцы пропорциональны. Отметим также, что если $m=n$, то \n",
    "\n",
    "$$\n",
    "    \\mathrm{tr}(\\boldsymbol {uv}^\\top) = \\sum\\limits_{i=1}^n u_i v_i = \\boldsymbol v^\\top \\boldsymbol u = \\mathrm{tr}(\\boldsymbol v^\\top \\boldsymbol u).\n",
    "$$\n",
    "\n",
    "Произведение матриц $\\boldsymbol A \\in\\mathbb R^{m\\times n}$ и $\\boldsymbol B \\in\\mathbb R^{n\\times p}$ можно записать в виде суммы одноранговых матриц:\n",
    "\n",
    "$$\n",
    "    \\boldsymbol {AB} = [\\boldsymbol a_1, \\ldots, \\boldsymbol a_n] \\begin{pmatrix}\n",
    "        \\boldsymbol b_1^\\top \\\\\n",
    "        \\boldsymbol b_2^\\top \\\\\n",
    "        \\vdots\\\\\n",
    "        \\boldsymbol b_n^\\top \\\\\n",
    "    \\end{pmatrix} = \n",
    "    \\sum\\limits_{j=1}^n \\boldsymbol a_j  \\boldsymbol b_j^\\top.\n",
    "$$\n",
    "\n",
    "В англоязычной литературе умножение столбца на строку $\\boldsymbol {uv}^\\top$ называется **outer product** («внешнее произведение»), по аналогии со скалярным произведением  $\\boldsymbol u^\\top\\boldsymbol v$, называемым **inner product** («внутреннее произведение»).\n"
   ]
  },
  {
   "cell_type": "markdown",
   "metadata": {},
   "source": [
    "## Block matrices\n",
    "\n",
    "**Блочная матрица** имеет вид\n",
    "\n",
    "$$\n",
    "        \\begin{pmatrix}\n",
    "        \\boldsymbol A & \\boldsymbol B \\\\\n",
    "        \\boldsymbol C & \\boldsymbol D \n",
    "        \\end{pmatrix} =\n",
    "        \\left(\\begin{array}{@{}c|c@{}}\n",
    "        \\begin{matrix}\n",
    "            a_{11} & \\dots & a_{1m} \\\\\n",
    "            \\vdots & \\ddots & \\vdots \\\\\n",
    "            a_{k1} & \\dots & a_{km}\n",
    "        \\end{matrix}\n",
    "        &\n",
    "        \\begin{matrix}\n",
    "            b_{11} & \\dots & b_{1n} \\\\\n",
    "            \\vdots & \\ddots & \\vdots \\\\\n",
    "            b_{k1} & \\dots & b_{kn}\n",
    "        \\end{matrix} \\\\\n",
    "        \\hline\n",
    "        \\begin{matrix}\n",
    "            c_{11} & \\dots & c_{1m} \\\\\n",
    "            \\vdots & \\ddots & \\vdots \\\\\n",
    "            c_{\\ell 1} & \\dots & c_{\\ell m}\n",
    "        \\end{matrix} \n",
    "        &\n",
    "        \\begin{matrix}\n",
    "            d_{11} & \\dots & d_{1n} \\\\\n",
    "            \\vdots & \\ddots & \\vdots \\\\\n",
    "            d_{\\ell 1} & \\dots & d_{\\ell n}\n",
    "        \\end{matrix}\n",
    "        \\end{array}\\right).\n",
    "$$\n",
    "\n",
    "**Контрольный вопрос**. Каков будет результат транспонирования блочной матрицы\n",
    "\n",
    "$$\n",
    "    \\begin{pmatrix}\n",
    "        \\boldsymbol A & \\boldsymbol B \\\\\n",
    "        \\boldsymbol C & \\boldsymbol D \n",
    "    \\end{pmatrix},\n",
    "$$\n",
    "\n",
    "где $\\boldsymbol A \\in \\mathbb R^{k\\times m}$, $\\boldsymbol B \\in \\mathbb R^{k\\times n}$, $\\boldsymbol C \\in \\mathbb R^{\\ell\\times m}$, $\\boldsymbol D \\in \\mathbb R^{\\ell\\times n}$?\n",
    "\n",
    "<details>\n",
    " <summary markdown=\"span\">Ответ </summary>\n",
    "<div>\n",
    "Блоки $\\boldsymbol B$ и $\\boldsymbol C$ надо переставить, и не забыть ещё транспонировать каждый блок:\n",
    "\n",
    "$$\n",
    "    \\begin{pmatrix}\n",
    "        \\boldsymbol A^\\top & \\boldsymbol C^\\top \\\\\n",
    "        \\boldsymbol B^\\top & \\boldsymbol D^\\top \n",
    "    \\end{pmatrix}.\n",
    "$$\n",
    "\n",
    "</div>\n",
    "</details>\n",
    "\n",
    "Блочные матрицы могут иметь произвольное число матричных блоков по каждому измерению. Интересно, что перемножать блочные матрицы можно по тем же правилам, что и матрицы из чисел, например\n",
    "\n",
    "$$\n",
    "    \\begin{pmatrix}\n",
    "        \\boldsymbol A_{11} & \\boldsymbol A_{12} \\\\\n",
    "        \\boldsymbol A_{21} & \\boldsymbol A_{22} \n",
    "    \\end{pmatrix}\n",
    "    \\begin{pmatrix}\n",
    "        \\boldsymbol B_1 \\\\\n",
    "        \\boldsymbol B_2 \n",
    "    \\end{pmatrix} = \n",
    "    \\begin{pmatrix}\n",
    "        \\boldsymbol A_{11} \\boldsymbol B_1 + \\boldsymbol A_{12} \\boldsymbol B_2 \\\\\n",
    "        \\boldsymbol A_{21} \\boldsymbol B_1 + \\boldsymbol A_{22} \\boldsymbol B_2\n",
    "    \\end{pmatrix}\n",
    "$$\n",
    "\n",
    "(при условии, что размеры матриц позволяют корректно произвести все матричные умножения).\n"
   ]
  },
  {
   "cell_type": "markdown",
   "metadata": {},
   "source": [
    "## Exercises\n",
    "\n",
    "1. Prove that the rotation matrix {eq}`rotation-matrix` is orthogonal.\n",
    "\n",
    "2. Prove that any **reflection matrix** $\\boldsymbol I - 2\\boldsymbol u \\boldsymbol u^\\top$, $\\boldsymbol u \\in\\mathbb R^n$, $\\Vert \\boldsymbol u \\Vert_2 = 1$, is orthogonal.\n",
    "\n",
    "3. Prove that $\\mathrm{tr}(\\boldsymbol{AB}) = \\mathrm{tr}(\\boldsymbol{BA})$.\n",
    "\n",
    "4. Let $\\boldsymbol A$ and $\\boldsymbol B$ be two symmetric matrices of the same shape. Is their product is necessarily symmetric?"
   ]
  }
 ],
 "metadata": {
  "kernelspec": {
   "display_name": "Python 3",
   "language": "python",
   "name": "python3"
  },
  "language_info": {
   "codemirror_mode": {
    "name": "ipython",
    "version": 3
   },
   "file_extension": ".py",
   "mimetype": "text/x-python",
   "name": "python",
   "nbconvert_exporter": "python",
   "pygments_lexer": "ipython3",
   "version": "3.11.4"
  },
  "orig_nbformat": 4
 },
 "nbformat": 4,
 "nbformat_minor": 2
}
