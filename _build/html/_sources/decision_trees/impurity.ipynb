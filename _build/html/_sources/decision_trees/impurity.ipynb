{
 "cells": [
  {
   "cell_type": "markdown",
   "id": "913def18",
   "metadata": {},
   "source": [
    "# Impurity and information criterions\n",
    "\n",
    "Information criteria are statistical measures used to evaluate and compare different models, including decision trees, based on their ability to fit the data while penalizing for model complexity. Information criteria are often used during the process of splitting nodes in decision trees to determine the best feature and split point. Two common information criteria used in this context are the Gini impurity and entropy."
   ]
  },
  {
   "cell_type": "markdown",
   "id": "ea5fb29c",
   "metadata": {},
   "source": [
    "1. <h4>Gini Impurity:</h4>\n",
    "\n",
    "* Definition:\n",
    "Gini impurity is a measure of impurity or disorder in a set of data points. For a given node in a decision tree, the Gini impurity measures the probability of misclassifying a randomly chosen data point from that node.\n",
    "<br>\n",
    "\n",
    "* Mathematical Formulation: \n",
    "For a binary classification problem with two classes (0 and 1), the Gini impurity for a node is calculated as follows: $Gini(p) = 1 - (p_0^2 + p_1^2)$ where \n",
    "$p_0$  is the proportion of data points belonging to class 0, and $p_1$ is the proportion belonging to class 1.\n",
    "<br>\n",
    "\n",
    "* Splitting Criterion: \n",
    "When splitting a node in a decision tree, the Gini impurity is used to evaluate the impurity of potential child nodes created by different feature and split point choices. The split that results in the lowest Gini impurity is chosen.\n",
    "\n",
    "\n",
    "2. <h4>Entropy:</h4>\n",
    "\n",
    "* Definition: Entropy measures the level of disorder or uncertainty in a set of data points. In the context of decision trees, entropy quantifies the uncertainty in class labels at a node.\n",
    "<br>\n",
    "\n",
    "* Mathematical Formulation: For a binary classification problem, the entropy for a node is calculated as follows: $Entropy(p) = -p_0 \\log_2(p_0) - p_1 \\log_2(p_1) $ where $p_0$ and $p_1$ are the proportions of data points in class 0 and class 1, respectively.\n",
    "<br>\n",
    "\n",
    "* Splitting Criterion: Similar to Gini impurity, entropy is used as a criterion for selecting the best split during node splitting in a decision tree. The split that results in the lowest entropy is chosen.\n",
    "\n",
    "\n",
    "3. <h4>Decision Tree Splitting:</h4>\n",
    "\n",
    "* When building a decision tree, the goal is to find the feature and split point (threshold) that maximizes the reduction in impurity or entropy.\n",
    "* The information gain or reduction in impurity (measured by the initial impurity minus the impurity of child nodes) is used to determine the best split.\n",
    "* The feature and split point that result in the greatest information gain are chosen as the splitting criteria for the current node.\n",
    "* This process is applied recursively for each internal node, leading to the construction of a binary tree.\n",
    "\n",
    "In summary, information criteria such as Gini impurity and entropy play a crucial role in the splitting process of decision trees. They help evaluate the quality of splits and guide the tree construction by selecting the feature and split point that result in the most significant reduction in impurity or entropy, ultimately leading to a more interpretable and generalizable model."
   ]
  },
  {
   "cell_type": "code",
   "execution_count": null,
   "id": "c19ec03d",
   "metadata": {},
   "outputs": [],
   "source": []
  },
  {
   "cell_type": "code",
   "execution_count": null,
   "id": "9fe974c3",
   "metadata": {},
   "outputs": [],
   "source": []
  }
 ],
 "metadata": {
  "kernelspec": {
   "display_name": "Python 3 (ipykernel)",
   "language": "python",
   "name": "python3"
  },
  "language_info": {
   "codemirror_mode": {
    "name": "ipython",
    "version": 3
   },
   "file_extension": ".py",
   "mimetype": "text/x-python",
   "name": "python",
   "nbconvert_exporter": "python",
   "pygments_lexer": "ipython3",
   "version": "3.11.4"
  }
 },
 "nbformat": 4,
 "nbformat_minor": 5
}
